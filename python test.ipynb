{
 "cells": [
  {
   "cell_type": "code",
   "execution_count": 4,
   "id": "fd8ec7b0",
   "metadata": {},
   "outputs": [
    {
     "name": "stdout",
     "output_type": "stream",
     "text": [
      "\n",
      "\n",
      "[[5, 4, 1], [1, -9, 10]]\n"
     ]
    }
   ],
   "source": [
    "a=[[1,2],[3,-1]]\n",
    "b=[[1,-2,3],[2,3,-1]]\n",
    "arow=len(a)\n",
    "acol=len(a[0])\n",
    "brow=len(b)\n",
    "bcol=len(b[0])\n",
    "\n",
    "\n",
    "c=[[0 for i in range(bcol)] for i in range(arow)]\n",
    "\n",
    "for i in range(arow):\n",
    "    for j in range(bcol):\n",
    "        for k in range(arow):\n",
    "            c[i][j]+=a[i][k]*b[k][j]\n",
    "    print()\n",
    "print(c)\n"
   ]
  },
  {
   "cell_type": "code",
   "execution_count": 8,
   "id": "99ff264c",
   "metadata": {},
   "outputs": [
    {
     "name": "stdout",
     "output_type": "stream",
     "text": [
      "[[5, 4, 1], [1, -9, 10]]\n"
     ]
    }
   ],
   "source": [
    "n=[[1,2],[3,-1]]\n",
    "m=[[1,-2,3],[2,3,-1]]\n",
    "rown=len(n)\n",
    "coln=len(n[0])\n",
    "rowm=len(m)\n",
    "colm=len(m[0])\n",
    "p=[[0 for i in range(colm)] for i in range(rown)]\n",
    "for i in range(rown):\n",
    "    for j in range(colm):\n",
    "        for k in range(rown):\n",
    "            p[i][j]+=n[i][k]*m[k][j]\n",
    "print(p)"
   ]
  },
  {
   "cell_type": "code",
   "execution_count": 9,
   "id": "60a60042",
   "metadata": {},
   "outputs": [
    {
     "data": {
      "text/plain": [
       "7"
      ]
     },
     "execution_count": 9,
     "metadata": {},
     "output_type": "execute_result"
    }
   ],
   "source": [
    "def prime(n):\n",
    "    if n<2:\n",
    "        return n\n",
    "    for i in range(2,n):\n",
    "        if n%i==0:\n",
    "            return False\n",
    "    return True\n",
    "def nearprime(n):\n",
    "    if prime(n):\n",
    "        return n\n",
    "    lower=n-1\n",
    "    higher=n+1\n",
    "    while True:\n",
    "        if prime(lower):\n",
    "            return lower\n",
    "        if prime(higher):\n",
    "            return higher\n",
    "        lower-=1\n",
    "        higher+=1\n",
    "nearprime(9)"
   ]
  },
  {
   "cell_type": "code",
   "execution_count": 11,
   "id": "c8fe2ba2",
   "metadata": {},
   "outputs": [
    {
     "name": "stdout",
     "output_type": "stream",
     "text": [
      "[2, 3]\n"
     ]
    }
   ],
   "source": [
    "ip=[1,2,3,4,3,6,7,2]\n",
    "op=[]\n",
    "for i in ip:\n",
    "    if i not in op and ip.count(i)>1:\n",
    "        op.append(i)\n",
    "\n",
    "\n",
    "print(op)\n"
   ]
  },
  {
   "cell_type": "code",
   "execution_count": 17,
   "id": "1c455703",
   "metadata": {},
   "outputs": [
    {
     "name": "stdout",
     "output_type": "stream",
     "text": [
      "    *    \n",
      "   * *   \n",
      "  *   *  \n",
      " *     * \n",
      "  *   *  \n",
      "   * *   \n",
      "    *    \n"
     ]
    }
   ],
   "source": [
    "n=5\n",
    "for i in range(1,n):\n",
    "    s=\" \"*(n-i)\n",
    "    if i==1:\n",
    "        print(s+\"*\"+s)\n",
    "    else:\n",
    "        print(s+\"* \"+\"  \"*(i-2)+\"*\"+s)\n",
    "for i in range(n-2,0,-1):\n",
    "    s=\" \"*(n-i)\n",
    "    if i==1:\n",
    "        print(s+\"*\"+s)\n",
    "    else:\n",
    "        print(s+\"* \"+\"  \"*(i-2)+\"*\"+s)"
   ]
  },
  {
   "cell_type": "code",
   "execution_count": 20,
   "id": "b0c805dc",
   "metadata": {},
   "outputs": [
    {
     "name": "stdout",
     "output_type": "stream",
     "text": [
      "i am a python trainer\n"
     ]
    }
   ],
   "source": [
    "def replace(ip,old,new):\n",
    "    res=\"\"\n",
    "    i=0\n",
    "    while i<len(ip):\n",
    "        if ip[i:i+len(old)]==old:\n",
    "            res+=new\n",
    "            i+=len(old)\n",
    "        else:\n",
    "            res+=ip[i]\n",
    "            i+=1\n",
    "    return res\n",
    "\n",
    "ip= \"i am a java trainer\"\n",
    "old=\"java\"\n",
    "new=\"python\"\n",
    "print(replace(ip,old,new))\n"
   ]
  }
 ],
 "metadata": {
  "kernelspec": {
   "display_name": "Python 3",
   "language": "python",
   "name": "python3"
  },
  "language_info": {
   "codemirror_mode": {
    "name": "ipython",
    "version": 3
   },
   "file_extension": ".py",
   "mimetype": "text/x-python",
   "name": "python",
   "nbconvert_exporter": "python",
   "pygments_lexer": "ipython3",
   "version": "3.13.1"
  }
 },
 "nbformat": 4,
 "nbformat_minor": 5
}
