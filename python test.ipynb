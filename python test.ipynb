{
 "cells": [
  {
   "cell_type": "code",
   "execution_count": 4,
   "id": "fd8ec7b0",
   "metadata": {},
   "outputs": [
    {
     "name": "stdout",
     "output_type": "stream",
     "text": [
      "\n",
      "\n",
      "[[5, 4, 1], [1, -9, 10]]\n"
     ]
    }
   ],
   "source": [
    "a=[[1,2],[3,-1]]\n",
    "b=[[1,-2,3],[2,3,-1]]\n",
    "arow=len(a)\n",
    "acol=len(a[0])\n",
    "brow=len(b)\n",
    "bcol=len(b[0])\n",
    "\n",
    "\n",
    "c=[[0 for i in range(bcol)] for i in range(arow)]\n",
    "\n",
    "for i in range(arow):\n",
    "    for j in range(bcol):\n",
    "        for k in range(arow):\n",
    "            c[i][j]+=a[i][k]*b[k][j]\n",
    "    print()\n",
    "print(c)\n"
   ]
  },
  {
   "cell_type": "code",
   "execution_count": null,
   "id": "99ff264c",
   "metadata": {},
   "outputs": [
    {
     "name": "stdout",
     "output_type": "stream",
     "text": [
      "[[5, 4, 1], [1, -9, 10]]\n"
     ]
    }
   ],
   "source": [
    "n=[[1,2],[3,-1]]\n",
    "m=[[1,-2,3],[2,3,-1]]\n",
    "rown=len(n)\n",
    "coln=len(n[0])\n",
    "rowm=len(m)\n",
    "colm=len(m[0])\n",
    "p=[[0 for i in range(colm)] for i in range(rown)]\n",
    "for i in range(rown):\n",
    "    for j in range(colm):\n",
    "        for k in range(rown):\n",
    "            p[i][j]+=n[i][k]*m[k][j]\n",
    "print(p)"
   ]
  },
  {
   "cell_type": "code",
   "execution_count": 9,
   "id": "60a60042",
   "metadata": {},
   "outputs": [
    {
     "data": {
      "text/plain": [
       "7"
      ]
     },
     "execution_count": 9,
     "metadata": {},
     "output_type": "execute_result"
    }
   ],
   "source": [
    "def prime(n):\n",
    "    if n<2:\n",
    "        return n\n",
    "    for i in range(2,n):\n",
    "        if n%i==0:\n",
    "            return False\n",
    "    return True\n",
    "def nearprime(n):\n",
    "    if prime(n):\n",
    "        return n\n",
    "    lower=n-1\n",
    "    higher=n+1\n",
    "    while True:\n",
    "        if prime(lower):\n",
    "            return lower\n",
    "        if prime(higher):\n",
    "            return higher\n",
    "        lower-=1\n",
    "        higher+=1\n",
    "nearprime(9)"
   ]
  },
  {
   "cell_type": "code",
   "execution_count": 11,
   "id": "c8fe2ba2",
   "metadata": {},
   "outputs": [
    {
     "name": "stdout",
     "output_type": "stream",
     "text": [
      "[2, 3]\n"
     ]
    }
   ],
   "source": [
    "ip=[1,2,3,4,3,6,7,2]\n",
    "op=[]\n",
    "for i in ip:\n",
    "    if i not in op and ip.count(i)>1:\n",
    "        op.append(i)\n",
    "\n",
    "\n",
    "print(op)\n"
   ]
  },
  {
   "cell_type": "code",
   "execution_count": 17,
   "id": "1c455703",
   "metadata": {},
   "outputs": [
    {
     "name": "stdout",
     "output_type": "stream",
     "text": [
      "    *    \n",
      "   * *   \n",
      "  *   *  \n",
      " *     * \n",
      "  *   *  \n",
      "   * *   \n",
      "    *    \n"
     ]
    }
   ],
   "source": [
    "n=5\n",
    "for i in range(1,n):\n",
    "    s=\" \"*(n-i)\n",
    "    if i==1:\n",
    "        print(s+\"*\"+s)\n",
    "    else:\n",
    "        print(s+\"* \"+\"  \"*(i-2)+\"*\"+s)\n",
    "for i in range(n-2,0,-1):\n",
    "    s=\" \"*(n-i)\n",
    "    if i==1:\n",
    "        print(s+\"*\"+s)\n",
    "    else:\n",
    "        print(s+\"* \"+\"  \"*(i-2)+\"*\"+s)"
   ]
  },
  {
   "cell_type": "code",
   "execution_count": 21,
   "id": "b0c805dc",
   "metadata": {},
   "outputs": [
    {
     "name": "stdout",
     "output_type": "stream",
     "text": [
      "srbvbn\n"
     ]
    }
   ],
   "source": [
    "def replace(ip,old,new):\n",
    "    res=\"\"\n",
    "    i=0\n",
    "    while i<len(ip):\n",
    "        if ip[i:i+len(old)]==old:\n",
    "            res+=new\n",
    "            i+=len(old)\n",
    "        else:\n",
    "            res+=ip[i]\n",
    "            i+=1\n",
    "    return res\n",
    "\n",
    "ip= \"sravan\"\n",
    "old=\"a\"\n",
    "new=\"b\"\n",
    "print(replace(ip,old,new))\n"
   ]
  },
  {
   "cell_type": "code",
   "execution_count": null,
   "id": "cfe4f73c",
   "metadata": {},
   "outputs": [
    {
     "name": "stdout",
     "output_type": "stream",
     "text": [
      "False\n"
     ]
    }
   ],
   "source": [
    "def palim(s,p1,p2):\n",
    "    if p2<p1:\n",
    "        return True\n",
    "    if s[p1]==s[p2]:\n",
    "        return palim(s,p1+1,p2-1)\n",
    "    return False\n",
    "s=\"madam\"\n",
    "p1=0\n",
    "p2=len(s)-1\n",
    "print(palim(s,p1,p2))"
   ]
  },
  {
   "cell_type": "code",
   "execution_count": 29,
   "id": "2d1e289c",
   "metadata": {},
   "outputs": [
    {
     "name": "stdout",
     "output_type": "stream",
     "text": [
      "13\n"
     ]
    }
   ],
   "source": [
    "def fibona(n):\n",
    "    if n==1 or n==0:\n",
    "        return n\n",
    "    return fibona(n-1)+fibona(n-2)\n",
    "n=7\n",
    "print(fibona(n))"
   ]
  },
  {
   "cell_type": "code",
   "execution_count": 41,
   "id": "9ee32fe2",
   "metadata": {},
   "outputs": [
    {
     "name": "stdout",
     "output_type": "stream",
     "text": [
      "153\n"
     ]
    }
   ],
   "source": [
    "def amstrong(n):\n",
    "    m=n\n",
    "    temp=n\n",
    "    count=0\n",
    "    res=0\n",
    "    while m>0:\n",
    "        \n",
    "        count+=1\n",
    "        m//=10\n",
    "    while temp>0:\n",
    "        r=temp%10\n",
    "        res+=r**count\n",
    "        temp//=10\n",
    "    return n==res\n",
    "def nearamstrong(n):\n",
    "    if amstrong(n):\n",
    "        return n\n",
    "    upper=n+1\n",
    "    lower=n-1 \n",
    "    while True:\n",
    "        if amstrong(lower):\n",
    "            return lower\n",
    "        if amstrong(upper):\n",
    "            return upper\n",
    "        upper-=1\n",
    "        lower+=1\n",
    "    \n",
    "\n",
    "\n",
    "n=155\n",
    "\n",
    "print(nearamstrong(n))"
   ]
  },
  {
   "cell_type": "code",
   "execution_count": 53,
   "id": "0281dc63",
   "metadata": {},
   "outputs": [
    {
     "name": "stdout",
     "output_type": "stream",
     "text": [
      "24\n"
     ]
    }
   ],
   "source": [
    "n=4\n",
    "fact=1\n",
    "[fact:=fact*i for i in range(1,n+1)]\n",
    "print(fact)"
   ]
  },
  {
   "cell_type": "code",
   "execution_count": 57,
   "id": "21b3f8a0",
   "metadata": {},
   "outputs": [
    {
     "name": "stdout",
     "output_type": "stream",
     "text": [
      "(('sravani', 'female'), ('sravan', 'male'), ('kumar', 'male'), ('kumari', 'female'), ('lalitha', 'female'), ('lalith', 'male'), ('arjun', 'male'), ('lakshmi', 'female'), ('nandini', 'female'))\n"
     ]
    }
   ],
   "source": [
    "ip = ['sravani','sravan','kumar','kumari','lalitha','lalith','arjun','lakshmi','nandini']\n",
    "\n",
    "# Create list of tuples (name, gender)\n",
    "op = tuple((i, \"female\") if i.endswith((\"i\", \"a\", \"ni\")) else (i, \"male\") for i in ip)\n",
    "\n",
    "print(op)\n"
   ]
  },
  {
   "cell_type": "code",
   "execution_count": 60,
   "id": "00e19223",
   "metadata": {},
   "outputs": [
    {
     "name": "stdout",
     "output_type": "stream",
     "text": [
      "hElLO\n"
     ]
    }
   ],
   "source": [
    "def my_swapcase(s):\n",
    "    result = ''\n",
    "    for ch in s:\n",
    "        if 'a' <= ch <= 'z':\n",
    "            result += ch.upper()\n",
    "        elif 'A' <= ch <= 'Z':\n",
    "            result += ch.lower()\n",
    "        else:\n",
    "            result += ch\n",
    "    return result\n",
    "print(my_swapcase(\"HeLlo\"))\n"
   ]
  },
  {
   "cell_type": "code",
   "execution_count": 61,
   "id": "afaf55e0",
   "metadata": {},
   "outputs": [
    {
     "name": "stdout",
     "output_type": "stream",
     "text": [
      "helloworld\n"
     ]
    }
   ],
   "source": [
    "\n",
    "\n",
    "\n",
    "def space(n):\n",
    "   \n",
    "    result=\"\"\n",
    "    for i in n:\n",
    "        if i != \" \":\n",
    "            result+=i\n",
    "    return result\n",
    "n=\"hello world\"\n",
    "print(space(n))"
   ]
  },
  {
   "cell_type": "code",
   "execution_count": 67,
   "id": "edfcc5d4",
   "metadata": {},
   "outputs": [
    {
     "name": "stdout",
     "output_type": "stream",
     "text": [
      "['hi', 'cat', 'apple', 'banana', 'python']\n"
     ]
    }
   ],
   "source": [
    "def sort(n):\n",
    "    for i in range(len(n)):\n",
    "        for j in range(len(n)-1):\n",
    "            if len(n[j])>len(n[j+1]):\n",
    "                n[j],n[j+1]=n[j+1],n[j]\n",
    "    return n\n",
    "n = [\"apple\", \"hi\", \"banana\", \"cat\", \"python\"]\n",
    "print(sort(n))\n"
   ]
  }
 ],
 "metadata": {
  "kernelspec": {
   "display_name": "Python 3",
   "language": "python",
   "name": "python3"
  },
  "language_info": {
   "codemirror_mode": {
    "name": "ipython",
    "version": 3
   },
   "file_extension": ".py",
   "mimetype": "text/x-python",
   "name": "python",
   "nbconvert_exporter": "python",
   "pygments_lexer": "ipython3",
   "version": "3.13.1"
  }
 },
 "nbformat": 4,
 "nbformat_minor": 5
}
