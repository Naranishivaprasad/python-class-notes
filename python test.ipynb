{
 "cells": [
  {
   "cell_type": "code",
   "execution_count": 4,
   "id": "fd8ec7b0",
   "metadata": {},
   "outputs": [
    {
     "name": "stdout",
     "output_type": "stream",
     "text": [
      "\n",
      "\n",
      "[[5, 4, 1], [1, -9, 10]]\n"
     ]
    }
   ],
   "source": [
    "a=[[1,2],[3,-1]]\n",
    "b=[[1,-2,3],[2,3,-1]]\n",
    "arow=len(a)\n",
    "acol=len(a[0])\n",
    "brow=len(b)\n",
    "bcol=len(b[0])\n",
    "\n",
    "\n",
    "c=[[0 for i in range(bcol)] for i in range(arow)]\n",
    "\n",
    "for i in range(arow):\n",
    "    for j in range(bcol):\n",
    "        for k in range(arow):\n",
    "            c[i][j]+=a[i][k]*b[k][j]\n",
    "    print()\n",
    "print(c)\n"
   ]
  },
  {
   "cell_type": "code",
   "execution_count": null,
   "id": "99ff264c",
   "metadata": {},
   "outputs": [],
   "source": []
  }
 ],
 "metadata": {
  "kernelspec": {
   "display_name": "Python 3",
   "language": "python",
   "name": "python3"
  },
  "language_info": {
   "codemirror_mode": {
    "name": "ipython",
    "version": 3
   },
   "file_extension": ".py",
   "mimetype": "text/x-python",
   "name": "python",
   "nbconvert_exporter": "python",
   "pygments_lexer": "ipython3",
   "version": "3.13.1"
  }
 },
 "nbformat": 4,
 "nbformat_minor": 5
}
