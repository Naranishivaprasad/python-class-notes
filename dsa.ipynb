{
 "cells": [
  {
   "cell_type": "code",
   "execution_count": null,
   "id": "2c267470",
   "metadata": {},
   "outputs": [
    {
     "name": "stdout",
     "output_type": "stream",
     "text": [
      "enter the number between 0 to 6\n"
     ]
    }
   ],
   "source": [
    "n=[23,5,11,-8,5,7]\n",
    "test=4\n",
    "for i in range(test):\n",
    "    print(f\"enter the number between {0} to {len(n)}\")\n",
    "    a,b=int(input()),int(input())   \n",
    "    print(a,b) \n",
    "    print(sum(n[a:b+1]))"
   ]
  },
  {
   "cell_type": "code",
   "execution_count": 16,
   "id": "396bd1dc",
   "metadata": {},
   "outputs": [
    {
     "name": "stdout",
     "output_type": "stream",
     "text": [
      "0 \n",
      "1 1 \n",
      "2 3 5 \n",
      "8 13 21 34 \n"
     ]
    }
   ],
   "source": [
    "n=5\n",
    "a,b=0,1\n",
    "\n",
    "for i in range(1,n):\n",
    "    for j in range(i):\n",
    "        print(a,end=\" \")\n",
    "        a,b=b,a+b\n",
    "    print()\n",
    "    "
   ]
  },
  {
   "cell_type": "code",
   "execution_count": 19,
   "id": "608edbef",
   "metadata": {},
   "outputs": [
    {
     "name": "stdout",
     "output_type": "stream",
     "text": [
      "13\n"
     ]
    }
   ],
   "source": [
    "def fibona(n):\n",
    "    if n==0:\n",
    "        return 0\n",
    "    if n==1 :\n",
    "        return 1\n",
    "    return fibona(n-1)+fibona(n-2)\n",
    "n=7\n",
    "print(fibona(n))"
   ]
  },
  {
   "cell_type": "markdown",
   "id": "dc6185e0",
   "metadata": {},
   "source": []
  }
 ],
 "metadata": {
  "kernelspec": {
   "display_name": "Python 3",
   "language": "python",
   "name": "python3"
  },
  "language_info": {
   "codemirror_mode": {
    "name": "ipython",
    "version": 3
   },
   "file_extension": ".py",
   "mimetype": "text/x-python",
   "name": "python",
   "nbconvert_exporter": "python",
   "pygments_lexer": "ipython3",
   "version": "3.13.1"
  }
 },
 "nbformat": 4,
 "nbformat_minor": 5
}
