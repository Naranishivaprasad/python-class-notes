{
 "cells": [
  {
   "cell_type": "code",
   "execution_count": 1,
   "id": "d8f20ba3",
   "metadata": {},
   "outputs": [
    {
     "name": "stdout",
     "output_type": "stream",
     "text": [
      "6\n"
     ]
    }
   ],
   "source": [
    "# 1.sum of the digits in the number\n",
    "\n",
    "x=123\n",
    "y=0\n",
    "while x>0:\n",
    "    y+=x%10\n",
    "    x//=10\n",
    "print(y)    \n"
   ]
  },
  {
   "cell_type": "code",
   "execution_count": 2,
   "id": "accc5214",
   "metadata": {},
   "outputs": [
    {
     "name": "stdout",
     "output_type": "stream",
     "text": [
      "321\n"
     ]
    }
   ],
   "source": [
    "# write a program to print reverse of the given number.\n",
    "\n",
    "x=123\n",
    "y=0\n",
    "while x>0:\n",
    "    d=x%10\n",
    "    y=y*10+d\n",
    "    x//=10\n",
    "print(y)\n",
    "\n",
    "    "
   ]
  },
  {
   "cell_type": "code",
   "execution_count": 1,
   "id": "2eb54622",
   "metadata": {},
   "outputs": [
    {
     "name": "stdout",
     "output_type": "stream",
     "text": [
      "120\n"
     ]
    }
   ],
   "source": [
    "#write factorial of the number\n",
    "x=5\n",
    "fact=1\n",
    "for i in range(1,x+1):\n",
    "    fact*=i\n",
    "print(fact)    \n",
    "\n",
    "\n"
   ]
  },
  {
   "cell_type": "code",
   "execution_count": null,
   "id": "a585b43a",
   "metadata": {},
   "outputs": [
    {
     "name": "stdout",
     "output_type": "stream",
     "text": [
      "23\n"
     ]
    }
   ],
   "source": [
    "name=\"1234\"\n",
    "length=len(name)\n",
    "middle=\"\"\n",
    "if len(name)%2==0:\n",
    "    r=len(name)//2\n",
    "    middle=name[r-1]+name[r]\n",
    "else:\n",
    "    r=len(name)//2\n",
    "    middle=name[r]\n",
    "print(middle)\n",
    "\n"
   ]
  },
  {
   "cell_type": "code",
   "execution_count": null,
   "id": "5df4b2db",
   "metadata": {},
   "outputs": [
    {
     "name": "stdout",
     "output_type": "stream",
     "text": [
      "[5, 6]\n"
     ]
    }
   ],
   "source": [
    "name=1234567890\n",
    "new=name\n",
    "count=0\n",
    "l1=[]\n",
    "\n",
    "while name>0:\n",
    "    d=name%10\n",
    "    count+=1\n",
    "    name//=10\n",
    "if count%2!=0:\n",
    "    middle=count//2+1\n",
    "    while count>0:\n",
    "        a=new%10\n",
    "        if count==middle:\n",
    "            l1= [a] + l1\n",
    "        new//=10\n",
    "        count-=1\n",
    "else:\n",
    "    middle=[count//2+1,count//2]\n",
    "    while count>0:\n",
    "        a=new%10\n",
    "        if count in middle:\n",
    "            l1= [a] + l1\n",
    "        new//=10\n",
    "        count-=1\n",
    "print(l1)\n",
    "\n",
    "        \n",
    "    \n",
    "   \n",
    "     "
   ]
  },
  {
   "cell_type": "code",
   "execution_count": null,
   "id": "14788ec1",
   "metadata": {},
   "outputs": [],
   "source": [
    "num=75547\n",
    "m=num\n",
    "temp=m\n",
    "\n",
    "count=0\n",
    "while num>0:\n",
    "    first=num%10 #first\n",
    "    count+=1\n",
    "    num//=10\n",
    "\n",
    "last=m%10 # last\n",
    "print(last)\n",
    "middle_part=m//10\n",
    "print(middle_part)\n",
    "i=0\n",
    "power=1\n",
    "while i< count-2:\n",
    "    power=power*10\n",
    "    i+=1\n",
    "\n",
    "middle_num=middle_part%power\n",
    "print(middle_num)\n",
    "total=0\n",
    "while middle_num>0:\n",
    "     k=middle_num%10\n",
    "     total+=k\n",
    "     middle_num//=10\n",
    "print(total)\n",
    "if((first+last)==total):\n",
    "    print(\"equal\")\n",
    "else:\n",
    "    print(\"not equal\")\n"
   ]
  },
  {
   "cell_type": "code",
   "execution_count": null,
   "id": "f0e00282",
   "metadata": {},
   "outputs": [
    {
     "name": "stdout",
     "output_type": "stream",
     "text": [
      "[1, 2, 3, 4]\n",
      "2\n",
      "3\n"
     ]
    }
   ],
   "source": [
    "l1=[]\n",
    "ip=1234\n",
    "temp=str(ip)\n",
    "for x in temp:\n",
    "    l1+=[int(x)]\n",
    "print(l1)\n",
    "for y in range (1,len(l1)-1):\n",
    "     if (l1[0]<l1[y]) and (l1[len(l1)-1]<l1[y]):\n",
    "          print(True)\n",
    "     else:\n",
    "          print(l1[y])\n"
   ]
  },
  {
   "cell_type": "code",
   "execution_count": 71,
   "id": "9a328105",
   "metadata": {},
   "outputs": [
    {
     "name": "stdout",
     "output_type": "stream",
     "text": [
      "o\n",
      "o\n",
      "e\n"
     ]
    }
   ],
   "source": [
    "ip=\"helloworld\"\n",
    "v=\"aeiou\"\n",
    "for x in ip[::-1]:\n",
    "    if x in v:\n",
    "        print(x)\n"
   ]
  },
  {
   "cell_type": "code",
   "execution_count": 202,
   "id": "d73d7b27",
   "metadata": {},
   "outputs": [
    {
     "name": "stdout",
     "output_type": "stream",
     "text": [
      "ao\n"
     ]
    }
   ],
   "source": [
    "ip=\"Jacksparrow\"\n",
    "v=\"aeiou\"\n",
    "vo=\"\"\n",
    "for x in ip :\n",
    "    if x in v and x not in vo :\n",
    "        vo+=x\n",
    "print(vo)\n",
    "\n"
   ]
  },
  {
   "cell_type": "code",
   "execution_count": 117,
   "id": "662c4af3",
   "metadata": {},
   "outputs": [
    {
     "name": "stdout",
     "output_type": "stream",
     "text": [
      "d\n"
     ]
    }
   ],
   "source": [
    "ip = \"madam\"\n",
    "result = \"\"\n",
    "for ch in ip:\n",
    "    if ip.count(ch) == 1:\n",
    "        result += ch\n",
    "print(result)\n"
   ]
  },
  {
   "cell_type": "code",
   "execution_count": 121,
   "id": "be82daac",
   "metadata": {},
   "outputs": [
    {
     "name": "stdout",
     "output_type": "stream",
     "text": [
      "jOHNwICK\n"
     ]
    }
   ],
   "source": [
    "ip=\"JohnWick\"\n",
    "op=\"\"\n",
    "for x in ip:\n",
    "    cap=ord(x)\n",
    "    if (cap>=65 and cap<=90):\n",
    "        op+=chr(cap+32)\n",
    "    elif(cap>= 97 and cap<=122):\n",
    "        op+=chr(cap-32)\n",
    "    else:\n",
    "        op+=x\n",
    "print(op)\n"
   ]
  },
  {
   "cell_type": "code",
   "execution_count": null,
   "id": "02609bce",
   "metadata": {},
   "outputs": [
    {
     "name": "stdout",
     "output_type": "stream",
     "text": [
      "BNoody\n"
     ]
    }
   ],
   "source": [
    "n=\"NoBody\"\n",
    "upper=\"\"\n",
    "lower=\"\"\n",
    "for i in n:\n",
    "    if(ord(i)>=65 and ord(i)<=90):\n",
    "        upper+=i\n",
    "    elif( ord(i)>=97 and ord(i)<=122):\n",
    "        lower+=i\n",
    "upper_reverse=\"\"\n",
    "i=len(upper)-1\n",
    "while i>=0:\n",
    "    upper_reverse+=upper[i]\n",
    "    i-=1\n",
    "print(upper_reverse+lower)\n"
   ]
  },
  {
   "cell_type": "code",
   "execution_count": 138,
   "id": "f5735fbb",
   "metadata": {},
   "outputs": [
    {
     "name": "stdout",
     "output_type": "stream",
     "text": [
      "24\n"
     ]
    }
   ],
   "source": [
    "a=789\n",
    "f=0\n",
    "while a>0:\n",
    "    d=a%10\n",
    "    f+=d\n",
    "    a//=10\n",
    "print(f)\n"
   ]
  },
  {
   "cell_type": "code",
   "execution_count": 139,
   "id": "e3bfa0c0",
   "metadata": {},
   "outputs": [
    {
     "name": "stdout",
     "output_type": "stream",
     "text": [
      "4321\n"
     ]
    }
   ],
   "source": [
    "a=1234\n",
    "f=0\n",
    "while a>0:\n",
    "    d=a%10\n",
    "    f=f*10+d\n",
    "    a//=10\n",
    "print(f)"
   ]
  },
  {
   "cell_type": "code",
   "execution_count": 143,
   "id": "db24cc08",
   "metadata": {},
   "outputs": [
    {
     "name": "stdout",
     "output_type": "stream",
     "text": [
      "120\n"
     ]
    }
   ],
   "source": [
    "a=5\n",
    "fact=1\n",
    "for i in range(1,a+1):\n",
    "    fact*=i\n",
    "print(fact)\n"
   ]
  },
  {
   "cell_type": "code",
   "execution_count": 156,
   "id": "332d411b",
   "metadata": {},
   "outputs": [
    {
     "name": "stdout",
     "output_type": "stream",
     "text": [
      "d\n"
     ]
    }
   ],
   "source": [
    "a=\"abcdefg\"\n",
    "middle=\"\"\n",
    "count=0\n",
    "\n",
    "for i in range(0,len(a)):\n",
    "     count+=1\n",
    "if count%2==0:\n",
    "     middlevalue=count//2\n",
    "     print(a[middlevalue-1], a[middlevalue])\n",
    "else:\n",
    "     middlevalue=count//2\n",
    "     print(a[middlevalue])"
   ]
  },
  {
   "cell_type": "code",
   "execution_count": 172,
   "id": "186a1666",
   "metadata": {},
   "outputs": [
    {
     "name": "stdout",
     "output_type": "stream",
     "text": [
      "not equal\n"
     ]
    }
   ],
   "source": [
    "a=755457\n",
    "s=str(a)\n",
    "first=int(s[0])\n",
    "last=a%10\n",
    "middle=0\n",
    "for x in range(1,len(s)-1):\n",
    "    middle+=int(s[x])\n",
    "\n",
    "if((first+last)==middle):\n",
    "    print(\"equal\")\n",
    "else:\n",
    "    print(\"not equal\")\n"
   ]
  },
  {
   "cell_type": "code",
   "execution_count": null,
   "id": "c1b084b2",
   "metadata": {},
   "outputs": [
    {
     "name": "stdout",
     "output_type": "stream",
     "text": [
      "7\n"
     ]
    },
    {
     "ename": "TypeError",
     "evalue": "'int' object is not subscriptable",
     "output_type": "error",
     "traceback": [
      "\u001b[31m---------------------------------------------------------------------------\u001b[39m",
      "\u001b[31mTypeError\u001b[39m                                 Traceback (most recent call last)",
      "\u001b[36mCell\u001b[39m\u001b[36m \u001b[39m\u001b[32mIn[3]\u001b[39m\u001b[32m, line 15\u001b[39m\n\u001b[32m     12\u001b[39m     \u001b[38;5;28;01mreturn\u001b[39;00m \u001b[38;5;28;01mTrue\u001b[39;00m\n\u001b[32m     14\u001b[39m num()\n\u001b[32m---> \u001b[39m\u001b[32m15\u001b[39m result=\u001b[43ma\u001b[49m\u001b[43m[\u001b[49m\u001b[32;43m0\u001b[39;49m\u001b[43m:\u001b[49m\u001b[32;43m1\u001b[39;49m\u001b[43m]\u001b[49m\n\u001b[32m     16\u001b[39m \u001b[38;5;28mprint\u001b[39m(result)\n",
      "\u001b[31mTypeError\u001b[39m: 'int' object is not subscriptable"
     ]
    }
   ],
   "source": [
    "a=75547\n",
    "s=str(a)\n",
    "def num():\n",
    "\n",
    "\n",
    "    last=a%10\n",
    "    first=int(s[0])\n",
    "    print(first)\n",
    "    for i in range(1,len(s)-1):\n",
    "        if(first<int(s[i]) and last<int(s[i])):\n",
    "            return False\n",
    "    return True\n",
    "\n",
    "num()\n"
   ]
  },
  {
   "cell_type": "code",
   "execution_count": 199,
   "id": "4d538404",
   "metadata": {},
   "outputs": [
    {
     "name": "stdout",
     "output_type": "stream",
     "text": [
      "o\n",
      "o\n",
      "e\n"
     ]
    }
   ],
   "source": [
    "x=\"helloworld\"\n",
    "v=\"aeiou\"\n",
    "for i in range(len(x)-1,-1,-1):\n",
    "    t=x[i]\n",
    "    if t in v:\n",
    "        print(t)"
   ]
  },
  {
   "cell_type": "code",
   "execution_count": 205,
   "id": "133fe58a",
   "metadata": {},
   "outputs": [
    {
     "name": "stdout",
     "output_type": "stream",
     "text": [
      "oe\n"
     ]
    }
   ],
   "source": [
    "x=\"helloworld\"\n",
    "v=\"aeiou\"\n",
    "k=\"\"\n",
    "for i in range(len(x)-1,-1,-1):\n",
    "    t=x[i]\n",
    "   \n",
    "    if t in v and t not in k:\n",
    "        k+=t\n",
    "print(k)\n",
    "   \n"
   ]
  },
  {
   "cell_type": "code",
   "execution_count": 2,
   "id": "882bf501",
   "metadata": {},
   "outputs": [
    {
     "name": "stdout",
     "output_type": "stream",
     "text": [
      "d\n"
     ]
    }
   ],
   "source": [
    "a=\"madam\"\n",
    "x=\"\"\n",
    "for i in a:\n",
    "    \n",
    "    if a.count(i)==1:\n",
    "        x+=i\n",
    "print(x)"
   ]
  },
  {
   "cell_type": "code",
   "execution_count": 210,
   "id": "9829cb72",
   "metadata": {},
   "outputs": [
    {
     "name": "stdout",
     "output_type": "stream",
     "text": [
      "jOHNwICK\n"
     ]
    }
   ],
   "source": [
    "ip=\"JohnWick\"\n",
    "op=\"\"\n",
    "for i in range(0,len(ip)):\n",
    "    t=ord(ip[i])\n",
    "    if t>=65 and t<=90:\n",
    "        op+=chr(t+32)\n",
    "    elif t>=97 and t<=122:\n",
    "        op+=chr(t-32)\n",
    "    else:\n",
    "        op+=t\n",
    "print(op)"
   ]
  },
  {
   "cell_type": "code",
   "execution_count": 213,
   "id": "883b4258",
   "metadata": {},
   "outputs": [
    {
     "name": "stdout",
     "output_type": "stream",
     "text": [
      "WJohnick\n"
     ]
    }
   ],
   "source": [
    "ip=\"JohnWick\"\n",
    "cap=\"\"\n",
    "sml=\"\"\n",
    "for i in range(0,len(ip)):\n",
    "    t=ord(ip[i])\n",
    "    if t>=65 and t<=90:\n",
    "        cap+=chr(t)\n",
    "    else:\n",
    "        sml+=chr(t)\n",
    "print(cap[::-1]+sml)"
   ]
  },
  {
   "cell_type": "code",
   "execution_count": 224,
   "id": "6b7cd4da",
   "metadata": {},
   "outputs": [
    {
     "name": "stdout",
     "output_type": "stream",
     "text": [
      "[1, 2, 3, 4, 5]\n"
     ]
    }
   ],
   "source": [
    "def remove_duplicates(arr):\n",
    "    seen = set()\n",
    "    result = []\n",
    "    for num in arr:\n",
    "        if num not in result:\n",
    "            result.append(num)\n",
    "            \n",
    "    return result\n",
    "\n",
    "# Test case\n",
    "input_arr = [1, 2, 2, 3, 4, 4, 5]\n",
    "output_arr = remove_duplicates(input_arr)\n",
    "print(output_arr)  # Output: [1, 2, 3, 4, 5]\n"
   ]
  },
  {
   "cell_type": "code",
   "execution_count": 1,
   "id": "84a25a72",
   "metadata": {},
   "outputs": [
    {
     "name": "stdout",
     "output_type": "stream",
     "text": [
      "3\n",
      "lll\n"
     ]
    }
   ],
   "source": [
    "ip= \"hello wrld\"\n",
    "v=\"\"\n",
    "op=\"\"\n",
    "count=0\n",
    "for i in ip:\n",
    "    if ip.count(i)!=1:\n",
    "        count+=1\n",
    "        op+=i\n",
    "print(count)\n",
    "print(op)\n",
    "\n"
   ]
  },
  {
   "cell_type": "code",
   "execution_count": 245,
   "id": "eb030029",
   "metadata": {},
   "outputs": [
    {
     "name": "stdout",
     "output_type": "stream",
     "text": [
      "True\n"
     ]
    }
   ],
   "source": [
    "a=\"1234\"\n",
    "print(a.isdigit())"
   ]
  },
  {
   "cell_type": "code",
   "execution_count": 232,
   "id": "4de67c6e",
   "metadata": {},
   "outputs": [
    {
     "name": "stdout",
     "output_type": "stream",
     "text": [
      "[1, 2, 3, 4, 5]\n"
     ]
    }
   ],
   "source": [
    "arrr=[1,2,3,4,5]\n",
    "op=[]\n",
    "for num in range(0,len(arrr)):\n",
    "    op+=[arrr[num]]\n",
    "print(op)\n"
   ]
  },
  {
   "cell_type": "code",
   "execution_count": 236,
   "id": "9d063404",
   "metadata": {},
   "outputs": [
    {
     "name": "stdout",
     "output_type": "stream",
     "text": [
      "6\n"
     ]
    }
   ],
   "source": [
    "arr=[1,2,3,4,5]\n",
    "op=0\n",
    "for num in range(0,len(arr)):\n",
    "    t=arr[num]\n",
    "    if(t%2==0):\n",
    "        op+=t\n",
    "        \n",
    "print(op)"
   ]
  },
  {
   "cell_type": "code",
   "execution_count": 262,
   "id": "cded35c7",
   "metadata": {},
   "outputs": [
    {
     "name": "stdout",
     "output_type": "stream",
     "text": [
      "123\n"
     ]
    }
   ],
   "source": [
    "a=\"123\"\n",
    "k=0\n",
    "for i in a:\n",
    "  \n",
    "    if '1'<=i<='9':\n",
    "        digit=ord(i)-ord('0')\n",
    "        k=k*10+digit\n",
    "print(k)\n",
    "        "
   ]
  },
  {
   "cell_type": "code",
   "execution_count": 267,
   "id": "2c75725f",
   "metadata": {},
   "outputs": [
    {
     "name": "stdout",
     "output_type": "stream",
     "text": [
      "2\n",
      "ll\n"
     ]
    }
   ],
   "source": [
    "a=\"hello\"\n",
    "s=\"\"\n",
    "count=0\n",
    "for i in a:\n",
    "    if a.count(i)!=1:\n",
    "        s+=i\n",
    "        count+=1\n",
    "print(count)\n",
    "print(s)\n",
    "        \n"
   ]
  },
  {
   "cell_type": "code",
   "execution_count": 268,
   "id": "eb1a4955",
   "metadata": {},
   "outputs": [
    {
     "name": "stdout",
     "output_type": "stream",
     "text": [
      "a\n",
      "a\n",
      "a\n",
      "a\n",
      "a\n"
     ]
    }
   ],
   "source": [
    "a=5\n",
    "for i in range(5):\n",
    "    print(\"a\")"
   ]
  },
  {
   "cell_type": "code",
   "execution_count": 1,
   "id": "2fd52a94",
   "metadata": {},
   "outputs": [
    {
     "name": "stdout",
     "output_type": "stream",
     "text": [
      "* * * * \n",
      "* * * * \n",
      "* * * * \n",
      "* * * * \n"
     ]
    }
   ],
   "source": [
    "n=4\n",
    "for i in range(n):\n",
    "    for j in range(n):\n",
    "        print(\"*\",end=\" \")\n",
    "    print()\n",
    "    "
   ]
  },
  {
   "cell_type": "code",
   "execution_count": 2,
   "id": "63a12de6",
   "metadata": {},
   "outputs": [
    {
     "name": "stdout",
     "output_type": "stream",
     "text": [
      "* * * * \n",
      "* * * * \n",
      "* * * * \n"
     ]
    }
   ],
   "source": [
    "n=3\n",
    "m=4\n",
    "for i in range(n):\n",
    "    for j in range(m):\n",
    "        print(\"*\",end=\" \")\n",
    "    print()"
   ]
  },
  {
   "cell_type": "code",
   "execution_count": 3,
   "id": "731eaafd",
   "metadata": {},
   "outputs": [
    {
     "name": "stdout",
     "output_type": "stream",
     "text": [
      "* \n",
      "* * \n",
      "* * * \n",
      "* * * * \n",
      "* * * * * \n"
     ]
    }
   ],
   "source": [
    "n=5\n",
    "for i in range(n):\n",
    "    for j in range(i+1):\n",
    "        print(\"*\", end=\" \")\n",
    "    print()\n",
    "    "
   ]
  },
  {
   "cell_type": "code",
   "execution_count": 6,
   "id": "0061296c",
   "metadata": {},
   "outputs": [
    {
     "name": "stdout",
     "output_type": "stream",
     "text": [
      "          * \n",
      "        * * \n",
      "      * * * \n",
      "    * * * * \n",
      "  * * * * * \n"
     ]
    }
   ],
   "source": [
    "n=5 \n",
    "for i in range(n):\n",
    "    for j in range(n-i):\n",
    "        print(\" \",end=\" \")\n",
    "    \n",
    "    \n",
    "    for k in range(i+1):\n",
    "        print(\"*\",end=\" \")\n",
    "    print()\n"
   ]
  },
  {
   "cell_type": "code",
   "execution_count": 7,
   "id": "a84cf9ef",
   "metadata": {},
   "outputs": [
    {
     "name": "stdout",
     "output_type": "stream",
     "text": [
      "* * * * * \n",
      "* * * * \n",
      "* * * \n",
      "* * \n",
      "* \n"
     ]
    }
   ],
   "source": [
    "n=5\n",
    "for i in range(n):\n",
    "    for j in range(n-i):\n",
    "        print(\"*\",end=\" \")\n",
    "    print()\n",
    "    "
   ]
  },
  {
   "cell_type": "code",
   "execution_count": 11,
   "id": "662f458c",
   "metadata": {},
   "outputs": [
    {
     "name": "stdout",
     "output_type": "stream",
     "text": [
      "  * * * * * \n",
      "    * * * * \n",
      "      * * * \n",
      "        * * \n",
      "          * \n"
     ]
    }
   ],
   "source": [
    "n=5\n",
    "for i in range(n):\n",
    "    for j in range(i+1):\n",
    "        print(\" \",end=\" \")\n",
    "    for k in range(n-i):\n",
    "        print(\"*\",end=\" \")\n",
    "\n",
    "    print()"
   ]
  },
  {
   "cell_type": "code",
   "execution_count": 14,
   "id": "bc1c6ca3",
   "metadata": {},
   "outputs": [
    {
     "name": "stdout",
     "output_type": "stream",
     "text": [
      "        * \n",
      "      * * * \n",
      "    * * * * * \n",
      "  * * * * * * * \n"
     ]
    }
   ],
   "source": [
    "n=4\n",
    "for i in range(n):\n",
    "    for k in range(n-i):\n",
    "        print(\" \",end=\" \")\n",
    "    for j in range(2*i+1):\n",
    "        print(\"*\",end=\" \")\n",
    "    print()"
   ]
  },
  {
   "cell_type": "code",
   "execution_count": 21,
   "id": "12f5eea9",
   "metadata": {},
   "outputs": [
    {
     "name": "stdout",
     "output_type": "stream",
     "text": [
      "      * \n",
      "    * * * \n",
      "  * * * * * \n",
      "    * * * \n",
      "      * \n"
     ]
    }
   ],
   "source": [
    "n=3\n",
    "for i in range(n):\n",
    "    for j in range(n-i):\n",
    "        print(\" \",end=\" \")\n",
    "    for k in range(2*i+1):\n",
    "        print(\"*\",end=\" \")\n",
    "    print()\n",
    "for i in range(n-2,-1,-1):\n",
    "    for j in range(n-i):\n",
    "        print(\" \",end=\" \")\n",
    "    for k in range(2*i+1):\n",
    "        print(\"*\",end=\" \")\n",
    "    print()"
   ]
  },
  {
   "cell_type": "code",
   "execution_count": 30,
   "id": "cb81267e",
   "metadata": {},
   "outputs": [
    {
     "name": "stdout",
     "output_type": "stream",
     "text": [
      "*             * \n",
      "* *         * * \n",
      "* * *     * * * \n",
      "* * * * * * * * \n",
      "* * *     * * * \n",
      "* *         * * \n",
      "*             * \n",
      "                \n"
     ]
    }
   ],
   "source": [
    "n=4\n",
    "space=2*(n-1)\n",
    "for i in range(n):\n",
    "    for j in range(i+1):\n",
    "        print(\"*\",end=\" \")\n",
    "   \n",
    "    for k in range(space):\n",
    "        print(\" \",end=\" \")\n",
    "    space-=2\n",
    "    for l in range(i+1):\n",
    "        print(\"*\",end=\" \")\n",
    "    print()\n",
    "for i in range(n):\n",
    "    for j in range(n-i-1):\n",
    "        print(\"*\",end=\" \")\n",
    "    for k in range(2*i+2):\n",
    "        print(\" \",end=\" \")\n",
    "    for l in range(n-i-1):\n",
    "        print(\"*\",end=\" \")\n",
    "    print()"
   ]
  },
  {
   "cell_type": "code",
   "execution_count": 23,
   "id": "5880a55f",
   "metadata": {},
   "outputs": [
    {
     "name": "stdout",
     "output_type": "stream",
     "text": [
      "* \n",
      "* * \n",
      "* * * \n",
      "* * * * \n",
      "* * * \n",
      "* * \n",
      "* \n",
      "\n"
     ]
    }
   ],
   "source": [
    "n=4\n",
    "for i in range(n):\n",
    "    for j in range(i+1):\n",
    "        print(\"*\",end=\" \")\n",
    "    print()\n",
    "for i in range(n):\n",
    "    for j in range(n-i-1):\n",
    "        print(\"*\",end=\" \")\n",
    "    print()\n",
    "\n",
    "    "
   ]
  },
  {
   "cell_type": "code",
   "execution_count": 35,
   "id": "f7abc34b",
   "metadata": {},
   "outputs": [
    {
     "name": "stdout",
     "output_type": "stream",
     "text": [
      "        * \n",
      "      * * \n",
      "    * * * \n",
      "  * * * * \n",
      "    * * * \n",
      "      * * \n",
      "        * \n",
      "          \n"
     ]
    }
   ],
   "source": [
    "n=4\n",
    "for i in range(n):\n",
    "    for j in range(n-i):\n",
    "        print(\" \",end=\" \")\n",
    "    for k in range(i+1):\n",
    "        print(\"*\",end=\" \")\n",
    "    print()\n",
    "for i in range(n):\n",
    "    for j in range(i+2):\n",
    "        print(\" \",end=\" \")\n",
    "    for k in range(n-i-1):\n",
    "        print(\"*\",end=\" \")\n",
    "    print()\n",
    "    "
   ]
  },
  {
   "cell_type": "code",
   "execution_count": 52,
   "id": "9f9eb266",
   "metadata": {},
   "outputs": [
    {
     "name": "stdout",
     "output_type": "stream",
     "text": [
      "  * * * * \n",
      "    * * * \n",
      "      * * \n",
      "        * \n",
      "      * * \n",
      "    * * * \n",
      "  * * * * \n"
     ]
    }
   ],
   "source": [
    "n=4\n",
    "for i in range(n):\n",
    "    \n",
    "    for j in range(i+1):\n",
    "        print(\" \",end=\" \")\n",
    "    for k in range(n-i):\n",
    "        print(\"*\",end=\" \")\n",
    "    print()\n",
    "for i in range(1,n):\n",
    "    for j in range(n-i):\n",
    "        print(\" \",end=\" \")\n",
    "    for k in range(i+1):\n",
    "        print(\"*\",end=\" \")\n",
    "    print()"
   ]
  },
  {
   "cell_type": "code",
   "execution_count": 54,
   "id": "c7d94bf4",
   "metadata": {},
   "outputs": [
    {
     "name": "stdout",
     "output_type": "stream",
     "text": [
      "* * * * \n",
      "*     * \n",
      "*     * \n",
      "* * * * \n"
     ]
    }
   ],
   "source": [
    "n=4\n",
    "for i in range(n):\n",
    "    for j in range(n):\n",
    "        if i==0 or j==0 or i==n-1 or j==n-1 :\n",
    "            print(\"*\",end=\" \")\n",
    "        else:\n",
    "            print(\" \",end=\" \")\n",
    "    print()"
   ]
  },
  {
   "cell_type": "code",
   "execution_count": 58,
   "id": "2c45b29c",
   "metadata": {},
   "outputs": [
    {
     "name": "stdout",
     "output_type": "stream",
     "text": [
      "* * * * * \n",
      "*       * \n",
      "*       * \n",
      "* * * * * \n"
     ]
    }
   ],
   "source": [
    "n=5\n",
    "m=4\n",
    "for i in range(m):\n",
    "    for j in range(n):\n",
    "        if i==0 or j==0 or i==m-1 or j==n-1:\n",
    "            print(\"*\",end=\" \")\n",
    "        else:\n",
    "            print(\" \",end=\" \")\n",
    "    print()\n"
   ]
  },
  {
   "cell_type": "code",
   "execution_count": 59,
   "id": "4e35611c",
   "metadata": {},
   "outputs": [
    {
     "name": "stdout",
     "output_type": "stream",
     "text": [
      "* \n",
      "* * \n",
      "*   * \n",
      "* * * * \n"
     ]
    }
   ],
   "source": [
    "n=4\n",
    "for i in range(n):\n",
    "    for j in range(i+1):\n",
    "        if i==j or j==0 or i==n-1 :\n",
    "            print(\"*\",end=\" \")\n",
    "        else:\n",
    "            print(\" \",end=\" \")\n",
    "    print()"
   ]
  },
  {
   "cell_type": "code",
   "execution_count": 63,
   "id": "f17045a3",
   "metadata": {},
   "outputs": [
    {
     "name": "stdout",
     "output_type": "stream",
     "text": [
      "        * \n",
      "      * * \n",
      "    *   * \n",
      "  * * * * \n"
     ]
    }
   ],
   "source": [
    "n=4\n",
    "for i in range(n):\n",
    "    for j in range(n-i):\n",
    "        print(\" \",end=\" \")\n",
    "    for k in range(i+1):\n",
    "        if i==k or k==0 or i==n-1:\n",
    "            print(\"*\",end=\" \")\n",
    "        else:\n",
    "            print(\" \",end=\" \")\n",
    "    print()"
   ]
  },
  {
   "cell_type": "code",
   "execution_count": 78,
   "id": "7811b29a",
   "metadata": {},
   "outputs": [
    {
     "name": "stdout",
     "output_type": "stream",
     "text": [
      "* * * * \n",
      "*   * \n",
      "* * \n",
      "* \n"
     ]
    }
   ],
   "source": [
    "n=4\n",
    "for i in range(n):\n",
    "    for j in range(n-i):\n",
    "        if j==0 or j==n-i-1 or i==0:\n",
    "            print(\"*\",end=\" \")\n",
    "        else:\n",
    "            print(\" \",end=\" \")\n",
    "    print()"
   ]
  },
  {
   "cell_type": "code",
   "execution_count": 83,
   "id": "a75464f2",
   "metadata": {},
   "outputs": [
    {
     "name": "stdout",
     "output_type": "stream",
     "text": [
      "  * * * * \n",
      "    *   * \n",
      "      * * \n",
      "        * \n"
     ]
    }
   ],
   "source": [
    "n=4\n",
    "for i in range(n):\n",
    "    for j in range(i+1):\n",
    "        print(\" \",end=\" \")\n",
    "    for k in range(n-i):\n",
    "        if k==n-i-1 or i==0 or k==0:\n",
    "            print(\"*\",end=\" \")\n",
    "        else:\n",
    "            print(\" \",end=\" \")\n",
    "    print()"
   ]
  },
  {
   "cell_type": "code",
   "execution_count": 93,
   "id": "dc18cf09",
   "metadata": {},
   "outputs": [
    {
     "name": "stdout",
     "output_type": "stream",
     "text": [
      "          * \n",
      "        *   * \n",
      "      *       * \n",
      "    *           * \n",
      "  * * * * * * * * * \n"
     ]
    }
   ],
   "source": [
    "n=5\n",
    "for i in range(n):\n",
    "    for k in range(n-i):\n",
    "        print(\" \",end=\" \")\n",
    "    for j in range(2*i+1):\n",
    "        if i==n-1 or j==2*i or j==0:\n",
    "            print(\"*\",end=\" \")\n",
    "        else:\n",
    "            print(\" \",end=\" \")\n",
    "    print()"
   ]
  },
  {
   "cell_type": "code",
   "execution_count": 101,
   "id": "fc550685",
   "metadata": {},
   "outputs": [
    {
     "name": "stdout",
     "output_type": "stream",
     "text": [
      "        * \n",
      "      * * \n",
      "    *   * \n",
      "  *     * \n",
      "    *   * \n",
      "      * * \n",
      "        * \n"
     ]
    }
   ],
   "source": [
    "n=4\n",
    "for i in range(n):\n",
    "    for k in range(n-i):\n",
    "        print(\" \",end= \" \")\n",
    "    for j in range(i+1):\n",
    "        if i==j or j==0 :\n",
    "            print(\"*\",end=\" \")\n",
    "        else:\n",
    "            print(\" \",end=\" \")\n",
    "    print()\n",
    "for i in range(n-1):\n",
    "    for j in range(i+2):\n",
    "        print(\" \",end=\" \")\n",
    "    for k in range(n-i-1):\n",
    "        if k==0 or k==n-i-2:\n",
    "            print(\"*\",end=\" \")\n",
    "        else:\n",
    "            print(\" \",end=\" \")\n",
    "    print()"
   ]
  },
  {
   "cell_type": "code",
   "execution_count": 130,
   "id": "bb625178",
   "metadata": {},
   "outputs": [
    {
     "name": "stdout",
     "output_type": "stream",
     "text": [
      "*           *\n",
      "**         **\n",
      "* *       * *\n",
      "*  *     *  *\n",
      "*   *   *   *\n",
      "*     *     *\n",
      "*   *   *   *\n",
      "*  *     *  *\n",
      "* *       * *\n",
      "**         **\n",
      "*           *\n"
     ]
    }
   ],
   "source": [
    "n=5\n",
    "for i in range(n,0,-1):\n",
    "    s=\" \"*(n-i)\n",
    "    if i==1:\n",
    "        print(\"*\"+s+\" *\"+s+\" *\")\n",
    "    else:\n",
    "        if i==n:\n",
    "            print(\"* \"+\"  \"*(i)+\"*\")\n",
    "            print(\"*\"+s+\"* \"+\"  \"*(i-1)+\"*\"+s+\"*\")\n",
    "        else:\n",
    "            print(\"*\"+s+\"* \"+\"  \"*(i-1)+\"*\"+s+\"*\")\n",
    "\n",
    "for i in range(2,n+1):\n",
    "    s=\" \"*(n-i)\n",
    "    if i==1:\n",
    "        print(s+\" *\"+s)\n",
    "    else:\n",
    "        if i==n:\n",
    "           \n",
    "            print(\"*\"+s+\"* \"+\"  \"*(i-1)+\"*\"+s+\"*\")\n",
    "            print(\"* \"+\"  \"*(i)+\"*\")\n",
    "        else:\n",
    "\n",
    "            print(\"*\"+s+\"* \"+\"  \"*(i-1)+\"*\"+s+\"*\")"
   ]
  },
  {
   "cell_type": "code",
   "execution_count": 188,
   "id": "7dab9cea",
   "metadata": {},
   "outputs": [
    {
     "name": "stdout",
     "output_type": "stream",
     "text": [
      " * * * * \n",
      "  *   *  \n",
      "   * *   \n",
      "    *    \n",
      "   * *   \n",
      "  *   *  \n",
      " * * * * \n"
     ]
    }
   ],
   "source": [
    "n=5\n",
    "for i in range(n-1,1,-1):\n",
    "    s=\" \"*(n-i)\n",
    "\n",
    "    if i==n-1:\n",
    "        print(s+\"* \"*(i))\n",
    "    else:\n",
    "        print(s+\"* \"+\"  \"*(i-2)+\"*\"+s)\n",
    "\n",
    "for i in range(1,n):\n",
    "    s=\" \"*(n-i)\n",
    "    if i==1:\n",
    "        print(s+\"*\"+s)\n",
    "    else:\n",
    "        if i==n-1:\n",
    "            print(s+\"* \"*(i))\n",
    "        else:\n",
    "        \n",
    "            print(s+\"* \"+\"  \"*(i-2)+\"*\"+s)\n",
    "\n",
    "    \n",
    "\n",
    "\n"
   ]
  },
  {
   "cell_type": "code",
   "execution_count": 189,
   "id": "3a6f0574",
   "metadata": {},
   "outputs": [
    {
     "name": "stdout",
     "output_type": "stream",
     "text": [
      "1 \n",
      "1 2 \n",
      "1 2 3 \n",
      "1 2 3 4 \n",
      "1 2 3 4 5 \n"
     ]
    }
   ],
   "source": [
    "n=5\n",
    "for i in range(n):\n",
    "    for j in range(i+1):\n",
    "        print(j+1,end=\" \")\n",
    "    print()"
   ]
  },
  {
   "cell_type": "code",
   "execution_count": 192,
   "id": "e35639e5",
   "metadata": {},
   "outputs": [
    {
     "name": "stdout",
     "output_type": "stream",
     "text": [
      "1 \n",
      "2 2 \n",
      "3 3 3 \n",
      "4 4 4 4 \n",
      "5 5 5 5 5 \n"
     ]
    }
   ],
   "source": [
    "n=5\n",
    "for i in range(n):\n",
    "    for j in range(i+1):\n",
    "        print(i+1,end=\" \")\n",
    "    print()"
   ]
  },
  {
   "cell_type": "code",
   "execution_count": 194,
   "id": "543ab52d",
   "metadata": {},
   "outputs": [
    {
     "name": "stdout",
     "output_type": "stream",
     "text": [
      "1 \n",
      "2 3 \n",
      "4 5 6 \n",
      "7 8 9 10 \n"
     ]
    }
   ],
   "source": [
    "n=4\n",
    "val=0\n",
    "for i in range(n):\n",
    "    \n",
    "    for j in range(i+1):\n",
    "        val+=1\n",
    "        print(val,end=\" \")\n",
    "    print()\n",
    "\n"
   ]
  },
  {
   "cell_type": "code",
   "execution_count": 201,
   "id": "07afd685",
   "metadata": {},
   "outputs": [
    {
     "name": "stdout",
     "output_type": "stream",
     "text": [
      "1 \n",
      "2 1 \n",
      "3 2 1 \n",
      "4 3 2 1 \n",
      "5 4 3 2 1 \n"
     ]
    }
   ],
   "source": [
    "n=5\n",
    "for i in range(1,n+1):\n",
    "    for j in range(i,0,-1):\n",
    "        print(j,end=\" \")\n",
    "    \n",
    "    print()"
   ]
  },
  {
   "cell_type": "code",
   "execution_count": 207,
   "id": "868811b8",
   "metadata": {},
   "outputs": [
    {
     "name": "stdout",
     "output_type": "stream",
     "text": [
      "5 4 3 2 1 \n",
      "5 4 3 2 \n",
      "5 4 3 \n",
      "5 4 \n",
      "5 \n"
     ]
    }
   ],
   "source": [
    "n=5\n",
    "for i in range(n):\n",
    "    for j in range(n,i,-1): \n",
    "        print(j,end=\" \")\n",
    "    print()"
   ]
  },
  {
   "cell_type": "code",
   "execution_count": 209,
   "id": "0860753a",
   "metadata": {},
   "outputs": [
    {
     "name": "stdout",
     "output_type": "stream",
     "text": [
      "          1 \n",
      "        1 2 \n",
      "      1 2 3 \n",
      "    1 2 3 4 \n",
      "  1 2 3 4 5 \n"
     ]
    }
   ],
   "source": [
    "n=5\n",
    "for i in range(n):\n",
    "    for j in range(n-i):\n",
    "        print(\" \",end=\" \")\n",
    "    for k in range(i+1):\n",
    "        print(k+1,end=\" \")\n",
    "    print()"
   ]
  },
  {
   "cell_type": "code",
   "execution_count": 216,
   "id": "a7eec6aa",
   "metadata": {},
   "outputs": [
    {
     "name": "stdout",
     "output_type": "stream",
     "text": [
      "2 \n",
      "2 4 \n",
      "2 4 6 \n",
      "2 4 6 8 \n",
      "2 4 6 8 10 \n"
     ]
    }
   ],
   "source": [
    "n=5\n",
    "\n",
    "for i in range(1,n+1):\n",
    "    \n",
    "    for j in range(1,i+1):\n",
    "            \n",
    "        print(2*j,end=\" \")\n",
    "    print()"
   ]
  },
  {
   "cell_type": "code",
   "execution_count": 217,
   "id": "6c8f1674",
   "metadata": {},
   "outputs": [
    {
     "name": "stdout",
     "output_type": "stream",
     "text": [
      "1 \n",
      "1 3 \n",
      "1 3 5 \n",
      "1 3 5 7 \n",
      "1 3 5 7 9 \n"
     ]
    }
   ],
   "source": [
    "n=5\n",
    "for i in range(1,n+1):\n",
    "    for j in range(1,i+1):\n",
    "        print(2*j-1,end=\" \")\n",
    "    print()\n",
    "    "
   ]
  },
  {
   "cell_type": "code",
   "execution_count": 220,
   "id": "70fa3ade",
   "metadata": {},
   "outputs": [
    {
     "name": "stdout",
     "output_type": "stream",
     "text": [
      "1 \n",
      "1 1 \n",
      "1 2 1 \n",
      "1 3 3 1 \n",
      "1 4 6 4 1 \n"
     ]
    }
   ],
   "source": [
    "n=5\n",
    "\n",
    "for i in range(n):\n",
    "    num=1\n",
    "    for j in range(i+1):\n",
    "        print(num,end=\" \")\n",
    "        num=num*(i-j)//(j+1)\n",
    "    print()"
   ]
  },
  {
   "cell_type": "code",
   "execution_count": 222,
   "id": "f8b76a32",
   "metadata": {},
   "outputs": [
    {
     "name": "stdout",
     "output_type": "stream",
     "text": [
      "         1 \n",
      "       1 2 1 \n",
      "     1 2 3 2 1 \n",
      "   1 2 3 4 3 2 1 \n",
      " 1 2 3 4 5 4 3 2 1 \n"
     ]
    }
   ],
   "source": [
    "n=5\n",
    "for i in range(1,n+1):\n",
    "    print(\"  \"*(n-i),end=\" \")\n",
    "    for j in range(1,i+1):\n",
    "        print(j,end=\" \")\n",
    "    for k in range(i-1,0,-1):\n",
    "        print(k,end=\" \")\n",
    "    print()"
   ]
  },
  {
   "cell_type": "code",
   "execution_count": 1,
   "id": "24b721a9",
   "metadata": {},
   "outputs": [
    {
     "name": "stdout",
     "output_type": "stream",
     "text": [
      "False\n"
     ]
    }
   ],
   "source": [
    "n=3\n",
    "l=[]\n",
    "\n",
    "for i in range(n):\n",
    "    l.append(list(map(int,input().split())))\n",
    "ln=len(l[0])\n",
    "mat=len(l)\n",
    "\n",
    "if ln==mat:\n",
    "    print(True)\n",
    "else:\n",
    "    print(False)\n",
    "\n"
   ]
  },
  {
   "cell_type": "code",
   "execution_count": 3,
   "id": "1cd5ef61",
   "metadata": {},
   "outputs": [
    {
     "name": "stdout",
     "output_type": "stream",
     "text": [
      "[1, 4]\n"
     ]
    }
   ],
   "source": [
    "n=[[1,2],[3,4]]\n",
    "s=len(n)\n",
    "dia=[]\n",
    "for i in range(s):\n",
    "    dia.append(n[i][i])\n",
    "print(dia)\n"
   ]
  },
  {
   "cell_type": "code",
   "execution_count": 6,
   "id": "da059c5a",
   "metadata": {},
   "outputs": [
    {
     "name": "stdout",
     "output_type": "stream",
     "text": [
      "[2, 3]\n"
     ]
    }
   ],
   "source": [
    "n=[[1,2],[3,4]]\n",
    "n1=len(n)\n",
    "dia=[]\n",
    "for i in range(n1):\n",
    "    dia.append(n[i][n1-i-1])\n",
    "print(dia)"
   ]
  },
  {
   "cell_type": "code",
   "execution_count": 7,
   "id": "0a533091",
   "metadata": {},
   "outputs": [
    {
     "name": "stdout",
     "output_type": "stream",
     "text": [
      "[2, 3]\n"
     ]
    }
   ],
   "source": [
    "n=[[1,2],[3,4]]\n",
    "n1=len(n)\n",
    "dia=[]\n",
    "for i in range(n1):\n",
    "    for j in range(n1):\n",
    "        if i!=j:\n",
    "            dia.append(n[i][j])\n",
    "print(dia)"
   ]
  },
  {
   "cell_type": "code",
   "execution_count": null,
   "id": "0636e904",
   "metadata": {},
   "outputs": [
    {
     "name": "stdout",
     "output_type": "stream",
     "text": [
      "[1, 4]\n"
     ]
    }
   ],
   "source": [
    "n=[[1,2],[3,4]]\n",
    "n1=len(n)\n",
    "dia=[]\n",
    "for i in range(n1):\n",
    "    for j in range(n1):\n",
    "        if i==j:\n",
    "            dia.append(n[i][j])\n",
    "print(dia)"
   ]
  },
  {
   "cell_type": "code",
   "execution_count": 20,
   "id": "a8362a58",
   "metadata": {},
   "outputs": [
    {
     "name": "stdout",
     "output_type": "stream",
     "text": [
      "[[1, 0], [3, 4]]\n"
     ]
    }
   ],
   "source": [
    "n=[[1,2],[3,4]]\n",
    "n1=len(n)\n",
    "dia=[]\n",
    "for i in range(n1):\n",
    "    row=[]\n",
    "    for j in range(n1):\n",
    "        if i>=j:\n",
    "            row.append(n[i][j])\n",
    "        else:\n",
    "            row.append(0)\n",
    "    dia.append(row)\n",
    "print(dia)"
   ]
  },
  {
   "cell_type": "code",
   "execution_count": 23,
   "id": "bd6efc69",
   "metadata": {},
   "outputs": [
    {
     "name": "stdout",
     "output_type": "stream",
     "text": [
      "[[1, 2], [0, 4]]\n"
     ]
    }
   ],
   "source": [
    "n=[[1,2],[3,4]]\n",
    "n1=len(n)\n",
    "dia=[]\n",
    "for i in range(n1):\n",
    "    row=[]\n",
    "    for j in range(n1):\n",
    "        if j>=i:\n",
    "            row.append(n[i][j])\n",
    "        else:\n",
    "            row.append(0)\n",
    "    dia.append(row)\n",
    "print(dia)"
   ]
  },
  {
   "cell_type": "code",
   "execution_count": 13,
   "id": "a0eeec29",
   "metadata": {},
   "outputs": [
    {
     "name": "stdout",
     "output_type": "stream",
     "text": [
      "[[1, 3], [2, 4]]\n"
     ]
    }
   ],
   "source": [
    "n=[[1,2],[3,4]]\n",
    "row=len(n)\n",
    "col=len(n[0])\n",
    "res=[]\n",
    "for i in range(col):\n",
    "    sap=[]\n",
    "    for j in range(row):\n",
    "        sap.append(n[j][i])\n",
    "    res.append(sap)\n",
    "print(res)"
   ]
  },
  {
   "cell_type": "code",
   "execution_count": 28,
   "id": "3d1f28aa",
   "metadata": {},
   "outputs": [
    {
     "name": "stdout",
     "output_type": "stream",
     "text": [
      "True\n"
     ]
    }
   ],
   "source": [
    "n=[[4,2],[3,4]]\n",
    "n1=len(n)\n",
    "dia=[]\n",
    "same=True\n",
    "for i in range(n1):\n",
    "    if n[0][0]!=n[i][i]:\n",
    "        same=False\n",
    "    \n",
    "print(same)"
   ]
  },
  {
   "cell_type": "code",
   "execution_count": 38,
   "id": "6a10d93d",
   "metadata": {},
   "outputs": [
    {
     "name": "stdout",
     "output_type": "stream",
     "text": [
      "True\n"
     ]
    }
   ],
   "source": [
    "n=[[1,2],[2,4]]\n",
    "n1=len(n)\n",
    "dia=[]\n",
    "same=True\n",
    "for i in range(n1):\n",
    "    if n[i][n1-i-1]!=n[0][n1-1]:\n",
    "        same=False\n",
    "        break    \n",
    "print(same)"
   ]
  },
  {
   "cell_type": "code",
   "execution_count": 42,
   "id": "fd1724d5",
   "metadata": {},
   "outputs": [
    {
     "name": "stdout",
     "output_type": "stream",
     "text": [
      "[[1, 2, 0], [2, 0, 5], [0, 8, 9]]\n"
     ]
    }
   ],
   "source": [
    "n=[[1,2,3],[2,4,5],[7,8,9]]\n",
    "n1=len(n)\n",
    "dia=[]\n",
    "same=True\n",
    "for i in range(n1):\n",
    "    for j in range(n1):\n",
    "        if i!=j:\n",
    "            n[i][n1-i-1]=0\n",
    "print(n)"
   ]
  },
  {
   "cell_type": "code",
   "execution_count": 49,
   "id": "bf1a9e3e",
   "metadata": {},
   "outputs": [
    {
     "name": "stdout",
     "output_type": "stream",
     "text": [
      "10\n"
     ]
    }
   ],
   "source": [
    "n=[[1,2],[3,4]]\n",
    "n1=len(n)\n",
    "dia=0\n",
    "for i in range(len(n)):\n",
    "    for j in range(len(n[0])):\n",
    "        dia+=n[i][j]\n",
    "print(dia)\n",
    "    "
   ]
  },
  {
   "cell_type": "code",
   "execution_count": 50,
   "id": "3d5e8b85",
   "metadata": {},
   "outputs": [
    {
     "name": "stdout",
     "output_type": "stream",
     "text": [
      "[[19, 22], [43, 50]]\n"
     ]
    }
   ],
   "source": [
    "A = [[1, 2], [3, 4]]\n",
    "B = [[5, 6], [7, 8]]\n",
    "n = len(A)\n",
    "\n",
    "result = [[0]*n for _ in range(n)]\n",
    "\n",
    "for i in range(n):\n",
    "    for j in range(n):\n",
    "        for k in range(n):\n",
    "            result[i][j] += A[i][k] * B[k][j]\n",
    "\n",
    "print(result)"
   ]
  }
 ],
 "metadata": {
  "kernelspec": {
   "display_name": "Python 3",
   "language": "python",
   "name": "python3"
  },
  "language_info": {
   "codemirror_mode": {
    "name": "ipython",
    "version": 3
   },
   "file_extension": ".py",
   "mimetype": "text/x-python",
   "name": "python",
   "nbconvert_exporter": "python",
   "pygments_lexer": "ipython3",
   "version": "3.13.1"
  }
 },
 "nbformat": 4,
 "nbformat_minor": 5
}
