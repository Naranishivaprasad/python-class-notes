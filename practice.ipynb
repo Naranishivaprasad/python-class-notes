{
 "cells": [
  {
   "cell_type": "code",
   "execution_count": null,
   "id": "7dbc0932",
   "metadata": {},
   "outputs": [
    {
     "name": "stdout",
     "output_type": "stream",
     "text": [
      "total 31\n"
     ]
    }
   ],
   "source": [
    "def total_chocolates(money, choc_price, wrappers_for_choc):\n",
    "    # Initial chocolates bought\n",
    "    chocolates = money // choc_price\n",
    "    wrappers = chocolates\n",
    "    \n",
    "    # Exchange wrappers for more chocolates\n",
    "    while wrappers >= wrappers_for_choc:\n",
    "        new_chocs = wrappers // wrappers_for_choc\n",
    "        chocolates += new_chocs\n",
    "        wrappers = wrappers % wrappers_for_choc + new_chocs\n",
    "    print(\"total\" ,chocolates)\n",
    "   \n",
    "    \n",
    "total_chocolates(21, 1, 3) \n"
   ]
  },
  {
   "cell_type": "code",
   "execution_count": 1,
   "id": "1e9d0920",
   "metadata": {},
   "outputs": [
    {
     "name": "stdout",
     "output_type": "stream",
     "text": [
      "21\n",
      "24\n",
      "27\n",
      "30\n",
      "33\n",
      "36\n",
      "39\n",
      "42\n",
      "45\n",
      "48\n"
     ]
    }
   ],
   "source": [
    "for i in range(20,51):\n",
    "     if(i%3==0):\n",
    "        print(i)"
   ]
  },
  {
   "cell_type": "code",
   "execution_count": 1,
   "id": "d23d31a1",
   "metadata": {},
   "outputs": [
    {
     "name": "stdout",
     "output_type": "stream",
     "text": [
      "22\n"
     ]
    }
   ],
   "source": [
    "d={\n",
    "    \"name\":\"shiva\",\"age\":22,\"gender\":\"male\"\n",
    "\n",
    "}\n",
    "print(d.get(\"age\",\"not available\"))"
   ]
  },
  {
   "cell_type": "code",
   "execution_count": 2,
   "id": "4cdd60dc",
   "metadata": {},
   "outputs": [
    {
     "name": "stdout",
     "output_type": "stream",
     "text": [
      "shiva name\n",
      "22 age\n",
      "male gender\n"
     ]
    }
   ],
   "source": [
    "d={\n",
    "    \"name\":\"shiva\",\"age\":22,\"gender\":\"male\"\n",
    "}\n",
    "for i in d:\n",
    "    print(d[i],i)"
   ]
  },
  {
   "cell_type": "code",
   "execution_count": 5,
   "id": "40c15999",
   "metadata": {},
   "outputs": [
    {
     "name": "stdout",
     "output_type": "stream",
     "text": [
      "['name', 'age', 'gender']\n"
     ]
    }
   ],
   "source": [
    "d={\n",
    "    \"name\":\"shiva\",\"age\":22,\"gender\":\"male\"\n",
    "}\n",
    "\n",
    "print(list(d.keys()))"
   ]
  },
  {
   "cell_type": "code",
   "execution_count": 6,
   "id": "7432fc98",
   "metadata": {},
   "outputs": [
    {
     "name": "stdout",
     "output_type": "stream",
     "text": [
      "['shiva', 22, 'male']\n"
     ]
    }
   ],
   "source": [
    "d={\n",
    "    \"name\":\"shiva\",\"age\":22,\"gender\":\"male\"\n",
    "}\n",
    "\n",
    "print(list(d.values()))"
   ]
  },
  {
   "cell_type": "code",
   "execution_count": 1,
   "id": "c0cdb35a",
   "metadata": {},
   "outputs": [
    {
     "name": "stdout",
     "output_type": "stream",
     "text": [
      "dict_items([('name', 'shiva'), ('age', 22), ('gender', 'male')])\n"
     ]
    }
   ],
   "source": [
    "d={\n",
    "    \"name\":\"shiva\",\"age\":22,\"gender\":\"male\"\n",
    "}\n",
    "print(d.items())\n"
   ]
  },
  {
   "cell_type": "code",
   "execution_count": 10,
   "id": "489514bd",
   "metadata": {},
   "outputs": [
    {
     "name": "stdout",
     "output_type": "stream",
     "text": [
      "name shiva\n",
      "age 22\n",
      "gender male\n"
     ]
    }
   ],
   "source": [
    "d={\n",
    "    \"name\":\"shiva\",\"age\":22,\"gender\":\"male\"\n",
    "}\n",
    "for i,j in d.items():\n",
    "    print(i,j)"
   ]
  },
  {
   "cell_type": "code",
   "execution_count": 12,
   "id": "7db92bbb",
   "metadata": {},
   "outputs": [
    {
     "name": "stdout",
     "output_type": "stream",
     "text": [
      "10 name shiva\n",
      "11 age 22\n",
      "12 gender male\n"
     ]
    }
   ],
   "source": [
    "d={\n",
    "    \"name\":\"shiva\",\"age\":22,\"gender\":\"male\"\n",
    "}\n",
    "for ind,(i,j) in enumerate(d.items(),start=10):\n",
    "    print(ind,i,j)\n"
   ]
  },
  {
   "cell_type": "code",
   "execution_count": 16,
   "id": "5deaf344",
   "metadata": {},
   "outputs": [
    {
     "name": "stdout",
     "output_type": "stream",
     "text": [
      "{'name': 'shiva', 'age': 22, 'gender': 'male', 'college': 'vjit'}\n",
      "{'name': 'shiva prasad', 'age': 22, 'gender': 'male', 'college': 'vjit'}\n"
     ]
    }
   ],
   "source": [
    "d={\n",
    "    \"name\":\"shiva\",\"age\":22,\"gender\":\"male\"\n",
    "}\n",
    "d.update({\"college\":\"vjit\"})\n",
    "print(d)\n",
    "d.update({\"name\":\"shiva prasad\"})\n",
    "print(d)"
   ]
  },
  {
   "cell_type": "code",
   "execution_count": 17,
   "id": "90d6f9a4",
   "metadata": {},
   "outputs": [
    {
     "name": "stdout",
     "output_type": "stream",
     "text": [
      "None\n"
     ]
    }
   ],
   "source": [
    "d={\n",
    "    \"name\":\"shiva\",\"age\":22,\"gender\":\"male\"\n",
    "}\n",
    "print(d.clear())"
   ]
  },
  {
   "cell_type": "code",
   "execution_count": 26,
   "id": "e15d8f9e",
   "metadata": {},
   "outputs": [
    {
     "name": "stdout",
     "output_type": "stream",
     "text": [
      "{'name': 'shiva', 'age': 22, 'gender': 'male'}\n"
     ]
    }
   ],
   "source": [
    "\n",
    "d={\n",
    "    \"name\":\"shiva\",\"age\":22,\"gender\":\"male\"\n",
    "}\n",
    "d1=d.copy()\n",
    "print(d1)"
   ]
  },
  {
   "cell_type": "code",
   "execution_count": null,
   "id": "41582dfa",
   "metadata": {},
   "outputs": [
    {
     "name": "stdout",
     "output_type": "stream",
     "text": [
      "shiva\n",
      "{'age': 22, 'gender': 'male'}\n"
     ]
    }
   ],
   "source": [
    "d={\n",
    "    \"name\":\"shiva\",\"age\":22,\"gender\":\"male\"\n",
    "}\n",
    "print(d.pop(\"name\",\"not present\"))\n"
   ]
  },
  {
   "cell_type": "code",
   "execution_count": 29,
   "id": "cb7edea4",
   "metadata": {},
   "outputs": [
    {
     "name": "stdout",
     "output_type": "stream",
     "text": [
      "{'name': 0, 'age': 0, 'gender': 0}\n",
      "{'name': 0, 'age': 0, 'gender': 0}\n"
     ]
    }
   ],
   "source": [
    "\n",
    "l=[ \"name\",\"age\",\"gender\"]\n",
    "d={}\n",
    "print(d.fromkeys(l,0))\n",
    "\n",
    "l=[\"name\",\"age\",\"gender\"]\n",
    "d=dict.fromkeys(l,0)\n",
    "print(d)\n",
    "\n"
   ]
  },
  {
   "cell_type": "code",
   "execution_count": 2,
   "id": "a03a3fc4",
   "metadata": {},
   "outputs": [
    {
     "data": {
      "text/plain": [
       "('gender', 'male')"
      ]
     },
     "execution_count": 2,
     "metadata": {},
     "output_type": "execute_result"
    }
   ],
   "source": [
    "# popitem()\n",
    "ip={\"name\":\"shiva\", \"age\":22,\"gender\":\"male\"}\n",
    "ip.popitem()"
   ]
  },
  {
   "cell_type": "code",
   "execution_count": null,
   "id": "709bc8f1",
   "metadata": {},
   "outputs": [
    {
     "name": "stdout",
     "output_type": "stream",
     "text": [
      "{'age': 22, 'gender': 'male'}\n"
     ]
    }
   ],
   "source": [
    "#delete()\n",
    "ip={\"name\":\"shiva\", \"age\":22,\"gender\":\"male\"}\n",
    "del ip[\"name\"]\n",
    "print(ip)\n",
    "\n",
    "ip={\"name\":\"shiva\", \"age\":22,\"gender\":\"male\"}\n",
    "del ip\n",
    "print(ip)#it gives error\n"
   ]
  },
  {
   "cell_type": "code",
   "execution_count": 12,
   "id": "fad455e5",
   "metadata": {},
   "outputs": [
    {
     "name": "stdout",
     "output_type": "stream",
     "text": [
      "{'name': 'shiva', 'age': '22', 'gender': 'male'}\n"
     ]
    }
   ],
   "source": [
    "#zip()\n",
    "keys=[\"name\",\"age\",\"gender\"]\n",
    "values=[\"shiva\",\"22\",\"male\"]\n",
    "d=dict(zip(keys,values))\n",
    "print(d)"
   ]
  },
  {
   "cell_type": "code",
   "execution_count": 15,
   "id": "0dbf3b84",
   "metadata": {},
   "outputs": [
    {
     "name": "stdout",
     "output_type": "stream",
     "text": [
      "{'name': 'shiva', 'age': 22, 'gender': 'male'}\n"
     ]
    }
   ],
   "source": [
    "keys=[\"name\",\"age\",\"gender\"]\n",
    "values=[\"shiva\",22,\"male\"]\n",
    "d={}\n",
    "for i in range(len(keys)):\n",
    "    d[keys[i]]=values[i]\n",
    "print(d)\n",
    "    "
   ]
  },
  {
   "cell_type": "code",
   "execution_count": null,
   "id": "3c7102b9",
   "metadata": {},
   "outputs": [
    {
     "name": "stdout",
     "output_type": "stream",
     "text": [
      "4\n"
     ]
    }
   ],
   "source": [
    "num=[1,2,3,2,4,5,2,5,2]\n",
    "tar=2\n",
    "d={}\n",
    "\n",
    "for i in num:\n",
    "        if i in d:\n",
    "                d[i]+=1\n",
    "        else:\n",
    "                d[i]=1\n",
    "       \n",
    "                \n",
    "print(d[tar])\n"
   ]
  },
  {
   "cell_type": "code",
   "execution_count": null,
   "id": "39652e3d",
   "metadata": {},
   "outputs": [],
   "source": [
    "num=[1,2,3,2,4,5,2,5,2]\n",
    "\n",
    "# least count"
   ]
  },
  {
   "cell_type": "code",
   "execution_count": 3,
   "id": "195d16ff",
   "metadata": {},
   "outputs": [
    {
     "name": "stdout",
     "output_type": "stream",
     "text": [
      "9\n"
     ]
    }
   ],
   "source": [
    "l=[107,10,99,9,999]\n",
    "lower=l[0]\n",
    "sec=\"\"\n",
    "for i in l:\n",
    "    if i<lower:\n",
    "        lower=i \n",
    "\n",
    "        \n",
    "print(lower)"
   ]
  },
  {
   "cell_type": "code",
   "execution_count": 4,
   "id": "e8074df1",
   "metadata": {},
   "outputs": [
    {
     "name": "stdout",
     "output_type": "stream",
     "text": [
      "helloworld\n"
     ]
    }
   ],
   "source": [
    "ip=\"hello world\"\n",
    "op=\"\"\n",
    "bp=ip.split()\n",
    "for i in bp:\n",
    "    op=\"\".join(bp)\n",
    "print(op)\n",
    "\n"
   ]
  },
  {
   "cell_type": "code",
   "execution_count": 5,
   "id": "09382de3",
   "metadata": {},
   "outputs": [
    {
     "name": "stdout",
     "output_type": "stream",
     "text": [
      "olleh\n"
     ]
    }
   ],
   "source": [
    "ip=\"hello\"\n",
    "op= ip[::-1]\n",
    "print(op)\n"
   ]
  },
  {
   "cell_type": "code",
   "execution_count": null,
   "id": "cc282663",
   "metadata": {},
   "outputs": [
    {
     "name": "stdout",
     "output_type": "stream",
     "text": [
      "MYVARIABELNAME\n"
     ]
    }
   ],
   "source": [
    "ip=\"my_variabel_name\"\n",
    "op=\"\"\n",
    "b=\"_\"\n",
    "for i in range(0,len(ip)):\n",
    "    r=ip[i]\n",
    "    if r in b:\n",
    "     op+=\"\"\n",
    "    else:\n",
    "      if \n",
    "print(op)\n"
   ]
  },
  {
   "cell_type": "code",
   "execution_count": 15,
   "id": "21e7a72c",
   "metadata": {},
   "outputs": [
    {
     "name": "stdout",
     "output_type": "stream",
     "text": [
      "myVariabelName\n"
     ]
    }
   ],
   "source": [
    "ip=\"my_variabel_name\"\n",
    "op=ip.split(\"_\")\n",
    "b=\"_\"\n",
    "camel=op[0]+\"\".join(word.capitalize() for word in op[1::])\n",
    "print(camel)\n"
   ]
  },
  {
   "cell_type": "code",
   "execution_count": null,
   "id": "20f9b25a",
   "metadata": {},
   "outputs": [
    {
     "name": "stdout",
     "output_type": "stream",
     "text": [
      "('my', 'MyVariabelName')\n"
     ]
    }
   ],
   "source": [
    "ip=\"my_variabel_name\"\n",
    "op=ip.split(\"_\")\n",
    "b=\"_\"\n",
    "camel=\"\".join(word.capitalize() for word in op[::])\n",
    "print(camel)"
   ]
  },
  {
   "cell_type": "code",
   "execution_count": 26,
   "id": "8ca7c976",
   "metadata": {},
   "outputs": [
    {
     "name": "stdout",
     "output_type": "stream",
     "text": [
      "MYVARIABELNAME\n"
     ]
    }
   ],
   "source": [
    "ip=\"myVariabelName\"\n",
    "\n",
    "b=\"_\"\n",
    "camel=\"\".join(word.capitalize() for word in ip[::])\n",
    "print(camel)"
   ]
  },
  {
   "cell_type": "code",
   "execution_count": 18,
   "id": "87839c36",
   "metadata": {},
   "outputs": [
    {
     "name": "stdout",
     "output_type": "stream",
     "text": [
      "1234\n"
     ]
    }
   ],
   "source": [
    "ip=\"abc123d4\"\n",
    "op=\"\"\n",
    "for i in ip:\n",
    "    if i.isdigit():\n",
    "        op+=i\n",
    "print(op)"
   ]
  },
  {
   "cell_type": "code",
   "execution_count": 19,
   "id": "5844b169",
   "metadata": {},
   "outputs": [
    {
     "name": "stdout",
     "output_type": "stream",
     "text": [
      "hELLO\n"
     ]
    }
   ],
   "source": [
    "ip=\"Hello\"\n",
    "op=\"\"\n",
    "for  i in ip:\n",
    "    r=ord(i)\n",
    "    if r>=65 and r<=90:\n",
    "        op+=chr(r+32)\n",
    "    elif r>=97 and r<=122:\n",
    "        op+=chr(r-32)\n",
    "    else:\n",
    "        op+=r\n",
    "print(op)"
   ]
  },
  {
   "cell_type": "code",
   "execution_count": 1,
   "id": "b1ac80e4",
   "metadata": {},
   "outputs": [
    {
     "name": "stdout",
     "output_type": "stream",
     "text": [
      "1 x 1 = 1\n",
      "1 x 2 = 2\n",
      "1 x 3 = 3\n",
      "1 x 4 = 4\n",
      "1 x 5 = 5\n",
      "1 x 6 = 6\n",
      "1 x 7 = 7\n",
      "1 x 8 = 8\n",
      "1 x 9 = 9\n",
      "1 x 10 = 10\n",
      "2 x 1 = 2\n",
      "2 x 2 = 4\n",
      "2 x 3 = 6\n",
      "2 x 4 = 8\n",
      "2 x 5 = 10\n",
      "2 x 6 = 12\n",
      "2 x 7 = 14\n",
      "2 x 8 = 16\n",
      "2 x 9 = 18\n",
      "2 x 10 = 20\n",
      "3 x 1 = 3\n",
      "3 x 2 = 6\n",
      "3 x 3 = 9\n",
      "3 x 4 = 12\n",
      "3 x 5 = 15\n",
      "3 x 6 = 18\n",
      "3 x 7 = 21\n",
      "3 x 8 = 24\n",
      "3 x 9 = 27\n",
      "3 x 10 = 30\n",
      "4 x 1 = 4\n",
      "4 x 2 = 8\n",
      "4 x 3 = 12\n",
      "4 x 4 = 16\n",
      "4 x 5 = 20\n",
      "4 x 6 = 24\n",
      "4 x 7 = 28\n",
      "4 x 8 = 32\n",
      "4 x 9 = 36\n",
      "4 x 10 = 40\n",
      "5 x 1 = 5\n",
      "5 x 2 = 10\n",
      "5 x 3 = 15\n",
      "5 x 4 = 20\n",
      "5 x 5 = 25\n",
      "5 x 6 = 30\n",
      "5 x 7 = 35\n",
      "5 x 8 = 40\n",
      "5 x 9 = 45\n",
      "5 x 10 = 50\n",
      "6 x 1 = 6\n",
      "6 x 2 = 12\n",
      "6 x 3 = 18\n",
      "6 x 4 = 24\n",
      "6 x 5 = 30\n",
      "6 x 6 = 36\n",
      "6 x 7 = 42\n",
      "6 x 8 = 48\n",
      "6 x 9 = 54\n",
      "6 x 10 = 60\n",
      "7 x 1 = 7\n",
      "7 x 2 = 14\n",
      "7 x 3 = 21\n",
      "7 x 4 = 28\n",
      "7 x 5 = 35\n",
      "7 x 6 = 42\n",
      "7 x 7 = 49\n",
      "7 x 8 = 56\n",
      "7 x 9 = 63\n",
      "7 x 10 = 70\n",
      "8 x 1 = 8\n",
      "8 x 2 = 16\n",
      "8 x 3 = 24\n",
      "8 x 4 = 32\n",
      "8 x 5 = 40\n",
      "8 x 6 = 48\n",
      "8 x 7 = 56\n",
      "8 x 8 = 64\n",
      "8 x 9 = 72\n",
      "8 x 10 = 80\n",
      "9 x 1 = 9\n",
      "9 x 2 = 18\n",
      "9 x 3 = 27\n",
      "9 x 4 = 36\n",
      "9 x 5 = 45\n",
      "9 x 6 = 54\n",
      "9 x 7 = 63\n",
      "9 x 8 = 72\n",
      "9 x 9 = 81\n",
      "9 x 10 = 90\n",
      "10 x 1 = 10\n",
      "10 x 2 = 20\n",
      "10 x 3 = 30\n",
      "10 x 4 = 40\n",
      "10 x 5 = 50\n",
      "10 x 6 = 60\n",
      "10 x 7 = 70\n",
      "10 x 8 = 80\n",
      "10 x 9 = 90\n",
      "10 x 10 = 100\n"
     ]
    }
   ],
   "source": [
    "n1=1\n",
    "n2=10\n",
    "op=0\n",
    "for i in range(n1,n2+1):\n",
    "    for j in range(1,11):\n",
    "        op=i*j\n",
    "        print(i,\"x\",j,\"=\",op)"
   ]
  },
  {
   "cell_type": "code",
   "execution_count": 13,
   "id": "a29bddbe",
   "metadata": {},
   "outputs": [
    {
     "name": "stdout",
     "output_type": "stream",
     "text": [
      "[7, 12, 21]\n"
     ]
    }
   ],
   "source": [
    "l1=[[1,2,4],[3,4,5],[6,7,8]]\n",
    "res=[]\n",
    "for i in range(len(l1)):\n",
    "    op1=l1[i]\n",
    "    op=0\n",
    "    for j in range(len(op1)):\n",
    "        op+=l1[i][j]\n",
    "    res.append(op)\n",
    "print(res)\n",
    "\n",
    "\n",
    "\n",
    "    \n",
    "\n",
    "\n"
   ]
  },
  {
   "cell_type": "code",
   "execution_count": null,
   "id": "6e00f761",
   "metadata": {},
   "outputs": [],
   "source": [
    "d=map(int,input().split())\n",
    "l=list(map(int,input().split()))"
   ]
  },
  {
   "cell_type": "code",
   "execution_count": 2,
   "id": "e16fa8da",
   "metadata": {},
   "outputs": [
    {
     "name": "stdout",
     "output_type": "stream",
     "text": [
      "[[1, 2, 3], [1, 2, 3], [1, 2, 3]]\n"
     ]
    }
   ],
   "source": [
    "l=[]\n",
    "n=3\n",
    "for i in range(n):\n",
    "    ll=list(map(int,input().split()))\n",
    "    l.append(ll)\n",
    "print(l)"
   ]
  },
  {
   "cell_type": "code",
   "execution_count": 27,
   "id": "9467ea87",
   "metadata": {},
   "outputs": [
    {
     "name": "stdout",
     "output_type": "stream",
     "text": [
      "* \n",
      "* * \n",
      "* * * \n",
      "* * * * \n",
      "* * * * * \n"
     ]
    }
   ],
   "source": [
    "n=5\n",
    "for i in range(n):\n",
    "    for j in range(i+1):\n",
    "        print(\"*\",end=\" \")\n",
    "    print()\n",
    "    "
   ]
  },
  {
   "cell_type": "code",
   "execution_count": 29,
   "id": "8d2abc2c",
   "metadata": {},
   "outputs": [
    {
     "name": "stdout",
     "output_type": "stream",
     "text": [
      "* * * * * \n",
      "* * * * * \n",
      "* * * * * \n",
      "* * * * * \n",
      "* * * * * \n"
     ]
    }
   ],
   "source": [
    "n=5\n",
    "for i in range(n):\n",
    "    for j in range(n):\n",
    "        print(\"*\",end=\" \")\n",
    "    print()"
   ]
  },
  {
   "cell_type": "code",
   "execution_count": 26,
   "id": "80b003d5",
   "metadata": {},
   "outputs": [
    {
     "name": "stdout",
     "output_type": "stream",
     "text": [
      "11\n"
     ]
    }
   ],
   "source": [
    "def isprime(n):\n",
    "    if n<2:\n",
    "        return False\n",
    "    for i in range(2,n):\n",
    "        if n%i==0:\n",
    "            return False\n",
    "    return True\n",
    "\n",
    "\n",
    "def nearest(num):\n",
    "    if isprime(num):\n",
    "        return num\n",
    "    lower=num-1\n",
    "    higher=num+1\n",
    "    while True:\n",
    "        if isprime(lower):\n",
    "            return lower\n",
    "        if isprime(higher):\n",
    "            return higher\n",
    "    lower-=1\n",
    "    higher+=1\n",
    "\n",
    "print(nearest(ip))\n",
    "ip=10\n"
   ]
  },
  {
   "cell_type": "code",
   "execution_count": 44,
   "id": "5023861a",
   "metadata": {},
   "outputs": [
    {
     "name": "stdout",
     "output_type": "stream",
     "text": [
      "        * \n",
      "      * * \n",
      "    * * * \n",
      "  * * * * \n",
      "* * * * * \n"
     ]
    }
   ],
   "source": [
    "n=5\n",
    "for i in range(n):\n",
    "    for j in range(i,n-1):\n",
    "        print( \" \",end=\" \")\n",
    "    for k in range(i+1):\n",
    "        print(\"*\",end=\" \")\n",
    " \n",
    "    print()"
   ]
  },
  {
   "cell_type": "code",
   "execution_count": 51,
   "id": "7a973a3c",
   "metadata": {},
   "outputs": [
    {
     "name": "stdout",
     "output_type": "stream",
     "text": [
      "* * * * *   \n",
      "* * * *     \n",
      "* * *       \n",
      "* *         \n",
      "*           \n"
     ]
    }
   ],
   "source": [
    "n=5\n",
    "for i in range(n):\n",
    "    for j in range(i,n):\n",
    "        print( \"*\",end=\" \")\n",
    "    for k in range(i+1):\n",
    "        print(\" \",end=\" \")\n",
    " \n",
    "    print()\n",
    "     "
   ]
  },
  {
   "cell_type": "code",
   "execution_count": 11,
   "id": "a7672257",
   "metadata": {},
   "outputs": [
    {
     "name": "stdout",
     "output_type": "stream",
     "text": [
      "[[1, 2, 3], [4, 5, 6], [7, 8, 9]]\n",
      "[[1, 2, 3], [4, 5, 6], [7, 8, 9]]\n"
     ]
    }
   ],
   "source": [
    "l=[]\n",
    "t=[]\n",
    "n=3\n",
    "for _ in range(n):\n",
    "    ll=list(map(int,input().split()))\n",
    "    l.append(ll)\n",
    "    lll=list(map(int,input().split()))\n",
    "    t.append(lll)\n",
    "   \n",
    "print(l)\n",
    "print(t)\n"
   ]
  },
  {
   "cell_type": "code",
   "execution_count": 5,
   "id": "31f7a300",
   "metadata": {},
   "outputs": [
    {
     "name": "stdout",
     "output_type": "stream",
     "text": [
      "*  * * *  \n",
      "     \n",
      "* * *  \n",
      "* *  \n",
      "*  \n",
      " \n"
     ]
    }
   ],
   "source": [
    "n=5\n",
    "for i in range(0,n+1):\n",
    "    for j in range(i,n+1):\n",
    "        if i==1 or i==n or j==1 or j==n:\n",
    "            print(\"\",end=\" \")\n",
    "        else:\n",
    "            print(\"*\",end=\" \")\n",
    "    print()\n"
   ]
  },
  {
   "cell_type": "code",
   "execution_count": 12,
   "id": "869918eb",
   "metadata": {},
   "outputs": [
    {
     "name": "stdout",
     "output_type": "stream",
     "text": [
      "* \n",
      "* * \n",
      "*   * \n",
      "*     * \n",
      "* * * * * \n"
     ]
    }
   ],
   "source": [
    "n=5\n",
    "for i in range(n):\n",
    "    for j in range(i+1):\n",
    "        if i==j or j==0 or i==n-1:\n",
    "            print(\"*\",end=\" \")\n",
    "        else:\n",
    "            print(\" \",end=\" \")\n",
    "    print()\n"
   ]
  },
  {
   "cell_type": "code",
   "execution_count": null,
   "id": "8e31ff44",
   "metadata": {},
   "outputs": [
    {
     "name": "stdout",
     "output_type": "stream",
     "text": [
      "* \n",
      "**\n",
      "\n",
      "* *\n",
      "\n",
      "*  *\n",
      "\n",
      "***** \n"
     ]
    }
   ],
   "source": [
    "n=5\n",
    "for i in range(1,n+1):\n",
    "    if i==1 or i==n:\n",
    "        print(\"*\"*i)\n",
    "    else:\n",
    "        print(\"*\"+\" \"*(i-2)+\"*\")\n",
    "    print()\n",
    "\n"
   ]
  },
  {
   "cell_type": "code",
   "execution_count": null,
   "id": "9ea35349",
   "metadata": {},
   "outputs": [
    {
     "ename": "SyntaxError",
     "evalue": "expected ':' (2717475412.py, line 2)",
     "output_type": "error",
     "traceback": [
      "  \u001b[36mCell\u001b[39m\u001b[36m \u001b[39m\u001b[32mIn[17]\u001b[39m\u001b[32m, line 2\u001b[39m\n\u001b[31m    \u001b[39m\u001b[31mfor i in range\u001b[39m\n                  ^\n\u001b[31mSyntaxError\u001b[39m\u001b[31m:\u001b[39m expected ':'\n"
     ]
    }
   ],
   "source": [
    "n=5\n",
    "for i in range(1,n+1):\n",
    "    s=\" \"*\n",
    "    +\n",
    "    "
   ]
  },
  {
   "cell_type": "code",
   "execution_count": 12,
   "id": "7b060c05",
   "metadata": {},
   "outputs": [
    {
     "name": "stdout",
     "output_type": "stream",
     "text": [
      "False\n"
     ]
    }
   ],
   "source": [
    "ip=input(\"enter the word \")\n",
    "def limit():\n",
    "\n",
    "    if len(ip)!=6:\n",
    "        return False\n",
    "print(limit())\n",
    "    \n"
   ]
  },
  {
   "cell_type": "code",
   "execution_count": 7,
   "id": "7ef389ae",
   "metadata": {},
   "outputs": [
    {
     "name": "stdout",
     "output_type": "stream",
     "text": [
      "testcase 2\n",
      "len 2\n",
      "values None\n",
      "values None\n",
      "len 2\n",
      "values None\n",
      "values None\n",
      "[4, 8]\n"
     ]
    }
   ],
   "source": [
    "ip=int(input(\"test case\"))\n",
    "print(\"testcase\",ip)\n",
    "\n",
    "st=[]\n",
    "for i in range(ip):\n",
    "    kp=int(input(\"len\"))\n",
    "    print(\"len\",kp)\n",
    "    op=[]\n",
    "    for j in range(kp):\n",
    "        \n",
    "        mp=op.append(int(input(\"values\")))\n",
    "        print(\"values\",mp)\n",
    "    st.append(max(op))\n",
    "print(st)"
   ]
  },
  {
   "cell_type": "code",
   "execution_count": 3,
   "id": "85fce581",
   "metadata": {},
   "outputs": [
    {
     "name": "stdout",
     "output_type": "stream",
     "text": [
      "1 \n",
      "2 2 \n",
      "3 3 3 \n",
      "4 4 4 4 \n",
      "5 5 5 5 5 \n"
     ]
    }
   ],
   "source": [
    "n=5\n",
    "for i in range(5):\n",
    "    for j in range(i+1):\n",
    "        print(i+1,end=\" \")\n",
    "    print()"
   ]
  },
  {
   "cell_type": "code",
   "execution_count": 4,
   "id": "ac469d3d",
   "metadata": {},
   "outputs": [
    {
     "name": "stdout",
     "output_type": "stream",
     "text": [
      "1 \n",
      "1 2 \n",
      "1 2 3 \n",
      "1 2 3 4 \n",
      "1 2 3 4 5 \n"
     ]
    }
   ],
   "source": [
    "n=5\n",
    "for i in range(5):\n",
    "    for j in range(i+1):\n",
    "        print(j+1,end=\" \")\n",
    "    print()"
   ]
  },
  {
   "cell_type": "code",
   "execution_count": null,
   "id": "af6652fe",
   "metadata": {},
   "outputs": [
    {
     "name": "stdout",
     "output_type": "stream",
     "text": [
      "1 \n",
      "2 3 \n",
      "4 5 6 \n",
      "7 8 9 10 \n",
      "11 12 13 14 15 \n"
     ]
    }
   ],
   "source": [
    "n=5\n",
    "val=0\n",
    "for i in range(n):\n",
    "    for j in range(i+1):\n",
    "        val+=1\n",
    "        print(val,end=\" \")\n",
    "    print()\n"
   ]
  },
  {
   "cell_type": "code",
   "execution_count": 11,
   "id": "b715dd69",
   "metadata": {},
   "outputs": [
    {
     "name": "stdout",
     "output_type": "stream",
     "text": [
      "        * \n",
      "      * * * \n",
      "    * * * * * \n",
      "  * * * * * * * \n",
      "* * * * * * * * * \n"
     ]
    }
   ],
   "source": [
    "n=5\n",
    "for i in range(n):\n",
    "    for j in range(n-i-1):\n",
    "    \n",
    "        print(\" \",end=\" \")\n",
    "    for k in range(2*i+1):\n",
    "        print(\"*\",end=\" \")\n",
    "    print()"
   ]
  },
  {
   "cell_type": "code",
   "execution_count": 15,
   "id": "ff5aedde",
   "metadata": {},
   "outputs": [
    {
     "name": "stdout",
     "output_type": "stream",
     "text": [
      "* * * * * * * * * \n",
      "  * * * * * * *   \n",
      "    * * * * *     \n",
      "      * * *       \n",
      "        *         \n"
     ]
    }
   ],
   "source": [
    "n=5\n",
    "for i in range(n-1,-1,-1):\n",
    "    for k in range(n-i-1):\n",
    "        print(\" \",end=\" \")\n",
    "    for j in range(2*i+1):\n",
    "        print(\"*\",end=\" \")\n",
    "    for l in range(n-i-1):\n",
    "        print(\" \",end=\" \")\n",
    "    print()\n",
    "    \n",
    "\n"
   ]
  },
  {
   "cell_type": "code",
   "execution_count": 19,
   "id": "fe465118",
   "metadata": {},
   "outputs": [
    {
     "name": "stdout",
     "output_type": "stream",
     "text": [
      "        * \n",
      "      * * * \n",
      "    * * * * * \n",
      "  * * * * * * * \n",
      "* * * * * * * * * \n",
      "  * * * * * * *   \n",
      "    * * * * *     \n",
      "      * * *       \n",
      "        *         \n"
     ]
    }
   ],
   "source": [
    "n=5\n",
    "for i in range(n):\n",
    "    for j in range(n-i-1):\n",
    "        print(\" \",end=\" \")\n",
    "    for k in range(2*i+1):\n",
    "        print(\"*\",end=\" \")\n",
    "    print()\n",
    "for i in range(n-2,-1,-1):\n",
    "    for j in range(n-i-1):\n",
    "        print(\" \",end=\" \")\n",
    "    for k in range(2*i+1):\n",
    "        print(\"*\",end=\" \")\n",
    "    for l in range(n-i-1):\n",
    "        print(\" \",end=\" \")\n",
    "    print()"
   ]
  },
  {
   "cell_type": "code",
   "execution_count": 21,
   "id": "48658021",
   "metadata": {},
   "outputs": [
    {
     "name": "stdout",
     "output_type": "stream",
     "text": [
      "* \n",
      "* * \n",
      "* * * \n",
      "* * * * \n",
      "* * * * * \n",
      "* * * * \n",
      "* * * \n",
      "* * \n",
      "* \n",
      "\n"
     ]
    }
   ],
   "source": [
    "n=5\n",
    "for i in range(n):\n",
    "    for j in range(i+1):\n",
    "        print(\"*\",end=\" \")\n",
    "    print()\n",
    "for i in range(n-1,-1,-1):\n",
    "    for j in range(i):\n",
    "        print(\"*\",end=\" \")\n",
    "    print()"
   ]
  },
  {
   "cell_type": "code",
   "execution_count": null,
   "id": "863a8315",
   "metadata": {},
   "outputs": [
    {
     "name": "stdout",
     "output_type": "stream",
     "text": [
      "1 \n",
      "0 1 \n",
      "1 0 1 \n",
      "0 1 0 1 \n",
      "1 0 1 0 1 \n"
     ]
    }
   ],
   "source": [
    "rows = 5  \n",
    "\n",
    "start = 1   \n",
    "\n",
    "for i in range(n):\n",
    "    if i%2==0:\n",
    "        start=1\n",
    "    else:\n",
    "        start=0\n",
    "    for j in range(i+1):\n",
    "        print(start, end=\" \")\n",
    "        start = 1 - start\n",
    "    print()\n",
    "\n"
   ]
  },
  {
   "cell_type": "code",
   "execution_count": 18,
   "id": "ff05fd18",
   "metadata": {},
   "outputs": [
    {
     "name": "stdout",
     "output_type": "stream",
     "text": [
      "1                 1 \n",
      "1 2             2 1 \n",
      "1 2 3         3 2 1 \n",
      "1 2 3 4     4 3 2 1 \n",
      "1 2 3 4 5 5 4 3 2 1 \n"
     ]
    }
   ],
   "source": [
    "n=5\n",
    "space=2*(n-1)\n",
    "for i in range(n):\n",
    "    for j in  range(i+1):\n",
    "        print(j+1,end=\" \")\n",
    "    \n",
    "    for l in range(space):\n",
    "        print(\" \",end=\" \")\n",
    "    space-=2\n",
    "    for k in range(i+1,0,-1):\n",
    "        print(k,end=\" \")\n",
    "    \n",
    "    print()\n",
    "   \n"
   ]
  },
  {
   "cell_type": "code",
   "execution_count": 20,
   "id": "57afb231",
   "metadata": {},
   "outputs": [
    {
     "name": "stdout",
     "output_type": "stream",
     "text": [
      "1 \n",
      "2 3 \n",
      "4 5 6 \n",
      "7 8 9 10 \n",
      "11 12 13 14 15 \n"
     ]
    }
   ],
   "source": [
    "n=5\n",
    "value=0\n",
    "for i in range(n):\n",
    "    for j in range(i+1):\n",
    "        value+=1\n",
    "        print(value,end=\" \")\n",
    "    print()"
   ]
  },
  {
   "cell_type": "code",
   "execution_count": 25,
   "id": "0cdb94db",
   "metadata": {},
   "outputs": [
    {
     "name": "stdout",
     "output_type": "stream",
     "text": [
      "a b c d e \n",
      "a b c d \n",
      "a b c \n",
      "a b \n",
      "a \n"
     ]
    }
   ],
   "source": [
    "char=\"a\"\n",
    "n=5\n",
    "for i in range(n-1,-1,-1):\n",
    "    for j in range(i+1):\n",
    "        print(chr(ord(char)+(j)), end=\" \")\n",
    "    print()"
   ]
  },
  {
   "cell_type": "code",
   "execution_count": 26,
   "id": "c467181e",
   "metadata": {},
   "outputs": [
    {
     "name": "stdout",
     "output_type": "stream",
     "text": [
      "A \n",
      "B B \n",
      "C C C \n",
      "D D D D \n",
      "E E E E E \n"
     ]
    }
   ],
   "source": [
    "n=5\n",
    "char=\"A\"\n",
    "for i  in range(n):\n",
    "    for j in range(i+1):\n",
    "        print(chr(ord(char)+i),end=\" \")\n",
    "    print()\n"
   ]
  },
  {
   "cell_type": "code",
   "execution_count": 34,
   "id": "f62a65ef",
   "metadata": {},
   "outputs": [
    {
     "name": "stdout",
     "output_type": "stream",
     "text": [
      "        A \n",
      "      B B B \n",
      "    C C C C C \n",
      "  D D D D D D D \n",
      "E E E E E E E E E \n"
     ]
    }
   ],
   "source": [
    "n=5\n",
    "char=\"A\"\n",
    "for i in range(n):\n",
    "    for j in range(n-i-1):\n",
    "        print(\" \",end=\" \")\n",
    "    for k in range(2*i+1):\n",
    "        print(chr(ord(char)+i),end=\" \")\n",
    "    print()"
   ]
  },
  {
   "cell_type": "code",
   "execution_count": 36,
   "id": "a5dabde5",
   "metadata": {},
   "outputs": [
    {
     "name": "stdout",
     "output_type": "stream",
     "text": [
      "5 \n",
      "5 4 \n",
      "5 4 3 \n",
      "5 4 3 2 \n",
      "5 4 3 2 1 \n"
     ]
    }
   ],
   "source": [
    "n=5\n",
    "\n",
    "for i in range(1,n+1):\n",
    "    for j in range(n,n-i,-1):\n",
    "        print(j,end=\" \")\n",
    "    print()\n"
   ]
  },
  {
   "cell_type": "code",
   "execution_count": 37,
   "id": "16f0291c",
   "metadata": {},
   "outputs": [
    {
     "name": "stdout",
     "output_type": "stream",
     "text": [
      "e \n",
      "d e \n",
      "c d e \n",
      "b c d e \n",
      "a b c d e \n"
     ]
    }
   ],
   "source": [
    "n=5\n",
    "char=\"e\"\n",
    "for i in range(n):\n",
    "    start=ord(char)-i\n",
    "    for j in range(i+1):\n",
    "        print(chr(start+j),end=\" \")\n",
    "    print()"
   ]
  },
  {
   "cell_type": "code",
   "execution_count": 68,
   "id": "37ec8fbd",
   "metadata": {},
   "outputs": [
    {
     "name": "stdout",
     "output_type": "stream",
     "text": [
      "* * * * * * * * * * \n",
      "* * * *     * * * * \n",
      "* * *         * * * \n",
      "* *             * * \n",
      "*                 * \n",
      "*                 * \n",
      "* *             * * \n",
      "* * *         * * * \n",
      "* * * *     * * * * \n",
      "* * * * * * * * * * \n"
     ]
    }
   ],
   "source": [
    "n=5\n",
    "for i in range(n):\n",
    "    for j in range(n-i):\n",
    "        print(\"*\",end=\" \")\n",
    "    for k in range(2*i):\n",
    "        print(\" \",end=\" \")\n",
    "    for l in range(n-i):\n",
    "        print(\"*\",end=\" \")\n",
    "    print()\n",
    "space=2*(n-1)\n",
    "for i in range(n):\n",
    "    for j in range(i+1):\n",
    "        print(\"*\",end=\" \")\n",
    "    for k in range(space):\n",
    "        print(\" \",end=\" \")\n",
    "    space-=2\n",
    "    for l in range(i+1):\n",
    "        print(\"*\",end=\" \")\n",
    "    print()"
   ]
  },
  {
   "cell_type": "code",
   "execution_count": 83,
   "id": "71e0b8f2",
   "metadata": {},
   "outputs": [
    {
     "name": "stdout",
     "output_type": "stream",
     "text": [
      "*                 * \n",
      "* *             * * \n",
      "* * *         * * * \n",
      "* * * *     * * * * \n",
      "* * * * * * * * * * \n",
      "* * * *     * * * * \n",
      "* * *         * * * \n",
      "* *             * * \n",
      "*                 * \n",
      "                    \n"
     ]
    }
   ],
   "source": [
    "n=5\n",
    "space=2*(n-1)\n",
    "for i in range(n):\n",
    "    \n",
    "    for j in range(i+1):\n",
    "        print(\"*\",end=\" \")\n",
    "    for k in range(space):\n",
    "        print(\" \",end=\" \")\n",
    "    space-=2\n",
    "   \n",
    "    for l in range(i+1):\n",
    "        print(\"*\",end=\" \")\n",
    "\n",
    "    print()\n",
    "for i in range(n):\n",
    "    for j in range(n-i-1):\n",
    "        print(\"*\",end=\" \")\n",
    "    for k in range(2*i+2):\n",
    "        print(\" \",end=\" \")\n",
    "    for l in range(n-i-1):\n",
    "        print(\"*\",end=\" \")\n",
    "    print()"
   ]
  },
  {
   "cell_type": "code",
   "execution_count": null,
   "id": "0be2e3cd",
   "metadata": {},
   "outputs": [
    {
     "name": "stdout",
     "output_type": "stream",
     "text": [
      "* * * * * * \n",
      "*         * \n",
      "*         * \n",
      "*         * \n",
      "*         * \n",
      "* * * * * * \n"
     ]
    }
   ],
   "source": [
    "n=6\n",
    "for i in  range(n):\n",
    "    for j in range(n):\n",
    "        if i==0 or j==0 or i==n-1 or j==n-1:\n",
    "            print(\"*\",end=\" \")\n",
    "        else:\n",
    "            print(\" \",end=\" \")\n",
    "    print()\n",
    "                "
   ]
  },
  {
   "cell_type": "code",
   "execution_count": 1,
   "id": "b8ada71d",
   "metadata": {},
   "outputs": [
    {
     "name": "stdout",
     "output_type": "stream",
     "text": [
      "True\n"
     ]
    }
   ],
   "source": [
    "def palim(s,p1,p2):\n",
    "    if p1>p2:\n",
    "        return True\n",
    "    if s[p1]==s[p2]:\n",
    "        return palim(s,p1+1,p2-1)\n",
    "    return False\n",
    "\n",
    "s=\"madam\"\n",
    "p1=0\n",
    "p2=len(s)-1\n",
    "print(palim(s,p1,p2))"
   ]
  },
  {
   "cell_type": "code",
   "execution_count": 3,
   "id": "df5511bd",
   "metadata": {},
   "outputs": [
    {
     "name": "stdout",
     "output_type": "stream",
     "text": [
      "55\n"
     ]
    }
   ],
   "source": [
    "def sum(n):\n",
    "    if n==1:\n",
    "        return n\n",
    "    return n+(sum(n-1))\n",
    "n=10\n",
    "print(sum(n))"
   ]
  },
  {
   "cell_type": "code",
   "execution_count": 4,
   "id": "52069b67",
   "metadata": {},
   "outputs": [
    {
     "name": "stdout",
     "output_type": "stream",
     "text": [
      "120\n"
     ]
    }
   ],
   "source": [
    "def fact(n):\n",
    "    if n==1:\n",
    "        return n\n",
    "    return n*(fact(n-1))\n",
    "n=5\n",
    "print(fact(n))"
   ]
  },
  {
   "cell_type": "code",
   "execution_count": 5,
   "id": "13b8219d",
   "metadata": {},
   "outputs": [
    {
     "name": "stdout",
     "output_type": "stream",
     "text": [
      "8\n"
     ]
    }
   ],
   "source": [
    "def squar(n,m):\n",
    "    if m==1:\n",
    "        return n\n",
    "    return n*(squar(n,m-1))\n",
    "n=2\n",
    "m=3\n",
    "print(squar(n,m))"
   ]
  },
  {
   "cell_type": "code",
   "execution_count": null,
   "id": "8f6802b3",
   "metadata": {},
   "outputs": [],
   "source": [
    "def fibona():\n",
    "    "
   ]
  },
  {
   "cell_type": "code",
   "execution_count": 13,
   "id": "e646d937",
   "metadata": {},
   "outputs": [
    {
     "name": "stdout",
     "output_type": "stream",
     "text": [
      "0\n",
      "1\n",
      "1\n",
      "2\n",
      "3\n",
      "5\n",
      "8\n",
      "13\n",
      "21\n",
      "34\n",
      "55\n"
     ]
    }
   ],
   "source": [
    "n=10 \n",
    "a,b=0,1\n",
    "for i in range(10):\n",
    "    print(a)\n",
    "    a,b=b,a+b\n",
    "print(a)"
   ]
  },
  {
   "cell_type": "code",
   "execution_count": null,
   "id": "a1933f74",
   "metadata": {},
   "outputs": [],
   "source": [
    "def fabina"
   ]
  },
  {
   "cell_type": "code",
   "execution_count": null,
   "id": "a03122bd",
   "metadata": {},
   "outputs": [],
   "source": []
  }
 ],
 "metadata": {
  "kernelspec": {
   "display_name": "Python 3",
   "language": "python",
   "name": "python3"
  },
  "language_info": {
   "codemirror_mode": {
    "name": "ipython",
    "version": 3
   },
   "file_extension": ".py",
   "mimetype": "text/x-python",
   "name": "python",
   "nbconvert_exporter": "python",
   "pygments_lexer": "ipython3",
   "version": "3.13.1"
  }
 },
 "nbformat": 4,
 "nbformat_minor": 5
}
