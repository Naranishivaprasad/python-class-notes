{
 "cells": [
  {
   "cell_type": "code",
   "execution_count": 1,
   "id": "4b5a52e6",
   "metadata": {},
   "outputs": [
    {
     "name": "stdout",
     "output_type": "stream",
     "text": [
      "True\n"
     ]
    }
   ],
   "source": [
    "def palim(s,p1,p2):\n",
    "    if p2<p1:\n",
    "        return True\n",
    "    if s[p1]==s[p2]:\n",
    "        return palim(s,p1+1,p2-1)\n",
    "s=\"madam\"\n",
    "p1=0\n",
    "p2=len(s)-1\n",
    "print(palim(s,p1,p2))"
   ]
  },
  {
   "cell_type": "code",
   "execution_count": 2,
   "id": "747eeb86",
   "metadata": {},
   "outputs": [
    {
     "name": "stdout",
     "output_type": "stream",
     "text": [
      "55\n"
     ]
    }
   ],
   "source": [
    "def fibona(n):\n",
    "    if n==1 or n==0:\n",
    "        return n\n",
    "    return fibona(n-1)+fibona(n-2)\n",
    "n=10\n",
    "print(fibona(n))"
   ]
  }
 ],
 "metadata": {
  "kernelspec": {
   "display_name": "Python 3",
   "language": "python",
   "name": "python3"
  },
  "language_info": {
   "codemirror_mode": {
    "name": "ipython",
    "version": 3
   },
   "file_extension": ".py",
   "mimetype": "text/x-python",
   "name": "python",
   "nbconvert_exporter": "python",
   "pygments_lexer": "ipython3",
   "version": "3.13.1"
  }
 },
 "nbformat": 4,
 "nbformat_minor": 5
}
