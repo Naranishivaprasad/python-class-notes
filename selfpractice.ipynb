{
 "cells": [
  {
   "cell_type": "code",
   "execution_count": 1,
   "id": "02408eff",
   "metadata": {},
   "outputs": [
    {
     "name": "stdout",
     "output_type": "stream",
     "text": [
      "0 X 1 = 0\n",
      "0 X 2 = 0\n",
      "0 X 3 = 0\n",
      "0 X 4 = 0\n",
      "0 X 5 = 0\n",
      "0 X 6 = 0\n",
      "0 X 7 = 0\n",
      "0 X 8 = 0\n",
      "0 X 9 = 0\n",
      "0 X 10 = 0\n",
      "\n",
      "1 X 1 = 1\n",
      "1 X 2 = 2\n",
      "1 X 3 = 3\n",
      "1 X 4 = 4\n",
      "1 X 5 = 5\n",
      "1 X 6 = 6\n",
      "1 X 7 = 7\n",
      "1 X 8 = 8\n",
      "1 X 9 = 9\n",
      "1 X 10 = 10\n",
      "\n",
      "2 X 1 = 2\n",
      "2 X 2 = 4\n",
      "2 X 3 = 6\n",
      "2 X 4 = 8\n",
      "2 X 5 = 10\n",
      "2 X 6 = 12\n",
      "2 X 7 = 14\n",
      "2 X 8 = 16\n",
      "2 X 9 = 18\n",
      "2 X 10 = 20\n",
      "\n",
      "3 X 1 = 3\n",
      "3 X 2 = 6\n",
      "3 X 3 = 9\n",
      "3 X 4 = 12\n",
      "3 X 5 = 15\n",
      "3 X 6 = 18\n",
      "3 X 7 = 21\n",
      "3 X 8 = 24\n",
      "3 X 9 = 27\n",
      "3 X 10 = 30\n",
      "\n",
      "4 X 1 = 4\n",
      "4 X 2 = 8\n",
      "4 X 3 = 12\n",
      "4 X 4 = 16\n",
      "4 X 5 = 20\n",
      "4 X 6 = 24\n",
      "4 X 7 = 28\n",
      "4 X 8 = 32\n",
      "4 X 9 = 36\n",
      "4 X 10 = 40\n",
      "\n",
      "5 X 1 = 5\n",
      "5 X 2 = 10\n",
      "5 X 3 = 15\n",
      "5 X 4 = 20\n",
      "5 X 5 = 25\n",
      "5 X 6 = 30\n",
      "5 X 7 = 35\n",
      "5 X 8 = 40\n",
      "5 X 9 = 45\n",
      "5 X 10 = 50\n",
      "\n",
      "6 X 1 = 6\n",
      "6 X 2 = 12\n",
      "6 X 3 = 18\n",
      "6 X 4 = 24\n",
      "6 X 5 = 30\n",
      "6 X 6 = 36\n",
      "6 X 7 = 42\n",
      "6 X 8 = 48\n",
      "6 X 9 = 54\n",
      "6 X 10 = 60\n",
      "\n",
      "7 X 1 = 7\n",
      "7 X 2 = 14\n",
      "7 X 3 = 21\n",
      "7 X 4 = 28\n",
      "7 X 5 = 35\n",
      "7 X 6 = 42\n",
      "7 X 7 = 49\n",
      "7 X 8 = 56\n",
      "7 X 9 = 63\n",
      "7 X 10 = 70\n",
      "\n",
      "8 X 1 = 8\n",
      "8 X 2 = 16\n",
      "8 X 3 = 24\n",
      "8 X 4 = 32\n",
      "8 X 5 = 40\n",
      "8 X 6 = 48\n",
      "8 X 7 = 56\n",
      "8 X 8 = 64\n",
      "8 X 9 = 72\n",
      "8 X 10 = 80\n",
      "\n",
      "9 X 1 = 9\n",
      "9 X 2 = 18\n",
      "9 X 3 = 27\n",
      "9 X 4 = 36\n",
      "9 X 5 = 45\n",
      "9 X 6 = 54\n",
      "9 X 7 = 63\n",
      "9 X 8 = 72\n",
      "9 X 9 = 81\n",
      "9 X 10 = 90\n",
      "\n",
      "10 X 1 = 10\n",
      "10 X 2 = 20\n",
      "10 X 3 = 30\n",
      "10 X 4 = 40\n",
      "10 X 5 = 50\n",
      "10 X 6 = 60\n",
      "10 X 7 = 70\n",
      "10 X 8 = 80\n",
      "10 X 9 = 90\n",
      "10 X 10 = 100\n",
      "\n"
     ]
    }
   ],
   "source": [
    "n=10\n",
    "for i in range(n+1):\n",
    "    for j in range(1,n+1):\n",
    "        print(f\"{i} X {j} = {i*j}\")\n",
    "    print()"
   ]
  },
  {
   "cell_type": "code",
   "execution_count": 31,
   "id": "d3009a94",
   "metadata": {},
   "outputs": [
    {
     "name": "stdout",
     "output_type": "stream",
     "text": [
      "*         *\n",
      "**       **\n",
      "* *     * *\n",
      "*  *   *  *\n",
      "*   * *   *\n",
      "*    *    *\n",
      "*   * *   *\n",
      "*  *   *  *\n",
      "* *     * *\n",
      "**       **\n",
      "*         *\n"
     ]
    }
   ],
   "source": [
    "n=5\n",
    "for i in range(n,0,-1):\n",
    "    s=\" \"*(n-i)\n",
    "    if i==1:\n",
    "        print(\"*\"+s+\"*\"+s+\"*\")\n",
    "    else:\n",
    "        if i==n:\n",
    "            print(\"* \"+\"  \"*(i-1)+\"*\")\n",
    "            print(\"*\"+s+\"* \"+\"  \"*(i-2)+\"*\"+s+\"*\")\n",
    "        else:\n",
    "            print(\"*\"+s+\"* \"+\"  \"*(i-2)+\"*\"+s+\"*\")\n",
    "for i in range(2,n+1):\n",
    "    s=\" \"*(n-i)\n",
    "    if i==1:\n",
    "        print(\"*\"+s+\"* \"*(i))\n",
    "    else:\n",
    "        if i==n:\n",
    "            print(\"*\"+s+\"* \"+\"  \"*(i-2)+\"*\"+s+\"*\")\n",
    "            print(\"* \"+\"  \"*(i-1)+\"*\")\n",
    "        else:\n",
    "            print(\"*\"+s+\"* \"+\"  \"*(i-2)+\"*\"+s+\"*\")\n",
    "\n",
    "      "
   ]
  },
  {
   "cell_type": "code",
   "execution_count": 21,
   "id": "6bfe1239",
   "metadata": {},
   "outputs": [
    {
     "name": "stdout",
     "output_type": "stream",
     "text": [
      "5000\n"
     ]
    }
   ],
   "source": [
    "# interview question \n",
    "#how many times recursion is repeating\n",
    "\n",
    "import sys\n",
    "sys.setrecursionlimit(5000)\n",
    "print(sys.getrecursionlimit())\n"
   ]
  },
  {
   "cell_type": "code",
   "execution_count": 38,
   "id": "dd979332",
   "metadata": {},
   "outputs": [
    {
     "data": {
      "text/plain": [
       "55"
      ]
     },
     "execution_count": 38,
     "metadata": {},
     "output_type": "execute_result"
    }
   ],
   "source": [
    "def sum(n):\n",
    "    if n==1:\n",
    "        return n\n",
    "    return n+sum(n-1)\n",
    "n=10\n",
    "sum(n)"
   ]
  },
  {
   "cell_type": "code",
   "execution_count": null,
   "id": "d3ab3c3d",
   "metadata": {},
   "outputs": [
    {
     "name": "stdout",
     "output_type": "stream",
     "text": [
      "True\n"
     ]
    }
   ],
   "source": [
    "def palin(s,p1,p2):\n",
    "    if p1>p2:# 0,4  1,3   2,2,  3,1  4,0\n",
    "        return True\n",
    "    if s[p1]==s[p2]:\n",
    "        return palin(s,p1+1,p2-1)\n",
    "    return False\n",
    "s=\"madam\"\n",
    "p1=0\n",
    "p2=len(s)-1\n",
    "print(palin(s,p1,p2))\n"
   ]
  },
  {
   "cell_type": "code",
   "execution_count": null,
   "id": "4f3a0047",
   "metadata": {},
   "outputs": [
    {
     "name": "stdout",
     "output_type": "stream",
     "text": [
      "120\n"
     ]
    }
   ],
   "source": [
    "def fact(n):\n",
    "    if  n==1:\n",
    "        return 1\n",
    "    return n*fact(n-1)\n",
    "n=5\n",
    "print(fact(n))"
   ]
  },
  {
   "cell_type": "code",
   "execution_count": 29,
   "id": "8466b0ff",
   "metadata": {},
   "outputs": [
    {
     "name": "stdout",
     "output_type": "stream",
     "text": [
      "false\n"
     ]
    }
   ],
   "source": [
    "# for else \n",
    "n=10\n",
    "if n<2:\n",
    "    print(\"false\")\n",
    "else:\n",
    "    for i in range(2,n):\n",
    "        if n%i==0:\n",
    "            print(\"false\")\n",
    "            break\n",
    "    else:\n",
    "        print(\"true\")"
   ]
  },
  {
   "cell_type": "code",
   "execution_count": 1,
   "id": "a5038430",
   "metadata": {},
   "outputs": [
    {
     "name": "stdout",
     "output_type": "stream",
     "text": [
      "false\n"
     ]
    }
   ],
   "source": [
    "n=34\n",
    "for i in range(1,n):\n",
    "    if i**2==n:\n",
    "        print(\"true\")\n",
    "else:\n",
    "    print(\"false\")   \n",
    "    \n",
    "\n"
   ]
  },
  {
   "cell_type": "code",
   "execution_count": null,
   "id": "e08586cd",
   "metadata": {},
   "outputs": [
    {
     "name": "stdout",
     "output_type": "stream",
     "text": [
      "False\n"
     ]
    }
   ],
   "source": [
    "# another approach\n",
    "\n",
    "\n",
    "n=int(input(\"enter\"))\n",
    "for i in range(1,n):\n",
    "    if n & (n-1)==0:\n",
    "        print(\"True\")\n",
    "        break\n",
    "    else:\n",
    "        print(\"False\")\n",
    "        break"
   ]
  },
  {
   "cell_type": "code",
   "execution_count": null,
   "id": "7a47c33e",
   "metadata": {},
   "outputs": [
    {
     "name": "stdout",
     "output_type": "stream",
     "text": [
      "8\n"
     ]
    }
   ],
   "source": [
    "def sqrt(n,m):\n",
    "    if m==1:\n",
    "        return n\n",
    "    else:\n",
    "        return n*sqrt(n,m-1)\n",
    "print(sqrt(2,3))\n",
    "\n",
    "    "
   ]
  },
  {
   "cell_type": "code",
   "execution_count": 4,
   "id": "e2626523",
   "metadata": {},
   "outputs": [],
   "source": [
    "def power(x,y):\n",
    "    if y<0:\n",
    "        print(1/power(x,-y))\n",
    "    else:\n",
    "        print(power(x,y))\n",
    "\n",
    "    return \n"
   ]
  },
  {
   "cell_type": "code",
   "execution_count": null,
   "id": "0bacb500",
   "metadata": {},
   "outputs": [
    {
     "name": "stdout",
     "output_type": "stream",
     "text": [
      "    *     \n",
      "   * *\n",
      "  *   *\n",
      " *     *\n",
      "  *    * \n",
      "    *  * \n",
      "      ** \n",
      "        ** \n"
     ]
    }
   ],
   "source": [
    "n=5\n",
    "for i  in range(1,n):\n",
    "    if i==1:\n",
    "        print(\" \"*(n-i)+\"* \"+ \" \"*(n-i))\n",
    "    else:\n",
    "        print(\" \"*(n-i)+\"* \"+\"  \"*(i-2)+\"*\")\n",
    "for i in range(n-1,0,-1):\n"
   ]
  },
  {
   "cell_type": "code",
   "execution_count": 4,
   "id": "79872043",
   "metadata": {},
   "outputs": [
    {
     "name": "stdout",
     "output_type": "stream",
     "text": [
      "1\n"
     ]
    }
   ],
   "source": [
    "a=[2,3,4,3,4,2,1]\n",
    "b={}\n",
    "for i in a:\n",
    "    if i  in b :\n",
    "        b[i]+=1\n",
    "    else:\n",
    "        b[i]=1\n",
    "result=[]\n",
    "for i in b:\n",
    "    if b[i]==1:\n",
    "        print(i)\n",
    "        break     "
   ]
  },
  {
   "cell_type": "code",
   "execution_count": null,
   "id": "0ec6683f",
   "metadata": {},
   "outputs": [
    {
     "name": "stdout",
     "output_type": "stream",
     "text": [
      "*         *\n",
      " *       *\n",
      "  *     *\n",
      "   *   *\n",
      "     *    \n"
     ]
    }
   ],
   "source": [
    "n=5\n",
    "for i in range(n,0,-1):\n",
    "    s=\" \"*(n-i)\n",
    "    if i==1:\n",
    "        print(s+\" *\"+s)\n",
    "    else:\n",
    "        print(s+\"* \"+\"  \"*(i-1)+\"*\")"
   ]
  },
  {
   "cell_type": "code",
   "execution_count": null,
   "id": "792d6eef",
   "metadata": {},
   "outputs": [],
   "source": []
  }
 ],
 "metadata": {
  "kernelspec": {
   "display_name": "Python 3",
   "language": "python",
   "name": "python3"
  },
  "language_info": {
   "codemirror_mode": {
    "name": "ipython",
    "version": 3
   },
   "file_extension": ".py",
   "mimetype": "text/x-python",
   "name": "python",
   "nbconvert_exporter": "python",
   "pygments_lexer": "ipython3",
   "version": "3.13.1"
  }
 },
 "nbformat": 4,
 "nbformat_minor": 5
}
