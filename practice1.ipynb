{
 "cells": [
  {
   "cell_type": "code",
   "execution_count": 1,
   "id": "8f5cb9c3",
   "metadata": {},
   "outputs": [
    {
     "name": "stdout",
     "output_type": "stream",
     "text": [
      "2\n"
     ]
    }
   ],
   "source": [
    "# find()method\n",
    "x='shiva'\n",
    "print(x.find(\"iv\"))"
   ]
  },
  {
   "cell_type": "code",
   "execution_count": 2,
   "id": "c44a762e",
   "metadata": {},
   "outputs": [
    {
     "name": "stdout",
     "output_type": "stream",
     "text": [
      "12\n"
     ]
    }
   ],
   "source": [
    "# rfind() is used for the last index value\n",
    "x=\"hello world hello\"\n",
    "print(x.rfind(\"hello\"))"
   ]
  },
  {
   "cell_type": "code",
   "execution_count": 6,
   "id": "037352f9",
   "metadata": {},
   "outputs": [
    {
     "name": "stdout",
     "output_type": "stream",
     "text": [
      "12\n"
     ]
    }
   ],
   "source": [
    "def finds(s,sub):\n",
    "    for i in range(len(s)-1,-1,-1):\n",
    "        if s[i]==sub:\n",
    "            return i\n",
    "s=\"hello hello hello\"\n",
    "sub=\"h\"\n",
    "            \n",
    "print(finds(s,sub))"
   ]
  },
  {
   "cell_type": "code",
   "execution_count": 7,
   "id": "98cb9d16",
   "metadata": {},
   "outputs": [
    {
     "name": "stdout",
     "output_type": "stream",
     "text": [
      "2\n"
     ]
    }
   ],
   "source": [
    "# index()\n",
    "s=\"hello\"\n",
    "print(s.index(\"l\"))"
   ]
  },
  {
   "cell_type": "code",
   "execution_count": null,
   "id": "a383f5f4",
   "metadata": {},
   "outputs": [],
   "source": [
    "# checking build in function\n",
    "\n",
    "startswith()\n",
    "endswith()\n"
   ]
  },
  {
   "cell_type": "code",
   "execution_count": null,
   "id": "1e546c32",
   "metadata": {},
   "outputs": [
    {
     "name": "stdout",
     "output_type": "stream",
     "text": [
      "True\n"
     ]
    }
   ],
   "source": [
    "# startswith()\n",
    "# tocheck its prefix starts with sub or not(True or False)\n",
    "x=\"hello\"\n",
    "print(x.startswith(\"he\"))"
   ]
  },
  {
   "cell_type": "code",
   "execution_count": 11,
   "id": "ff37a403",
   "metadata": {},
   "outputs": [
    {
     "name": "stdout",
     "output_type": "stream",
     "text": [
      "True\n",
      "False\n"
     ]
    }
   ],
   "source": [
    "#endswith()\n",
    "#tocheck its suffix with sub or not (true or false)\n",
    "x=\"hello\"\n",
    "print(x.endswith(\"lo\"))\n",
    "print(x.endswith(\"ll\"))"
   ]
  },
  {
   "cell_type": "code",
   "execution_count": 12,
   "id": "d52eda28",
   "metadata": {},
   "outputs": [
    {
     "name": "stdout",
     "output_type": "stream",
     "text": [
      "True\n"
     ]
    }
   ],
   "source": [
    "#islower()\n",
    "#to check it is lower case or not (true or false)\n",
    "x=\"hello\"\n",
    "print(x.islower())"
   ]
  },
  {
   "cell_type": "code",
   "execution_count": 13,
   "id": "ef5fdd91",
   "metadata": {},
   "outputs": [
    {
     "name": "stdout",
     "output_type": "stream",
     "text": [
      "False\n"
     ]
    }
   ],
   "source": [
    "#isupper()\n",
    "# to check it is upper case or not (true or false)\n",
    "x=\"hello\"\n",
    "print(x.isupper())"
   ]
  },
  {
   "cell_type": "code",
   "execution_count": 14,
   "id": "1580e7e0",
   "metadata": {},
   "outputs": [
    {
     "name": "stdout",
     "output_type": "stream",
     "text": [
      "True\n",
      "False\n"
     ]
    }
   ],
   "source": [
    "#isalpha()\n",
    "#to check weather a string is alphabet or not(true or false)\n",
    "x=\"hello\"\n",
    "y=\"hello1\"\n",
    "print(x.isalpha())\n",
    "print(y.isalpha())"
   ]
  },
  {
   "cell_type": "code",
   "execution_count": 15,
   "id": "c32ac4ad",
   "metadata": {},
   "outputs": [
    {
     "name": "stdout",
     "output_type": "stream",
     "text": [
      "True\n",
      "False\n"
     ]
    }
   ],
   "source": [
    "#isdigit()\n",
    "# to check weather a string is number or not(true or false)\n",
    "x=\"123\"\n",
    "y=\"-123\"\n",
    "print(x.isdigit())\n",
    "print(y.isdigit())"
   ]
  },
  {
   "cell_type": "code",
   "execution_count": 16,
   "id": "787b20f6",
   "metadata": {},
   "outputs": [
    {
     "name": "stdout",
     "output_type": "stream",
     "text": [
      "True\n",
      "False\n"
     ]
    }
   ],
   "source": [
    "# isalnum()\n",
    "# to check weather a string is number  and alphabets(true or false)\n",
    "x=\"abc123\"\n",
    "y=\"$abe\"\n",
    "print(x.isalnum())\n",
    "print(y.isalnum())\n"
   ]
  },
  {
   "cell_type": "code",
   "execution_count": 17,
   "id": "d08abd34",
   "metadata": {},
   "outputs": [
    {
     "name": "stdout",
     "output_type": "stream",
     "text": [
      "True\n",
      "False\n"
     ]
    }
   ],
   "source": [
    "#issapce()\n",
    "# to check weather a  it has space or not (true or false)\n",
    "x=\"   \"\n",
    "y=\"\"\n",
    "print(x.isspace())\n",
    "print(y.isspace())"
   ]
  },
  {
   "cell_type": "code",
   "execution_count": 23,
   "id": "1505e404",
   "metadata": {},
   "outputs": [
    {
     "name": "stdout",
     "output_type": "stream",
     "text": [
      "False\n",
      "True\n"
     ]
    }
   ],
   "source": [
    "#istitle()\n",
    "#to check weather a  letter is capital or not after space(true or false)\n",
    "x=\"hello world\"\n",
    "y=\"Hello World\"\n",
    "print(x.istitle())\n",
    "print(y.istitle())\n"
   ]
  },
  {
   "cell_type": "code",
   "execution_count": 26,
   "id": "d2c6153c",
   "metadata": {},
   "outputs": [
    {
     "name": "stdout",
     "output_type": "stream",
     "text": [
      "['pr', 's', 'd']\n",
      "['pra', 'sad']\n",
      "['a', 'b', 'c', 'd']\n"
     ]
    }
   ],
   "source": [
    "# issplit()\n",
    "# to split a string into list elements\n",
    "x=\"prasad\"\n",
    "y=\"pra sad\"\n",
    "z=\"a,b,c,d\"\n",
    "print(x.split(\"a\"))\n",
    "print(y.split(\" \"))\n",
    "print(z.split(\",\"))\n",
    "\n"
   ]
  },
  {
   "cell_type": "code",
   "execution_count": 30,
   "id": "614e24e1",
   "metadata": {},
   "outputs": [
    {
     "name": "stdout",
     "output_type": "stream",
     "text": [
      "1-2-3\n",
      "123\n"
     ]
    }
   ],
   "source": [
    "#join()\n",
    "# tojoin list in to string\n",
    "list1=[\"1\",\"2\",\"3\"]\n",
    "print(\"-\".join(list1))\n",
    "print(\"\".join(list1))"
   ]
  },
  {
   "cell_type": "code",
   "execution_count": 1,
   "id": "403e66df",
   "metadata": {},
   "outputs": [
    {
     "name": "stdout",
     "output_type": "stream",
     "text": [
      "2\n",
      "3\n",
      "5\n",
      "7\n",
      "11\n",
      "13\n",
      "17\n",
      "19\n",
      "23\n",
      "29\n",
      "31\n",
      "37\n",
      "41\n",
      "43\n",
      "47\n",
      "53\n",
      "59\n",
      "61\n",
      "67\n",
      "71\n",
      "73\n",
      "79\n",
      "83\n",
      "89\n",
      "97\n"
     ]
    }
   ],
   "source": [
    "def isprime(n):\n",
    "    if n<=1:\n",
    "        return False\n",
    "    for  i in range(2,n):\n",
    "        if n%i==0:\n",
    "            return False\n",
    "    return True\n",
    "\n",
    "\n",
    "n1=2\n",
    "n2=100\n",
    "for i in range(n1,n2):\n",
    "    if isprime(i):\n",
    "        print(i)\n",
    "\n",
    "\n",
    "    "
   ]
  },
  {
   "cell_type": "code",
   "execution_count": null,
   "id": "1efe8e8f",
   "metadata": {},
   "outputs": [
    {
     "name": "stdout",
     "output_type": "stream",
     "text": [
      "2 3 5 8 13 21 34 55 "
     ]
    }
   ],
   "source": [
    "def num(n):\n",
    "    if n<=1:\n",
    "        return False\n",
    "    a,b=2,3\n",
    "    for i in range(a,10):\n",
    "        print(a,end=\" \")\n",
    "        a,b=b,a+b\n",
    "num(10)\n"
   ]
  },
  {
   "cell_type": "code",
   "execution_count": 1,
   "id": "156aa867",
   "metadata": {},
   "outputs": [
    {
     "name": "stdout",
     "output_type": "stream",
     "text": [
      "5 x 1 = 5\n",
      "5 x 2 = 10\n",
      "5 x 3 = 15\n",
      "5 x 4 = 20\n",
      "5 x 5 = 25\n",
      "5 x 6 = 30\n",
      "5 x 7 = 35\n",
      "5 x 8 = 40\n",
      "5 x 9 = 45\n",
      "5 x 10 = 50\n"
     ]
    }
   ],
   "source": [
    "n=5\n",
    "for i in range(1,11):\n",
    "    print(n,\"x\",i,\"=\",n*i)"
   ]
  },
  {
   "cell_type": "code",
   "execution_count": 3,
   "id": "a6ef5641",
   "metadata": {},
   "outputs": [
    {
     "name": "stdout",
     "output_type": "stream",
     "text": [
      "1 1 1 1 1 \n",
      "2 2 2 2 2 \n",
      "3 3 3 3 3 \n",
      "4 4 4 4 4 \n",
      "5 5 5 5 5 \n"
     ]
    }
   ],
   "source": [
    "n=5\n",
    "for i in range(n):\n",
    "    for j in range(n):\n",
    "        print(i+1,end=\" \")\n",
    "    print()"
   ]
  },
  {
   "cell_type": "code",
   "execution_count": 13,
   "id": "264c0d41",
   "metadata": {},
   "outputs": [
    {
     "name": "stdout",
     "output_type": "stream",
     "text": [
      "1 \n",
      "2 2 \n",
      "3 3 3 \n",
      "4 4 4 4 \n",
      "5 5 5 5 5 \n"
     ]
    }
   ],
   "source": [
    "n=5\n",
    "for i in range(n):\n",
    "    for j in range(i+1):\n",
    "        print(i+1,end=\" \")\n",
    "    print()"
   ]
  },
  {
   "cell_type": "code",
   "execution_count": null,
   "id": "0c3e26a8",
   "metadata": {},
   "outputs": [],
   "source": [
    "ip=(input(\"enter the number  \"))\n",
    "op=ip\n",
    "print(op)\n",
    "\n"
   ]
  },
  {
   "cell_type": "code",
   "execution_count": 8,
   "id": "d0d0471e",
   "metadata": {},
   "outputs": [
    {
     "name": "stdout",
     "output_type": "stream",
     "text": [
      "2 3 5 7 11 13 17 19 23 29 31 37 41 43 47 53 59 61 67 71 73 79 83 89 97 count is  25\n"
     ]
    }
   ],
   "source": [
    "def prime(n):\n",
    "    if n<=1:\n",
    "        return False\n",
    "    for i in range(2,n):\n",
    "        if n%i==0:\n",
    "            return False\n",
    "        \n",
    "    return True\n",
    "n1=1\n",
    "n2=101\n",
    "count=0\n",
    "for i in range(n1,n2):\n",
    "    if prime(i):\n",
    "        count+=1\n",
    "        print(i, end=\" \")\n",
    "print(\"count is \",count)\n"
   ]
  },
  {
   "cell_type": "code",
   "execution_count": 9,
   "id": "16624d55",
   "metadata": {},
   "outputs": [
    {
     "name": "stdout",
     "output_type": "stream",
     "text": [
      "hxllx wxrld\n"
     ]
    }
   ],
   "source": [
    "ip=\"hello world\"\n",
    "op=\"\"\n",
    "vowels=\"aeiou\"\n",
    "for i in  ip:\n",
    "    if i in vowels:\n",
    "        op+=\"x\"\n",
    "    else:\n",
    "        op+=i\n",
    "print(op)"
   ]
  },
  {
   "cell_type": "code",
   "execution_count": 4,
   "id": "b4180b55",
   "metadata": {},
   "outputs": [
    {
     "name": "stdout",
     "output_type": "stream",
     "text": [
      "amstrong\n"
     ]
    }
   ],
   "source": [
    "# amstrong\n",
    "n=153\n",
    "num=n\n",
    "count=0\n",
    "temp=n\n",
    "result=0\n",
    "while temp>0:\n",
    "    temp%10\n",
    "    count+=1\n",
    "    temp//=10\n",
    "while n>0:\n",
    "    r=n%10\n",
    "    result+=r**count\n",
    "    n//=10\n",
    "if num==result:\n",
    "    print(\"amstrong\")\n",
    "else:\n",
    "    print(\"not amstrong\")\n",
    "    "
   ]
  },
  {
   "cell_type": "code",
   "execution_count": 21,
   "id": "0413a3a3",
   "metadata": {},
   "outputs": [
    {
     "name": "stdout",
     "output_type": "stream",
     "text": [
      "1 3 5 7 9 11 13 15 17 19 21 23 25 27 29 31 33 35 37 39 41 43 45 47 49 51 53 55 57 59 61 63 65 67 69 71 73 75 77 79 81 83 85 87 89 91 93 95 97 99 "
     ]
    }
   ],
   "source": [
    "n1=1\n",
    "n2=100\n",
    "for i in range(n1,n2):\n",
    "    if i%2==0:\n",
    "        continue\n",
    "    else:\n",
    "        print(i,end=\" \")"
   ]
  },
  {
   "cell_type": "code",
   "execution_count": 22,
   "id": "3665fd31",
   "metadata": {},
   "outputs": [
    {
     "name": "stdout",
     "output_type": "stream",
     "text": [
      "2 4 6 8 10 12 14 16 18 20 22 24 26 28 30 32 34 36 38 40 42 44 46 48 50 52 54 56 58 60 62 64 66 68 70 72 74 76 78 80 82 84 86 88 90 92 94 96 98 "
     ]
    }
   ],
   "source": [
    "n1=1\n",
    "n2=100\n",
    "for i in range(n1,n2):\n",
    "    if i%2!=0:\n",
    "        continue\n",
    "    else:\n",
    "        print(i,end=\" \")"
   ]
  }
 ],
 "metadata": {
  "kernelspec": {
   "display_name": "Python 3",
   "language": "python",
   "name": "python3"
  },
  "language_info": {
   "codemirror_mode": {
    "name": "ipython",
    "version": 3
   },
   "file_extension": ".py",
   "mimetype": "text/x-python",
   "name": "python",
   "nbconvert_exporter": "python",
   "pygments_lexer": "ipython3",
   "version": "3.13.1"
  }
 },
 "nbformat": 4,
 "nbformat_minor": 5
}
