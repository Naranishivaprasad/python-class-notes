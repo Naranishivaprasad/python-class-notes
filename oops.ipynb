{
 "cells": [
  {
   "cell_type": "code",
   "execution_count": null,
   "id": "c3ad0384",
   "metadata": {},
   "outputs": [
    {
     "name": "stdout",
     "output_type": "stream",
     "text": [
      "blue\n",
      "100\n",
      "ferrari\n",
      "red\n"
     ]
    }
   ],
   "source": [
    "class car:\n",
    "    car_brand=\"bnw\"\n",
    "    eng=1\n",
    "    speed=100\n",
    "    milaege=15\n",
    "    color=\"blue\"\n",
    "car1=car()\n",
    "print(car1.color)\n",
    "car2=car()\n",
    "print(car2.speed)\n",
    "car2.car_brand=\"ferrari\"\n",
    "print(car2.car_brand)\n",
    "car3=car()\n",
    "car3.color=\"red\"\n",
    "print(car3.color)"
   ]
  },
  {
   "cell_type": "code",
   "execution_count": 16,
   "id": "91fbb45d",
   "metadata": {},
   "outputs": [
    {
     "name": "stdout",
     "output_type": "stream",
     "text": [
      "white\n"
     ]
    }
   ],
   "source": [
    "class car:\n",
    "    brand=\"bmw\"\n",
    "    eng=1\n",
    "    speed=100\n",
    "    milaege=15\n",
    "    def __init__(self,color):\n",
    "        self.color=color\n",
    "car1=car(\"white\")\n",
    "\n",
    "print(car1.color)\n",
    "        "
   ]
  },
  {
   "cell_type": "code",
   "execution_count": 13,
   "id": "f842f443",
   "metadata": {},
   "outputs": [
    {
     "name": "stdout",
     "output_type": "stream",
     "text": [
      "student shiva admitted\n",
      "python\n"
     ]
    }
   ],
   "source": [
    "class tencoders:\n",
    "    batch=\"67r\"\n",
    "    def __init__(self,name,course,phone):\n",
    "        self.name=name\n",
    "        self.course=course\n",
    "        self.phone=phone\n",
    "        print(f\"student {name} admitted\")\n",
    "s1=tencoders(\"shiva\",\"python\",987654321)\n",
    "\n",
    "print(s1.course)"
   ]
  },
  {
   "cell_type": "code",
   "execution_count": null,
   "id": "5bff88a8",
   "metadata": {},
   "outputs": [
    {
     "name": "stdout",
     "output_type": "stream",
     "text": [
      "add 24\n",
      "sub 16\n",
      "mul 80\n",
      "div 5.0\n",
      "20\n"
     ]
    }
   ],
   "source": [
    "class calcu:\n",
    "    \n",
    "    def __init__(self,num1,num2):\n",
    "        self.num1=num1\n",
    "        self.num2=num2\n",
    "    def add(self):\n",
    "        return self.num1+self.num2\n",
    "    def sub(self):\n",
    "        return self.num1-self.num2\n",
    "    def mul(self):\n",
    "        return self.num1*self.num2\n",
    "    def div(self):\n",
    "        return self.num1/self.num2\n",
    "  \n",
    "        \n",
    "         \n",
    "calculate=calcu(20,4)\n",
    "print(\"add\",calculate.add())\n",
    "print(\"sub\",calculate.sub())\n",
    "print(\"mul\",calculate.mul())\n",
    "print(\"div\",calculate.div())\n",
    "\n",
    "print(calculate.num1)\n",
    "        "
   ]
  },
  {
   "cell_type": "code",
   "execution_count": 3,
   "id": "76749500",
   "metadata": {},
   "outputs": [
    {
     "name": "stdout",
     "output_type": "stream",
     "text": [
      "Called using the class itself\n",
      "('Hello! (No object needed)', 10, 20)\n"
     ]
    }
   ],
   "source": [
    "class MyClass:\n",
    "    \n",
    "    def greet(a,b):\n",
    "        return \"Hello! (No object needed)\",a,b\n",
    "\n",
    "    @classmethod\n",
    "    def show(self):\n",
    "        return \"Called using the class itself\"\n",
    " \n",
    "print(MyClass.show())\n",
    "print(MyClass.greet(10, 20))\n",
    "\n",
    "\n"
   ]
  },
  {
   "cell_type": "code",
   "execution_count": null,
   "id": "64bd3b7f",
   "metadata": {},
   "outputs": [
    {
     "name": "stdout",
     "output_type": "stream",
     "text": [
      "('welcome', 'shiva')\n",
      "('visit again', 'sravan')\n"
     ]
    }
   ],
   "source": [
    "class greeting:\n",
    "    def __init__(self,name):\n",
    "        \n",
    "        self.name=name\n",
    "    def visit(self):\n",
    "        return \"welcome\",self.name\n",
    "    def exit(self,name):\n",
    "        return \"visit again\",name\n",
    "g1=greeting(\"shiva\")\n",
    "print(g1.visit())\n",
    "print(g1.exit(\"sravan\"))"
   ]
  },
  {
   "cell_type": "code",
   "execution_count": 5,
   "id": "98b90c38",
   "metadata": {},
   "outputs": [
    {
     "name": "stdout",
     "output_type": "stream",
     "text": [
      "1\n",
      "5\n",
      "9\n"
     ]
    }
   ],
   "source": [
    "\n",
    "n=3\n",
    "a=[]\n",
    "for i in range(n):\n",
    "    add=list(map(int,input().split()))\n",
    "    a.append(add)\n",
    "\n",
    "for i in range(n):\n",
    "    for j in range(n):\n",
    "        if  i==j :\n",
    "            print(a[i][j])\n",
    "            \n"
   ]
  },
  {
   "cell_type": "code",
   "execution_count": 10,
   "id": "eddeea24",
   "metadata": {},
   "outputs": [
    {
     "name": "stdout",
     "output_type": "stream",
     "text": [
      "* * * * * \n",
      "*       * \n",
      "* * * * * \n"
     ]
    }
   ],
   "source": [
    "n=5\n",
    "m=3\n",
    "for i in range(m):\n",
    "    for j in range(n):\n",
    "        if i==0 or j==0 or i==m-1 or j==n-1 :\n",
    "            print(\"*\",end=\" \")\n",
    "        else:\n",
    "            print(\" \",end=\" \")\n",
    "    print()"
   ]
  },
  {
   "cell_type": "code",
   "execution_count": 21,
   "id": "3d73e2aa",
   "metadata": {},
   "outputs": [
    {
     "name": "stdout",
     "output_type": "stream",
     "text": [
      "     *    \n",
      "\n",
      "   *   *   \n",
      "\n",
      "  *     *  \n",
      "\n",
      " *       * \n",
      "\n",
      "*         *\n",
      "\n",
      " *       * \n",
      "\n",
      "  *     *  \n",
      "\n",
      "   *   *   \n",
      "\n",
      "     *    \n",
      "\n"
     ]
    }
   ],
   "source": [
    "n=5 \n",
    "for i in range(1,n+1):\n",
    "    s=\" \"*(n-i)\n",
    "    if i==1:\n",
    "        print(\" \"*(n-i)+\" *\"*(i)+\" \"*(n-i))\n",
    "    else:\n",
    "        print(s+\"* \"+\"  \"*(i-1)+\"*\"+s)\n",
    "    print()\n",
    "for i in range(n-1,0,-1):\n",
    "    s=\" \"*(n-i)\n",
    "    if i==1:\n",
    "        print(\" \"*(n-i)+\" *\"+\" \"*(n-i))\n",
    "    else:\n",
    "        print(s+\"* \"+\"  \"*(i-1)+\"*\"+s)\n",
    "    print()"
   ]
  },
  {
   "cell_type": "code",
   "execution_count": 22,
   "id": "0200be22",
   "metadata": {},
   "outputs": [
    {
     "name": "stdout",
     "output_type": "stream",
     "text": [
      "120\n"
     ]
    }
   ],
   "source": [
    "def fact(n):\n",
    "    if n==1:\n",
    "        return n\n",
    "    return n*(fact(n-1))\n",
    "n=5\n",
    "print(fact(n))"
   ]
  },
  {
   "cell_type": "code",
   "execution_count": 23,
   "id": "a22b50c9",
   "metadata": {},
   "outputs": [
    {
     "name": "stdout",
     "output_type": "stream",
     "text": [
      "55\n"
     ]
    }
   ],
   "source": [
    "def sum(n):\n",
    "    if n==1:\n",
    "        return n\n",
    "    return n+(sum(n-1))\n",
    "n=10\n",
    "print(sum(n))"
   ]
  },
  {
   "cell_type": "code",
   "execution_count": 26,
   "id": "c7fcec04",
   "metadata": {},
   "outputs": [
    {
     "name": "stdout",
     "output_type": "stream",
     "text": [
      "True\n"
     ]
    }
   ],
   "source": [
    "def palim(n,p1,p2):\n",
    "    if p1>p2:\n",
    "        return True\n",
    "    if n[p1]==n[p2]:\n",
    "        return palim(n,p1+1,p2-1)\n",
    "    return False\n",
    "n=\"madam\"\n",
    "p1=0\n",
    "p2=len(n)-1\n",
    "print(palim(n,p1,p2))"
   ]
  },
  {
   "cell_type": "code",
   "execution_count": 29,
   "id": "f190b904",
   "metadata": {},
   "outputs": [
    {
     "name": "stdout",
     "output_type": "stream",
     "text": [
      "55\n"
     ]
    }
   ],
   "source": [
    "def fibona(n):\n",
    "    if n==0 or n==1:\n",
    "        return n\n",
    "    return fibona(n-1)+fibona(n-2)\n",
    "n=10\n",
    "print(fibona(n))"
   ]
  },
  {
   "cell_type": "code",
   "execution_count": null,
   "id": "0dd4affe",
   "metadata": {},
   "outputs": [],
   "source": [
    "class Calculate:\n",
    "    def __init__(self, name):\n",
    "        self.name = name\n",
    "    def add(self, a, b):\n",
    "        return a + b\n",
    "    def sub(self, a, b):\n",
    "        return a - b\n",
    "    def mul(self, a, b):\n",
    "        return a * b\n",
    "    def div(self, a, b):\n",
    "        return a / b\n",
    "name = input(\"Enter your name: \")\n",
    "calc = Calculate(name)\n",
    "while True:\n",
    "    print(\"\\n1. Add\\n2. Subtract\\n3. Multiply\\n4. Divide\\n5. End\\n6. Show Name\")\n",
    "    choice = int(input(\"Enter your choice: \"))\n",
    "    if choice == 5:\n",
    "        print(\"END\")\n",
    "        break\n",
    "    elif choice == 6:\n",
    "        print(\"User Name:\", calc.name)\n",
    "    elif choice in (1, 2, 3, 4):\n",
    "        a, b = map(int, input(\"Enter : \").split())\n",
    "        if choice == 1:\n",
    "            print( calc.add(a, b))\n",
    "        elif choice == 2:\n",
    "            print( calc.sub(a, b))\n",
    "        elif choice == 3:\n",
    "            print(calc.mul(a, b))\n",
    "        elif choice == 4:\n",
    "            print( calc.div(a, b))\n",
    "    else:\n",
    "        print(\"Invalid choice\")\n"
   ]
  }
 ],
 "metadata": {
  "kernelspec": {
   "display_name": "Python 3",
   "language": "python",
   "name": "python3"
  },
  "language_info": {
   "codemirror_mode": {
    "name": "ipython",
    "version": 3
   },
   "file_extension": ".py",
   "mimetype": "text/x-python",
   "name": "python",
   "nbconvert_exporter": "python",
   "pygments_lexer": "ipython3",
   "version": "3.13.1"
  }
 },
 "nbformat": 4,
 "nbformat_minor": 5
}
