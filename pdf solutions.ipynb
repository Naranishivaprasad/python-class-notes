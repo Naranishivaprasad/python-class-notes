{
 "cells": [
  {
   "cell_type": "code",
   "execution_count": null,
   "id": "cee9a19a",
   "metadata": {},
   "outputs": [
    {
     "name": "stdout",
     "output_type": "stream",
     "text": [
      "25\n"
     ]
    }
   ],
   "source": [
    "# Question: Calculate the area of a square. - Formula: Area = side × side - Input: - Side = 5 \n",
    "squside=5\n",
    "squarearea=squside*squside\n",
    "print(squarearea)"
   ]
  },
  {
   "cell_type": "code",
   "execution_count": 2,
   "id": "12943826",
   "metadata": {},
   "outputs": [
    {
     "name": "stdout",
     "output_type": "stream",
     "text": [
      "24\n"
     ]
    }
   ],
   "source": [
    "# Question: Calculate the area of a square. - Formula: Area = side × side - Input: - Side = 5 \n",
    "length=6\n",
    "breadth=4\n",
    "area=length*breadth\n",
    "print(area)"
   ]
  },
  {
   "cell_type": "code",
   "execution_count": 3,
   "id": "5afd6553",
   "metadata": {},
   "outputs": [
    {
     "name": "stdout",
     "output_type": "stream",
     "text": [
      "20.0\n"
     ]
    }
   ],
   "source": [
    "# Question: Calculate the area of a triangle using base and height. - Formula: Area = (1/2) × base × height - Input: - Base = 8 - Height = 5 \n",
    "base=8\n",
    "height=5\n",
    "area=1/2*base*height\n",
    "print(area)"
   ]
  },
  {
   "cell_type": "code",
   "execution_count": 4,
   "id": "b99ed63a",
   "metadata": {},
   "outputs": [
    {
     "name": "stdout",
     "output_type": "stream",
     "text": [
      "24\n"
     ]
    }
   ],
   "source": [
    "# Question: Calculate the perimeter of a square. - Formula: Perimeter = 4 × side - Input: - Side = 6\n",
    "side=6\n",
    "perimeter=4*side\n",
    "print(perimeter)"
   ]
  },
  {
   "cell_type": "code",
   "execution_count": 6,
   "id": "6e64f123",
   "metadata": {},
   "outputs": [
    {
     "name": "stdout",
     "output_type": "stream",
     "text": [
      "16\n"
     ]
    }
   ],
   "source": [
    "# Question: Calculate the perimeter of a rectangle. - Formula: Perimeter = 2 × (length + breadth) - Input: - Length = 5 - Breadth = 3 - \n",
    "length=5\n",
    "breadth=3\n",
    "perimeter=2*(length+breadth)\n",
    "print(perimeter)"
   ]
  },
  {
   "cell_type": "code",
   "execution_count": 7,
   "id": "8d6c967b",
   "metadata": {},
   "outputs": [
    {
     "name": "stdout",
     "output_type": "stream",
     "text": [
      "18\n"
     ]
    }
   ],
   "source": [
    "# Question: Calculate the perimeter of a triangle. - Formula: Perimeter = side1 + side2 + side3 - Input: - Side1 = 5, Side2 = 6, Side3 = 7\n",
    "side1=5\n",
    "side2=6\n",
    "side3=7\n",
    "perimeter=side1+side2+side3\n",
    "print(perimeter)"
   ]
  },
  {
   "cell_type": "code",
   "execution_count": null,
   "id": "50ca4638",
   "metadata": {},
   "outputs": [
    {
     "name": "stdout",
     "output_type": "stream",
     "text": [
      "1000:3-500:1-100:2\n"
     ]
    }
   ],
   "source": [
    "# Question: Break the total amount into denominations. - Input: - Amount = 3700 \n",
    "amount=3700\n",
    "thound=3700//1000\n",
    "fhunder=3700%1000\n",
    "fhund=fhunder//500\n",
    "hunder=fhunder%500\n",
    "hund=hunder//100\n",
    "\n",
    "\n",
    "print(f\"1000:{thound}-500:{fhund}-100:{hund}\")"
   ]
  },
  {
   "cell_type": "code",
   "execution_count": 24,
   "id": "979c268c",
   "metadata": {},
   "outputs": [
    {
     "name": "stdout",
     "output_type": "stream",
     "text": [
      "hours:1,min:1,sec=12\n"
     ]
    }
   ],
   "source": [
    "# Question: Convert total seconds into hours, minutes, and seconds. - Input: - Total seconds = 3672\n",
    "totalsecond=3672\n",
    "hour=totalsecond//3600\n",
    "remaining=totalsecond%3600\n",
    "min=remaining//60\n",
    "sec=remaining%60\n",
    "print(f\"hours:{hour},min:{min},sec={sec}\")\n"
   ]
  },
  {
   "cell_type": "code",
   "execution_count": 25,
   "id": "fa01749f",
   "metadata": {},
   "outputs": [
    {
     "name": "stdout",
     "output_type": "stream",
     "text": [
      "263\n"
     ]
    }
   ],
   "source": [
    "# Question: Calculate the sum of marks in 3 subjects. - Input: - Maths = 85 - Physics = 90 - Chemistry = 88\n",
    "maths=85\n",
    "physics=90\n",
    "chemistry=88\n",
    "totalmarks=maths+physics+chemistry\n",
    "print(totalmarks)"
   ]
  },
  {
   "cell_type": "code",
   "execution_count": 26,
   "id": "82e7f575",
   "metadata": {},
   "outputs": [
    {
     "name": "stdout",
     "output_type": "stream",
     "text": [
      "87.66666666666667\n"
     ]
    }
   ],
   "source": [
    "# Question: Calculate the average of marks in 3 subjects. - Input: - Maths = 85 - Physics = 90 - Chemistry = 88\n",
    "maths=85\n",
    "physics=90\n",
    "chemistry=88\n",
    "average=(maths+physics+chemistry)/3\n",
    "print(average)\n"
   ]
  },
  {
   "cell_type": "code",
   "execution_count": 27,
   "id": "a59c1623",
   "metadata": {},
   "outputs": [
    {
     "name": "stdout",
     "output_type": "stream",
     "text": [
      "even num\n"
     ]
    }
   ],
   "source": [
    "# problem solving 2\n",
    "# Question: Determine whether a number is even or odd. Explanation: A number is even if it is divisible by 2. Otherwise, it’s odd. - Input: Number = 6 \n",
    "n=6\n",
    "if n%2==0:\n",
    "    print(\"even num\")\n",
    "else:\n",
    "    print(\"odd\")\n"
   ]
  },
  {
   "cell_type": "code",
   "execution_count": 28,
   "id": "19381f55",
   "metadata": {},
   "outputs": [
    {
     "name": "stdout",
     "output_type": "stream",
     "text": [
      "satify\n"
     ]
    }
   ],
   "source": [
    "# Question: Check if a number is divisible by 5 but not by 10. Explanation: Use modulo (%) to check if the number % 5 == 0 and number % 10 != 0. - Input: Number = 25\n",
    "num=25\n",
    "if (num%5==0) and (num%10!=0):\n",
    "    print(\"satify\")\n",
    "else:\n",
    "    print(\"not\")"
   ]
  },
  {
   "cell_type": "code",
   "execution_count": 30,
   "id": "36cf4cd2",
   "metadata": {},
   "outputs": [
    {
     "name": "stdout",
     "output_type": "stream",
     "text": [
      "bigger is:7\n"
     ]
    }
   ],
   "source": [
    "# Question: Find the biggest number among two. Explanation: Use comparison operators (>) to check which number is greater. - Input: A = 4, B = 7 \n",
    "A = 4\n",
    "B = 7\n",
    "if A>B:\n",
    "    print(f\"bigger is:{A}\")\n",
    "else:\n",
    "    print(f\"bigger is:{B}\")"
   ]
  },
  {
   "cell_type": "code",
   "execution_count": 31,
   "id": "c3e05f27",
   "metadata": {},
   "outputs": [
    {
     "name": "stdout",
     "output_type": "stream",
     "text": [
      "smaller is:4\n"
     ]
    }
   ],
   "source": [
    "# Question: Find the smallest number among two. Explanation: Use comparison operators (<) to find the smaller value. - Input: A = 4, B = 7\n",
    "A = 4\n",
    "B = 7\n",
    "if A<B:\n",
    "    print(f\"smaller is:{A}\")\n",
    "else:\n",
    "    print(f\"smaller is:{B}\")"
   ]
  },
  {
   "cell_type": "code",
   "execution_count": 33,
   "id": "76c40d1d",
   "metadata": {},
   "outputs": [
    {
     "name": "stdout",
     "output_type": "stream",
     "text": [
      "satisfy\n"
     ]
    }
   ],
   "source": [
    "# Question: Check if a number is divisible by 2, 3, and 6. Explanation: If a number is divisible by both 2 and 3, it is also divisible by 6. - Input: Number = 18\n",
    "num=18\n",
    "if num%2==0 and num%3==0:\n",
    "    print(\"satisfy\")\n",
    "else:\n",
    "    print(\"not\")"
   ]
  },
  {
   "cell_type": "code",
   "execution_count": 35,
   "id": "0a97ba49",
   "metadata": {},
   "outputs": [
    {
     "name": "stdout",
     "output_type": "stream",
     "text": [
      "eligible to vote\n"
     ]
    }
   ],
   "source": [
    "# Question: Check if a person is eligible to vote (age >= 18). Explanation: A person is eligible to vote if their age is 18 or above. - Input: Age = 19 - \n",
    "age=19\n",
    "if age>=18:\n",
    "    print(\"eligible to vote\")\n",
    "else:\n",
    "    print(\"not eligible\")\n"
   ]
  },
  {
   "cell_type": "code",
   "execution_count": 37,
   "id": "40406cd0",
   "metadata": {},
   "outputs": [
    {
     "name": "stdout",
     "output_type": "stream",
     "text": [
      "fail\n"
     ]
    }
   ],
   "source": [
    "# Question: Check if a student passed all subjects (maths, physics, chemistry). Explanation: Student passes only if marks in all subjects are 35 or more. - Input: Maths = 40, Physics = 36, Chemistry = 30 \n",
    "maths=40\n",
    "physics=36\n",
    "chemistry=30\n",
    "if maths>=35 and physics>=35 and chemistry>=35:\n",
    "    print(\"pass\")\n",
    "else:\n",
    "    print(\"fail\")"
   ]
  },
  {
   "cell_type": "code",
   "execution_count": 38,
   "id": "b3fec6ef",
   "metadata": {},
   "outputs": [
    {
     "name": "stdout",
     "output_type": "stream",
     "text": [
      "pass\n"
     ]
    }
   ],
   "source": [
    "# Question: Check if the student passed at least one subject. Explanation: Use logical OR to check if any one subject has marks >= 35. - Input: Maths = 20, Physics = 38, Chemistry = 25\n",
    "maths=20\n",
    "physics=38\n",
    "chemistry=25\n",
    "if maths>=35 or physics>=35 or chemistry>=35:\n",
    "    print(\"pass\")\n",
    "else:\n",
    "    print(\"fail\")"
   ]
  },
  {
   "cell_type": "code",
   "execution_count": 39,
   "id": "80d9991c",
   "metadata": {},
   "outputs": [
    {
     "name": "stdout",
     "output_type": "stream",
     "text": [
      "pass\n"
     ]
    }
   ],
   "source": [
    "# Question: Check if the student passed any two out of three subjects. Explanation: Use a counter or logical conditions to verify two subjects >= 35\n",
    "Maths = 40\n",
    "Physics = 20\n",
    "Chemistry = 36\n",
    "if (Maths>=35 and Physics>=35) or (Maths>=35 and Chemistry>=35) or (Physics>=35 and Chemistry>=35):\n",
    "    print(\"pass\")\n",
    "else:\n",
    "    print(\"fail\")"
   ]
  },
  {
   "cell_type": "code",
   "execution_count": 41,
   "id": "c17edd7b",
   "metadata": {},
   "outputs": [
    {
     "name": "stdout",
     "output_type": "stream",
     "text": [
      "9 is bigger\n"
     ]
    }
   ],
   "source": [
    "# Question: Find the biggest number among three. Explanation: Compare each pair of numbers using if-else conditions. - Input: A = 7, B = 4, C = 9\n",
    "a=7\n",
    "b=4\n",
    "c=9\n",
    "if a>b and a>c:\n",
    "    print(f\"{a} is bigger\")\n",
    "elif b>a and b>c:\n",
    "    print(f\"{b} is bigger\")\n",
    "else:\n",
    "    print(f\"{c} is bigger\")\n",
    "    \n",
    "\n"
   ]
  },
  {
   "cell_type": "code",
   "execution_count": 42,
   "id": "9da46541",
   "metadata": {},
   "outputs": [
    {
     "name": "stdout",
     "output_type": "stream",
     "text": [
      "4 is smallest\n"
     ]
    }
   ],
   "source": [
    "\n",
    "# Question: Find the smallest number among three. Explanation: Use comparison logic to determine the minimum value. - Input: A = 7, B = 4, C = 9\n",
    "a=7\n",
    "b=4\n",
    "c=9\n",
    "if a<b and a<c:\n",
    "    print(f\"{a} is smallest \")\n",
    "elif b<a and b<c:\n",
    "    print(f\"{b} is smallest\")\n",
    "else:\n",
    "    print(f\"{c} is  smallest\")\n"
   ]
  },
  {
   "cell_type": "code",
   "execution_count": 45,
   "id": "5669ab51",
   "metadata": {},
   "outputs": [
    {
     "name": "stdout",
     "output_type": "stream",
     "text": [
      "not perfect square\n"
     ]
    }
   ],
   "source": [
    "# Question: Check if a number is a perfect square. Explanation: A number is a perfect square if the square of its square root equals the number. - Input: Number = 49 \n",
    "num=50\n",
    "i=0\n",
    "while i*i<=num:\n",
    "    if i*i==num:\n",
    "        print(\"perfect square\")\n",
    "        break\n",
    "    i+=1\n",
    "else:\n",
    "    print(\"not perfect square\")"
   ]
  },
  {
   "cell_type": "code",
   "execution_count": 52,
   "id": "8f4467e4",
   "metadata": {},
   "outputs": [
    {
     "name": "stdout",
     "output_type": "stream",
     "text": [
      "cars: 4\n"
     ]
    }
   ],
   "source": [
    "# Question: Calculate how many cars are needed for a given number of people. Explanation: Divide total people by 5 and round up using ceiling logic. - Input: Members = 17 - Output: Cars needed = 4\n",
    "members=17\n",
    "if members%5==0:\n",
    "    print(\"cars:\",members//5)\n",
    "else:\n",
    "    print(\"cars:\",(members//5)+1)\n"
   ]
  },
  {
   "cell_type": "code",
   "execution_count": 54,
   "id": "7e14b776",
   "metadata": {},
   "outputs": [
    {
     "name": "stdout",
     "output_type": "stream",
     "text": [
      "a is second smaller\n"
     ]
    }
   ],
   "source": [
    "# Question: Find the second largest number among three inputs. Explanation: Use sorting or nested conditions to find the second largest value. - Input: A = 10, B = 25, C = 18 - Output: Second biggest: 18\n",
    "a = 7\n",
    "b = 4\n",
    "c = 9\n",
    "\n",
    "if (a > b and a < c) or (a > c and a < b):\n",
    "    print(\"a is second smaller\")\n",
    "elif (b > a and b < c) or (b > c and b < a):\n",
    "    print(\"b is second smaller\")\n",
    "else:\n",
    "    print(\"c is second smaller\")\n",
    "\n"
   ]
  },
  {
   "cell_type": "code",
   "execution_count": 55,
   "id": "38c3c53a",
   "metadata": {},
   "outputs": [
    {
     "name": "stdout",
     "output_type": "stream",
     "text": [
      "leap year\n"
     ]
    }
   ],
   "source": [
    "# Question: Check if a given year is a leap year. Explanation: A year is a leap year if it is divisible by 4, and (not divisible by 100 unless divisible by 400). - Input: Year = 2024 - Output: Leap year\n",
    "year=2024\n",
    "if (year%4==0 and year%100!=0) or year%400==0:\n",
    "    print(\"leap year\")\n",
    "else:\n",
    "    print(\"not\")"
   ]
  },
  {
   "cell_type": "code",
   "execution_count": 58,
   "id": "31e2c3a9",
   "metadata": {},
   "outputs": [
    {
     "name": "stdout",
     "output_type": "stream",
     "text": [
      "1 2 3 4 5 "
     ]
    }
   ],
   "source": [
    "# problem solving 3\n",
    "# 1. Print Numbers from 1 to n\n",
    "# Question: Write a program to print numbers from 1 to n. Explanation: Use a loop starting from 1 to n and print each number. - Input: n = 5 \n",
    "n=5\n",
    "for i in range(1,n+1):\n",
    "    print(i,end=\" \")\n"
   ]
  },
  {
   "cell_type": "code",
   "execution_count": 59,
   "id": "a0929c89",
   "metadata": {},
   "outputs": [
    {
     "name": "stdout",
     "output_type": "stream",
     "text": [
      "3 4 5 6 7 "
     ]
    }
   ],
   "source": [
    "# Question: Write a program to print numbers from m to n. Explanation: Loop from m to n and print values. - Input: m = 3, n = 7\n",
    "m=3\n",
    "n=7\n",
    "for i in range(m,n+1):\n",
    "    print(i,end=\" \")\n",
    "    "
   ]
  },
  {
   "cell_type": "code",
   "execution_count": 61,
   "id": "18c27685",
   "metadata": {},
   "outputs": [
    {
     "name": "stdout",
     "output_type": "stream",
     "text": [
      "5 4 3 2 1 "
     ]
    }
   ],
   "source": [
    "# Question: Write a program to print numbers in reverse from n to 1. Explanation: Use a loop starting fro\n",
    "# m n and decrement to 1. - Input: n = 5\n",
    "n=5\n",
    "for i in range(n,0,-1):\n",
    "    print(i,end=\" \")"
   ]
  },
  {
   "cell_type": "code",
   "execution_count": 62,
   "id": "76c10e32",
   "metadata": {},
   "outputs": [
    {
     "name": "stdout",
     "output_type": "stream",
     "text": [
      "10 9 8 7 6 "
     ]
    }
   ],
   "source": [
    "# Question: Write a program to print numbers from n to m in reverse. Explanation: Start from n and go down to m. - Input: n = 10, m = 6 \n",
    "n=10\n",
    "m=6\n",
    "for i in range(n,m-1,-1):\n",
    "    print(i,end=\" \")"
   ]
  },
  {
   "cell_type": "code",
   "execution_count": 63,
   "id": "e290bca9",
   "metadata": {},
   "outputs": [
    {
     "name": "stdout",
     "output_type": "stream",
     "text": [
      "15\n"
     ]
    }
   ],
   "source": [
    "# Question: Write a program to calculate the sum of first n natural numbers. Explanation: Use formula or loop to sum from 1 to n. - Input: n = 5\n",
    "n=5\n",
    "sum=0\n",
    "for i in range(n+1):\n",
    "    sum+=i\n",
    "print(sum)"
   ]
  },
  {
   "cell_type": "code",
   "execution_count": 64,
   "id": "7c49b998",
   "metadata": {},
   "outputs": [
    {
     "name": "stdout",
     "output_type": "stream",
     "text": [
      "120\n"
     ]
    }
   ],
   "source": [
    "# Question: Write a program to find the factorial of a number. Explanation: Multiply all numbers from 1 to n. - Input: n = 5 \n",
    "n=5\n",
    "fact=1\n",
    "for i in range(1,n+1):\n",
    "    fact*=i\n",
    "print(fact)"
   ]
  },
  {
   "cell_type": "code",
   "execution_count": 65,
   "id": "ec7aa454",
   "metadata": {},
   "outputs": [
    {
     "name": "stdout",
     "output_type": "stream",
     "text": [
      "18\n"
     ]
    }
   ],
   "source": [
    "# Question: Write a program to find the sum of all numbers from m to n. Explanation: Loop from m to n and add values. - Input: m = 3, n = 6\n",
    "m=3\n",
    "n=6\n",
    "sum=0\n",
    "for i in range(m,n+1):\n",
    "    sum+=i\n",
    "print(sum)"
   ]
  },
  {
   "cell_type": "code",
   "execution_count": 68,
   "id": "3ae07627",
   "metadata": {},
   "outputs": [
    {
     "name": "stdout",
     "output_type": "stream",
     "text": [
      "24\n"
     ]
    }
   ],
   "source": [
    "# Question: Write a program to find the product of numbers from m to n. Explanation: Loop from m to n and multiply values. - Input: m = 2, n = 4\n",
    "m=2\n",
    "n=4\n",
    "product=1\n",
    "for i in range(m,n+1):\n",
    "    product*=i\n",
    "print(product)"
   ]
  },
  {
   "cell_type": "code",
   "execution_count": 70,
   "id": "ca60486b",
   "metadata": {},
   "outputs": [
    {
     "name": "stdout",
     "output_type": "stream",
     "text": [
      "1 2 3 6 "
     ]
    }
   ],
   "source": [
    "# Question: Write a program to print all factors of a given number. Explanation: Check divisibility of number from 1 to n. - Input: n = 6 - Output: 1 2 3 6\n",
    "n=6\n",
    "for i in range(1,n+1):\n",
    "    if n%i==0:\n",
    "        print(i,end=\" \")"
   ]
  },
  {
   "cell_type": "code",
   "execution_count": 71,
   "id": "6c33fdf0",
   "metadata": {},
   "outputs": [
    {
     "name": "stdout",
     "output_type": "stream",
     "text": [
      "4\n"
     ]
    }
   ],
   "source": [
    "# Question: Write a program to count how many factors a number has. Explanation: Increment count when divisible. - Input: n = 6 - Output: 4\n",
    "n=6\n",
    "count=0\n",
    "for i in range(1,n+1):\n",
    "    if n%i==0:\n",
    "        count+=1\n",
    "print(count)"
   ]
  },
  {
   "cell_type": "code",
   "execution_count": null,
   "id": "aa47fbbc",
   "metadata": {},
   "outputs": [],
   "source": [
    "# Question: Check if a number is prime. Explanation: A number is prime if it has exactly 2 factors. - Input: n = 7 \n",
    "\n",
    "n = 7\n",
    "count = 0\n",
    "\n",
    "for i in range(1, n + 1):\n",
    "    if n % i == 0:\n",
    "        count += 1\n",
    "\n",
    "if count == 2:\n",
    "    print(\"Prime number\")\n",
    "else:\n",
    "    print(\"Not a prime number\")\n"
   ]
  },
  {
   "cell_type": "code",
   "execution_count": 72,
   "id": "e415d24f",
   "metadata": {},
   "outputs": [
    {
     "name": "stdout",
     "output_type": "stream",
     "text": [
      "4 6 8 10 "
     ]
    }
   ],
   "source": [
    "# Question: Print all even numbers between m and n. Explanation: Use loop and check if divisible by 2. - Input: m = 3, n = 10 - Output: 4 6 8 10\n",
    "\n",
    "m=3\n",
    "n=10\n",
    "for i in range(m,n+1):\n",
    "    if i%2==0:\n",
    "        print(i,end=\" \")"
   ]
  },
  {
   "cell_type": "code",
   "execution_count": 73,
   "id": "3ca36866",
   "metadata": {},
   "outputs": [
    {
     "name": "stdout",
     "output_type": "stream",
     "text": [
      "3 5 7 9 "
     ]
    }
   ],
   "source": [
    "# Question: Print all odd numbers between m and n. Explanation: Check if number % 2 != 0. - Input: m = 3, n = 10 - Output: 3 5 7 9\n",
    "m=3\n",
    "n=10\n",
    "for i in range(m,n+1):\n",
    "    if i%2!=0:\n",
    "        print(i,end=\" \")"
   ]
  },
  {
   "cell_type": "code",
   "execution_count": 75,
   "id": "3e5be348",
   "metadata": {},
   "outputs": [
    {
     "name": "stdout",
     "output_type": "stream",
     "text": [
      "even:2,odd:3\n"
     ]
    }
   ],
   "source": [
    "# Question: Count how many even and odd numbers are in the range m to n. Explanation: Use counters for even and odd. - Input: m = 3, n = 7 - Output: Even = 2, Odd = 3\n",
    "m=3\n",
    "n=7\n",
    "even=0\n",
    "odd=0\n",
    "for i in range(m,n+1):\n",
    "    if i%2==0:\n",
    "        even+=1\n",
    "    else:\n",
    "        odd+=1\n",
    "print(f\"even:{even},odd:{odd}\")\n"
   ]
  },
  {
   "cell_type": "code",
   "execution_count": 76,
   "id": "2b7c0a45",
   "metadata": {},
   "outputs": [
    {
     "name": "stdout",
     "output_type": "stream",
     "text": [
      "olleh\n"
     ]
    }
   ],
   "source": [
    "# Question: Reverse a given string. Explanation: Use slicing or loop. - Input: “hello” - Output: “olleh”\n",
    "ip=\"hello\"\n",
    "op=\"\"\n",
    "for i in range(len(ip)-1,-1,-1):\n",
    "    op+=ip[i]\n",
    "print(op)"
   ]
  },
  {
   "cell_type": "code",
   "execution_count": 77,
   "id": "c729e9ac",
   "metadata": {},
   "outputs": [
    {
     "name": "stdout",
     "output_type": "stream",
     "text": [
      "palindrome\n"
     ]
    }
   ],
   "source": [
    "# Question: Check if a string is a palindrome. Explanation: Compare string with its reverse. - Input: “madam” - Output: Palindrome\n",
    "ip=\"madam\"\n",
    "if ip==ip[::-1]:\n",
    "    print(\"palindrome\")\n",
    "else:\n",
    "    print(\"not palindrome\")"
   ]
  },
  {
   "cell_type": "code",
   "execution_count": 78,
   "id": "4bafee99",
   "metadata": {},
   "outputs": [
    {
     "name": "stdout",
     "output_type": "stream",
     "text": [
      "6\n"
     ]
    }
   ],
   "source": [
    "# Question: Calculate the sum of digits of a number. Explanation: Use loop and % 10 to extract digits. - Input: 123 - Output: 6\n",
    "ip=123\n",
    "op=0\n",
    "while ip>0:\n",
    "    r=ip%10\n",
    "    op+=r\n",
    "    ip//=10\n",
    "print(op)"
   ]
  },
  {
   "cell_type": "code",
   "execution_count": 80,
   "id": "4c801bc9",
   "metadata": {},
   "outputs": [
    {
     "name": "stdout",
     "output_type": "stream",
     "text": [
      "6\n"
     ]
    }
   ],
   "source": [
    "# Question: Calculate the product of digits. Explanation: Multiply digits extracted from number. - Input: 123 - Output: 6\n",
    "ip=123\n",
    "op=1\n",
    "while ip>0:\n",
    "    r=ip%10\n",
    "    op*=r\n",
    "    ip//=10\n",
    "print(op)"
   ]
  },
  {
   "cell_type": "code",
   "execution_count": 81,
   "id": "2c1d8642",
   "metadata": {},
   "outputs": [
    {
     "name": "stdout",
     "output_type": "stream",
     "text": [
      "amstrong\n"
     ]
    }
   ],
   "source": [
    "# Question: Check if a number is an Armstrong number. Explanation: Sum of cube of digits equals the number. - Input: 153 - Output: Armstrong number\n",
    "ip=153\n",
    "m=ip\n",
    "temp=ip\n",
    "count=0\n",
    "res=0\n",
    "while m>0:\n",
    "    count+=1\n",
    "    m//=10\n",
    "while temp>0:\n",
    "    r=temp%10\n",
    "    res+=r**count\n",
    "    temp//=10\n",
    "if res==ip:\n",
    "    print(\"amstrong\")\n",
    "else:\n",
    "    print(\"not amstrong\")\n"
   ]
  },
  {
   "cell_type": "code",
   "execution_count": 85,
   "id": "ac551238",
   "metadata": {},
   "outputs": [
    {
     "name": "stdout",
     "output_type": "stream",
     "text": [
      "321\n"
     ]
    }
   ],
   "source": [
    "# Question: Reverse the digits of a number. Explanation: Use loop with % and // to reverse. - Input: 123 - Output: 321\n",
    "\n",
    "n=123\n",
    "res=0\n",
    "while n>0:\n",
    "    r=n%10\n",
    "    res=res*10+r\n",
    "    n//=10\n",
    "print(res)\n"
   ]
  },
  {
   "cell_type": "code",
   "execution_count": 86,
   "id": "4ee6a944",
   "metadata": {},
   "outputs": [
    {
     "name": "stdout",
     "output_type": "stream",
     "text": [
      "palindrome\n"
     ]
    }
   ],
   "source": [
    "# Question: Check if a number is a palindrome. Explanation: Compare number with its reverse. - Input: 121 - Output: Palindrome\n",
    "n=121\n",
    "temp=n\n",
    "res=0\n",
    "while n>0:\n",
    "    r=n%10\n",
    "    res=res*10+r\n",
    "    n//=10\n",
    "\n",
    "if res==temp:\n",
    "    print(\"palindrome\")\n",
    "else:\n",
    "    print(\"not palindrome\")"
   ]
  },
  {
   "cell_type": "code",
   "execution_count": 88,
   "id": "895fd5c5",
   "metadata": {},
   "outputs": [
    {
     "name": "stdout",
     "output_type": "stream",
     "text": [
      "2\n"
     ]
    }
   ],
   "source": [
    "# Question: Count number of vowels in a string. Explanation: Loop and check for a, e, i, o, u. - Input: “apple” - Output: 2\n",
    "ip=\"apple\"\n",
    "vowel=\"aeiou\"\n",
    "cnt=0\n",
    "for i in ip:\n",
    "    if i in vowel:\n",
    "        cnt+=1\n",
    "print(cnt)"
   ]
  },
  {
   "cell_type": "code",
   "execution_count": 89,
   "id": "2966816b",
   "metadata": {},
   "outputs": [
    {
     "name": "stdout",
     "output_type": "stream",
     "text": [
      "3\n"
     ]
    }
   ],
   "source": [
    "# Question: Count consonants in a string. Explanation: Check for alphabetic characters not vowels. - Input: “apple” - Output: 3\n",
    "ip=\"apple\"\n",
    "vowel=\"aeiou\"\n",
    "cnt=0\n",
    "for i in ip:\n",
    "    if i not in vowel:\n",
    "        cnt+=1\n",
    "print(cnt)"
   ]
  },
  {
   "cell_type": "code",
   "execution_count": 90,
   "id": "ff9f0b31",
   "metadata": {},
   "outputs": [
    {
     "name": "stdout",
     "output_type": "stream",
     "text": [
      "2 3\n"
     ]
    }
   ],
   "source": [
    "# Question: Count vowels and consonants in input string. Explanation: Maintain two counters. - Input: “apple” - Output: Vowels = 2, Consonants = 3\n",
    "ip=\"apple\"\n",
    "vowel=\"aeiou\"\n",
    "con=0\n",
    "vol=0\n",
    "for i in ip:\n",
    "    if i not in vowel:\n",
    "        con+=1\n",
    "    else:\n",
    "        vol+=1\n",
    "print(vol,con)"
   ]
  },
  {
   "cell_type": "code",
   "execution_count": 93,
   "id": "ec96b440",
   "metadata": {},
   "outputs": [
    {
     "name": "stdout",
     "output_type": "stream",
     "text": [
      "perfect number\n"
     ]
    }
   ],
   "source": [
    "# Question: Check if a number is perfect. Explanation: Sum of proper divisors equals the number. - Input: 28 - Output: Perfect number\n",
    "ip=28\n",
    "res=0\n",
    "for i in range(1,ip):\n",
    "    if ip%i==0:\n",
    "        res+=i\n",
    "if res==ip:\n",
    "    print(\"perfect number\")\n",
    "else:\n",
    "    print(\"not perfect num\")"
   ]
  },
  {
   "cell_type": "code",
   "execution_count": 94,
   "id": "c70911d9",
   "metadata": {},
   "outputs": [
    {
     "name": "stdout",
     "output_type": "stream",
     "text": [
      "neon number\n"
     ]
    }
   ],
   "source": [
    "# Question: Check if a number is a neon number. Explanation: Square the number, sum digits, match original. - Input: 9 - Output: Neon number\n",
    "ip=9\n",
    "squr=ip*ip\n",
    "res=0\n",
    "while squr>0:\n",
    "    r=squr%10\n",
    "    res+=r\n",
    "    squr//=10\n",
    "if res==ip:\n",
    "    print(\"neon number\")\n",
    "else:\n",
    "    print(\"not neon number\")"
   ]
  },
  {
   "cell_type": "code",
   "execution_count": 98,
   "id": "686e8f3d",
   "metadata": {},
   "outputs": [
    {
     "name": "stdout",
     "output_type": "stream",
     "text": [
      "strong\n"
     ]
    }
   ],
   "source": [
    "# Question: Check if a number is a strong number. Explanation: Sum of factorial of digits equals the number. - Input: 145 - Output: Strong number\n",
    "ip=145\n",
    "temp=ip\n",
    "res=0\n",
    "while temp>0:\n",
    "    r=temp%10\n",
    "    fact=1\n",
    "    for i in range(1,r+1):\n",
    "        fact*=i\n",
    "    res+=fact\n",
    "    temp//=10\n",
    "if res==ip:\n",
    "    print(\"strong\")\n",
    "else:\n",
    "    print(\"not strong\")"
   ]
  },
  {
   "cell_type": "code",
   "execution_count": 100,
   "id": "3073cfe6",
   "metadata": {},
   "outputs": [
    {
     "name": "stdout",
     "output_type": "stream",
     "text": [
      "harshad num\n"
     ]
    }
   ],
   "source": [
    "# Question: Check if a number is divisible by the sum of its digits. Explanation: Calculate digit sum and check divisibility. - Input: 18 - Output: Harshad number\n",
    "ip=18\n",
    "temp=ip\n",
    "res=0\n",
    "while ip>0:\n",
    "    r=ip%10\n",
    "    res+=r\n",
    "    ip//=10\n",
    "if temp==(2*res):\n",
    "    print(\"harshad num\")\n",
    "else:\n",
    "    print(\"not hardhad num\")\n"
   ]
  },
  {
   "cell_type": "code",
   "execution_count": 102,
   "id": "be2ee0b1",
   "metadata": {},
   "outputs": [
    {
     "name": "stdout",
     "output_type": "stream",
     "text": [
      "0 1 1 2 3 "
     ]
    }
   ],
   "source": [
    "# Question: Print the Fibonacci series up to n terms. Explanation: Start with 0, 1 and continue with sum of last two. - Input: n = 5 - Output: 0 1 1 2 3\n",
    "\n",
    "n=5\n",
    "a,b=0,1\n",
    "for i in range(n):\n",
    "    print(a,end=\" \")\n",
    "    a,b=b,a+b\n",
    "\n"
   ]
  },
  {
   "cell_type": "code",
   "execution_count": 103,
   "id": "5f594d5a",
   "metadata": {},
   "outputs": [
    {
     "name": "stdout",
     "output_type": "stream",
     "text": [
      "neon number\n"
     ]
    }
   ],
   "source": [
    "# Question: Again, check for a neon number (example). Explanation: Square number and sum digits. - Input: 9 - Output: Neon number\n",
    "ip=9\n",
    "squr=ip*ip\n",
    "res=0\n",
    "while squr>0:\n",
    "    r=squr%10\n",
    "    res+=r\n",
    "    squr//=10\n",
    "if res==ip:\n",
    "    print(\"neon number\")\n",
    "else:\n",
    "    print(\"not neon number\")\n"
   ]
  },
  {
   "cell_type": "code",
   "execution_count": 104,
   "id": "2883e704",
   "metadata": {},
   "outputs": [
    {
     "name": "stdout",
     "output_type": "stream",
     "text": [
      "* * * * \n",
      "* * * * \n",
      "* * * * \n",
      "* * * * \n"
     ]
    }
   ],
   "source": [
    "# Solid Square Pattern\n",
    "# Problem: Print a solid square of stars of size n.\n",
    "# Input: n = 4\n",
    "\n",
    "n=4\n",
    "for i in range(n):\n",
    "    for j in range(n):\n",
    "        print(\"*\",end=\" \")\n",
    "    print()"
   ]
  },
  {
   "cell_type": "code",
   "execution_count": 105,
   "id": "08655385",
   "metadata": {},
   "outputs": [
    {
     "name": "stdout",
     "output_type": "stream",
     "text": [
      "* * * * * \n",
      "* * * * * \n",
      "* * * * * \n"
     ]
    }
   ],
   "source": [
    "# Problem: Print a solid rectangle of m rows and n columns.\n",
    "# Input: m = 3, n = 5\n",
    "m = 3\n",
    "n = 5\n",
    "for i in range(m):\n",
    "    for j in range(n):\n",
    "        print(\"*\",end=\" \")\n",
    "    print()"
   ]
  },
  {
   "cell_type": "code",
   "execution_count": 106,
   "id": "2eec667c",
   "metadata": {},
   "outputs": [
    {
     "name": "stdout",
     "output_type": "stream",
     "text": [
      "* \n",
      "* * \n",
      "* * * \n",
      "* * * * \n",
      "* * * * * \n"
     ]
    }
   ],
   "source": [
    "# Problem: Print a left-aligned right-angled triangle.\n",
    "# Input: n = 5\n",
    "n=5\n",
    "for i in range(n):\n",
    "    for j in range(i+1):\n",
    "        print(\"*\",end=\" \")\n",
    "    print()"
   ]
  },
  {
   "cell_type": "code",
   "execution_count": 107,
   "id": "2721ae4f",
   "metadata": {},
   "outputs": [
    {
     "name": "stdout",
     "output_type": "stream",
     "text": [
      "          * \n",
      "        * * \n",
      "      * * * \n",
      "    * * * * \n",
      "  * * * * * \n"
     ]
    }
   ],
   "source": [
    "# Right-Angled Triangle (Right-Aligned)\n",
    "# Input: n = 5\n",
    "n=5\n",
    "for i in range(n):\n",
    "    for j in range(n-i):\n",
    "        print(\" \",end=\" \")\n",
    "    for k in range(i+1):\n",
    "        print(\"*\",end=\" \")\n",
    "    print()"
   ]
  },
  {
   "cell_type": "code",
   "execution_count": 108,
   "id": "739fcf56",
   "metadata": {},
   "outputs": [
    {
     "name": "stdout",
     "output_type": "stream",
     "text": [
      "* * * * * \n",
      "* * * * \n",
      "* * * \n",
      "* * \n",
      "* \n"
     ]
    }
   ],
   "source": [
    "# Inverted Triangle (Left-Aligned)\n",
    "# Input: n = 5\n",
    "n=5\n",
    "for i in range(n):\n",
    "    for j in range(n-i):\n",
    "        print(\"*\",end=\" \")\n",
    "    print()"
   ]
  },
  {
   "cell_type": "code",
   "execution_count": 109,
   "id": "a78b1e9a",
   "metadata": {},
   "outputs": [
    {
     "name": "stdout",
     "output_type": "stream",
     "text": [
      "  * * * * * \n",
      "    * * * * \n",
      "      * * * \n",
      "        * * \n",
      "          * \n"
     ]
    }
   ],
   "source": [
    "# Inverted Triangle (Right-Aligned)\n",
    "# Input: n = 5\n",
    "n=5\n",
    "for i in range(n):\n",
    "    for j in range(i+1):\n",
    "        print(\" \",end=\" \")\n",
    "    for k in range(n-i):\n",
    "        print(\"*\",end=\" \")\n",
    "    print()\n"
   ]
  },
  {
   "cell_type": "code",
   "execution_count": 110,
   "id": "4d45f4c6",
   "metadata": {},
   "outputs": [
    {
     "name": "stdout",
     "output_type": "stream",
     "text": [
      "        * \n",
      "      * * * \n",
      "    * * * * * \n",
      "  * * * * * * * \n"
     ]
    }
   ],
   "source": [
    "# Centered Pyramid Pattern\n",
    "# Input: n = 4\n",
    "n=4\n",
    "for i in range(n):\n",
    "    for j in range(n-i):\n",
    "        print(\" \",end=\" \")\n",
    "    for k in range(2*i+1):\n",
    "        print(\"*\",end=\" \")\n",
    "    print()"
   ]
  },
  {
   "cell_type": "code",
   "execution_count": 112,
   "id": "39fd4ef4",
   "metadata": {},
   "outputs": [
    {
     "name": "stdout",
     "output_type": "stream",
     "text": [
      "      * \n",
      "    * * * \n",
      "  * * * * * \n",
      "    * * * \n",
      "      * \n"
     ]
    }
   ],
   "source": [
    "# Diamond Pattern\n",
    "# Input: n = 3\n",
    "n=3\n",
    "for i in range(n):\n",
    "    for j in range(n-i):\n",
    "        print(\" \",end=\" \")\n",
    "    for k in range(2*i+1):\n",
    "        print(\"*\",end=\" \")\n",
    "    print()\n",
    "for i in range(n-2,-1,-1):\n",
    "    for j in range(n-i):\n",
    "        print(\" \",end=\" \")\n",
    "    for k in range(2*i+1):\n",
    "        print(\"*\",end=\" \")\n",
    "    print()\n"
   ]
  },
  {
   "cell_type": "code",
   "execution_count": 135,
   "id": "0ffc1155",
   "metadata": {},
   "outputs": [
    {
     "name": "stdout",
     "output_type": "stream",
     "text": [
      "*             * \n",
      "* *         * * \n",
      "* * *     * * * \n",
      "* * * * * * * * \n",
      "* * *     * * * \n",
      "* *         * * \n",
      "*             * \n",
      "                \n"
     ]
    }
   ],
   "source": [
    "# Butterfly Pattern\n",
    "# Input: n = 4\n",
    "n=4\n",
    "for i in range(n-1,-1,-1):\n",
    "    for j in range(n-i):\n",
    "        print(\"*\",end=\" \")\n",
    "    for k in range(2*i):\n",
    "        print(\" \",end=\" \")\n",
    "    for l in range(n-i):\n",
    "        print(\"*\",end=\" \")\n",
    "    print()\n",
    "\n",
    "for i in range(1,n+1):\n",
    "    space=2*(i)\n",
    "    for j in range(n-i):\n",
    "        print(\"*\",end=\" \")\n",
    "    for k in range(space):\n",
    "        print(\" \",end=\" \")\n",
    "    \n",
    "    for l in range(n-i):\n",
    "        print(\"*\",end=\" \")\n",
    "    print()\n",
    "\n",
    "\n",
    "    "
   ]
  },
  {
   "cell_type": "code",
   "execution_count": 140,
   "id": "116324fb",
   "metadata": {},
   "outputs": [
    {
     "name": "stdout",
     "output_type": "stream",
     "text": [
      "* \n",
      "* * \n",
      "* * * \n",
      "* * * * \n",
      "* * * \n",
      "* * \n",
      "* \n",
      "\n"
     ]
    }
   ],
   "source": [
    "# Left-Aligned Half Diamond\n",
    "# Input: n = 4\n",
    "n=4\n",
    "for i in range(n):\n",
    "    for j in range(i+1):\n",
    "        print(\"*\",end=\" \")\n",
    "  \n",
    "    print()\n",
    "for i in range(n):\n",
    "    for j in range(n-i-1):\n",
    "        print(\"*\",end=\" \")\n",
    "    print()"
   ]
  },
  {
   "cell_type": "code",
   "execution_count": 138,
   "id": "f5da0d0e",
   "metadata": {},
   "outputs": [
    {
     "name": "stdout",
     "output_type": "stream",
     "text": [
      "        * \n",
      "      * * \n",
      "    * * * \n",
      "  * * * * \n",
      "    * * * \n",
      "      * * \n",
      "        * \n",
      "          \n"
     ]
    }
   ],
   "source": [
    "# Right-Aligned Half Diamond\n",
    "# Input: n = 4\n",
    "n=4\n",
    "for i in range(n):\n",
    "    for j in range(n-i):\n",
    "        print(\" \",end=\" \")\n",
    "    for k in range(i+1):\n",
    "        print(\"*\",end=\" \")\n",
    "    print()\n",
    "for i in range(n):\n",
    "    for j in range(i+2):\n",
    "        print(\" \",end=\" \")\n",
    "    for k in range(n-i-1):\n",
    "        print(\"*\",end=\" \")\n",
    "    print()"
   ]
  },
  {
   "cell_type": "code",
   "execution_count": 145,
   "id": "b1caa908",
   "metadata": {},
   "outputs": [
    {
     "name": "stdout",
     "output_type": "stream",
     "text": [
      "  * * * * \n",
      "    * * * \n",
      "      * * \n",
      "        * \n",
      "      * * \n",
      "    * * * \n",
      "  * * * * \n"
     ]
    }
   ],
   "source": [
    "# Sandglass Pattern\n",
    "# Input: n = 4\n",
    "n=4\n",
    "for i in range(n):\n",
    "    for j in range(i+1):\n",
    "        print(\" \",end=\" \")\n",
    "    for k in range(n-i):\n",
    "        print(\"*\",end=\" \")\n",
    "    print()\n",
    "for i in range(1,n):\n",
    "    for j in range(n-i):\n",
    "        print(\" \",end=\" \")\n",
    "    for k in range(i+1):\n",
    "        print(\"*\",end=\" \")\n",
    "\n",
    "    print()\n"
   ]
  },
  {
   "cell_type": "code",
   "execution_count": 146,
   "id": "79c6bec0",
   "metadata": {},
   "outputs": [
    {
     "name": "stdout",
     "output_type": "stream",
     "text": [
      "* \n",
      "* * \n",
      "* * * \n",
      "* * * * \n",
      "* * * * * \n"
     ]
    }
   ],
   "source": [
    "# Increasing Width Triangle\n",
    "# Input: n = 5\n",
    "n=5\n",
    "for i in range(n):\n",
    "    for j in range(i+1):\n",
    "        print(\"*\",end=\" \")\n",
    "    print()"
   ]
  },
  {
   "cell_type": "code",
   "execution_count": 147,
   "id": "e77d7d87",
   "metadata": {},
   "outputs": [
    {
     "name": "stdout",
     "output_type": "stream",
     "text": [
      "* * * * * \n",
      "* * * * \n",
      "* * * \n",
      "* * \n",
      "* \n"
     ]
    }
   ],
   "source": [
    "# Decreasing Width Triangle\n",
    "# Input: n = 5\n",
    "n=5\n",
    "for i in range(n):\n",
    "    for j in range(n-i):\n",
    "        print(\"*\",end=\" \")\n",
    "    print()"
   ]
  },
  {
   "cell_type": "code",
   "execution_count": 148,
   "id": "9bf27b9c",
   "metadata": {},
   "outputs": [
    {
     "name": "stdout",
     "output_type": "stream",
     "text": [
      "        * \n",
      "      * * \n",
      "    * * * \n",
      "  * * * * \n"
     ]
    }
   ],
   "source": [
    "# Right-Aligned Hill Pattern\n",
    "# Input: n = 4\n",
    "n=4\n",
    "for i in range(n):\n",
    "    for j in range(n-i):\n",
    "        print(\" \",end=\" \")\n",
    "    for k in range(i+1):\n",
    "        print(\"*\",end=\" \")\n",
    "    print()"
   ]
  },
  {
   "cell_type": "code",
   "execution_count": 151,
   "id": "d0978bd6",
   "metadata": {},
   "outputs": [
    {
     "name": "stdout",
     "output_type": "stream",
     "text": [
      "* * * * \n",
      "*     * \n",
      "*     * \n",
      "* * * * \n"
     ]
    }
   ],
   "source": [
    "# Problem: Print a hollow square of stars of size n.\n",
    "# Input: n = 4\n",
    "n=4\n",
    "for i in range(n):\n",
    "    for j in range(n):\n",
    "        if i==0 or j==0 or i==n-1 or j==n-1:\n",
    "            print(\"*\",end=\" \")\n",
    "        else:\n",
    "            print(\" \",end=\" \")\n",
    "    print()"
   ]
  },
  {
   "cell_type": "code",
   "execution_count": 152,
   "id": "2021b303",
   "metadata": {},
   "outputs": [
    {
     "name": "stdout",
     "output_type": "stream",
     "text": [
      "* * * * * \n",
      "*       * \n",
      "*       * \n",
      "* * * * * \n"
     ]
    }
   ],
   "source": [
    "# Problem: Print a hollow rectangle of m rows and n columns.\n",
    "# Input: m = 4, n = 5\n",
    "n=4\n",
    "m=5\n",
    "for i in range(n):\n",
    "    for j in range(m):\n",
    "        if i==0 or j==0 or i==n-1 or j==m-1:\n",
    "            print(\"*\",end=\" \")\n",
    "        else:\n",
    "            print(\" \",end=\" \")\n",
    "    print()"
   ]
  },
  {
   "cell_type": "code",
   "execution_count": null,
   "id": "9bf6adff",
   "metadata": {},
   "outputs": [
    {
     "name": "stdout",
     "output_type": "stream",
     "text": [
      "* \n",
      "* * \n",
      "*   * \n",
      "* * * * \n"
     ]
    }
   ],
   "source": [
    "# Hollow Right-Angled Triangle (Left-Aligned)\n",
    "# Input: n = 5\n",
    "n=4\n",
    "for i in range(n):\n",
    "    for j in range(i+1):\n",
    "        if j==0 or i==j or i==n-1:\n",
    "            print(\"*\",end=\" \")\n",
    "        else:\n",
    "            print(\" \",end=\" \")\n",
    "    print()"
   ]
  },
  {
   "cell_type": "code",
   "execution_count": null,
   "id": "f9219d38",
   "metadata": {},
   "outputs": [
    {
     "name": "stdout",
     "output_type": "stream",
     "text": [
      "        * \n",
      "      * * \n",
      "    *   * \n",
      "  * * * * \n"
     ]
    }
   ],
   "source": [
    "# Hollow Right-Angled Triangle (Right-Aligned)\n",
    "# Input: n = 5\n",
    "n=4\n",
    "for i in range(n):\n",
    "    for j in range(n-i):\n",
    "        print(\" \",end=\" \")\n",
    "    for k in range(i+1):\n",
    "        if i==k or k==0 or i==n-1:\n",
    "\n",
    "            print(\"*\",end=\" \")\n",
    "        else:\n",
    "            print(\" \",end=\" \")\n",
    "    print()"
   ]
  },
  {
   "cell_type": "code",
   "execution_count": null,
   "id": "b56e5eb6",
   "metadata": {},
   "outputs": [
    {
     "name": "stdout",
     "output_type": "stream",
     "text": [
      "* * * * \n",
      "*   * \n",
      "* * \n",
      "* \n"
     ]
    }
   ],
   "source": [
    "# Hollow Inverted Triangle (Left-Aligned)\n",
    "# Input: n = 5\n",
    "n=4 \n",
    "for i in range(n):\n",
    "    for j in range(n-i):\n",
    "        if i==0 or j==0 or j==n-i-1:\n",
    "            print(\"*\",end=\" \")\n",
    "        else:\n",
    "            print(\" \",end=\" \")\n",
    "    print()"
   ]
  },
  {
   "cell_type": "code",
   "execution_count": null,
   "id": "996acec5",
   "metadata": {},
   "outputs": [
    {
     "name": "stdout",
     "output_type": "stream",
     "text": [
      "  * * * * \n",
      "    *   * \n",
      "      * * \n",
      "        * \n"
     ]
    }
   ],
   "source": [
    "# Hollow Inverted Triangle (Right-Aligned)\n",
    "# Input: n = 5\n",
    "n=4 \n",
    "for i in range(n):\n",
    "    for j in range(i+1):\n",
    "        print(\" \",end=\" \")\n",
    "    for k in range(n-i):\n",
    "        if i==0 or k==0 or k==n-i-1:\n",
    "            print(\"*\",end=\" \")\n",
    "        else:\n",
    "            print(\" \",end=\" \")\n",
    "    print()"
   ]
  },
  {
   "cell_type": "code",
   "execution_count": null,
   "id": "9bb6886c",
   "metadata": {},
   "outputs": [
    {
     "name": "stdout",
     "output_type": "stream",
     "text": [
      "        * \n",
      "      *   * \n",
      "    *       * \n",
      "  * * * * * * * \n"
     ]
    }
   ],
   "source": [
    "# Hollow Pyramid Pattern\n",
    "# Input: n = 4\n",
    "n=4\n",
    "for i in range(n):\n",
    "    for j in range(n-i):\n",
    "        print(\" \",end=\" \")\n",
    "    for k in range(2*i+1):\n",
    "        if k==0 or i==n-1 or k==2*i:\n",
    "            print(\"*\",end=\" \")\n",
    "        else:\n",
    "            print(\" \",end=\" \")\n",
    "    print()"
   ]
  },
  {
   "cell_type": "code",
   "execution_count": null,
   "id": "9809b9db",
   "metadata": {},
   "outputs": [
    {
     "name": "stdout",
     "output_type": "stream",
     "text": [
      "   *   \n",
      "  * *  \n",
      " *   * \n",
      "*     *\n",
      " *   * \n",
      "  * *  \n",
      "   *   \n"
     ]
    }
   ],
   "source": [
    "# Hollow Diamond Pattern\n",
    "# Input: n = 3\n",
    "n=4\n",
    "for i in range(1,n+1):\n",
    "    s=\" \"*(n-i)\n",
    "    if i==1:\n",
    "        print(s+\"*\"+s)\n",
    "    else:\n",
    "\n",
    "        print(s+\"* \"+\"  \"*(i-2)+\"*\"+s)\n",
    "for i in range(n-1,0,-1):\n",
    "    s=\" \"*(n-i)\n",
    "    if i==1:\n",
    "        print(s+\"*\"+s)\n",
    "    else:\n",
    "        print(s+\"* \"+\"  \"*(i-2)+\"*\"+s)\n",
    "\n"
   ]
  },
  {
   "cell_type": "code",
   "execution_count": null,
   "id": "55d86db2",
   "metadata": {},
   "outputs": [
    {
     "name": "stdout",
     "output_type": "stream",
     "text": [
      "*       *\n",
      "**     **\n",
      "* *   * *\n",
      "*  * *  *\n",
      "*   *   *\n",
      "*  * *  *\n",
      "* *   * *\n",
      "**     **\n",
      "*       *\n"
     ]
    }
   ],
   "source": [
    "# Hollow Butterfly Pattern\n",
    "# Input: n = 4\n",
    "n = 4\n",
    "for i in range(n, 0, -1):\n",
    "    s = \" \" * (n - i)\n",
    "    if i == 1:\n",
    "        print(\"*\" + s + \"*\" + s + \"*\")\n",
    "    else:\n",
    "        if i == n:\n",
    "            print(\"* \" + \"  \" * (i - 2) + \"  *\")\n",
    "            print(\"*\" + s + \"* \" + \"  \" * (i - 2) + \"*\" + s + \"*\")\n",
    "        else:\n",
    "            print(\"*\" + s + \"* \" + \"  \" * (i - 2) + \"*\" + s + \"*\")\n",
    "\n",
    "for i in range(2, n + 1):\n",
    "    s = \" \" * (n - i)\n",
    "    if i == n:\n",
    "        print(\"*\" + s + \"* \" + \"  \" * (i - 2) + \"*\" + s + \"*\")\n",
    "        print(\"* \" + \"  \" * (i - 2) + \"  *\")\n",
    "    else:\n",
    "        print(\"*\" + s + \"* \" + \"  \" * (i - 2) + \"*\" + s + \"*\")"
   ]
  },
  {
   "cell_type": "code",
   "execution_count": 32,
   "id": "344888e5",
   "metadata": {},
   "outputs": [
    {
     "name": "stdout",
     "output_type": "stream",
     "text": [
      "  * * * * * * * \n",
      "    *       * \n",
      "      *   * \n",
      "        * \n",
      "      *   * \n",
      "    *       * \n",
      "  * * * * * * * \n"
     ]
    }
   ],
   "source": [
    "# Hollow Hourglass Pattern\n",
    "# Input: n = 5\n",
    "\n",
    "n=4\n",
    "for i in range(n-1,-1,-1):\n",
    "    for k in range(n-i):\n",
    "        print(\" \",end=' ')\n",
    "    for j in range(2*i+1):\n",
    "        if i==n-1 or j==0 or j==2*i:\n",
    "            print(\"*\",end=\" \")\n",
    "        else:\n",
    "            print(\" \",end=\" \")\n",
    "    print()\n",
    "for i in range(1,n):\n",
    "    for k in range(n-i):\n",
    "        print(\" \",end=\" \")\n",
    "    for j in range(2*i+1):\n",
    "        if i==n-1 or j==0 or j==2*i:\n",
    "            print(\"*\",end=\" \")\n",
    "        else:\n",
    "            print(\" \",end=\" \")\n",
    "    print()\n"
   ]
  },
  {
   "cell_type": "code",
   "execution_count": 33,
   "id": "f52ed790",
   "metadata": {},
   "outputs": [
    {
     "name": "stdout",
     "output_type": "stream",
     "text": [
      "1 \n",
      "1 2 \n",
      "1 2 3 \n",
      "1 2 3 4 \n",
      "1 2 3 4 5 \n"
     ]
    }
   ],
   "source": [
    "# Problem: Print numbers from 1 to n in triangle form.\n",
    "# Input: n = 5\n",
    "n=5\n",
    "for i in range(n):\n",
    "    for j in range(i+1):\n",
    "        print(j+1,end=\" \")\n",
    "    print()"
   ]
  },
  {
   "cell_type": "code",
   "execution_count": 34,
   "id": "97f3e528",
   "metadata": {},
   "outputs": [
    {
     "name": "stdout",
     "output_type": "stream",
     "text": [
      "1 \n",
      "2 2 \n",
      "3 3 3 \n",
      "4 4 4 4 \n",
      "5 5 5 5 5 \n"
     ]
    }
   ],
   "source": [
    "# Repeating Row Number Triangle\n",
    "# Input: n = 5\n",
    "n=5\n",
    "for i in range(n):\n",
    "    for j in range(i+1):\n",
    "        print(i+1,end=\" \")\n",
    "    print()"
   ]
  },
  {
   "cell_type": "code",
   "execution_count": 35,
   "id": "20639ce9",
   "metadata": {},
   "outputs": [
    {
     "name": "stdout",
     "output_type": "stream",
     "text": [
      "1 \n",
      "2 3 \n",
      "4 5 6 \n",
      "7 8 9 10 \n"
     ]
    }
   ],
   "source": [
    "# Continuous Number Triangle\n",
    "# Input: n = 4\n",
    "n=4\n",
    "val=0\n",
    "for i in range(n):\n",
    "    for j in range(i+1):\n",
    "        val+=1\n",
    "        print(val,end=\" \")\n",
    "    print()"
   ]
  },
  {
   "cell_type": "code",
   "execution_count": 36,
   "id": "76d8fce2",
   "metadata": {},
   "outputs": [
    {
     "name": "stdout",
     "output_type": "stream",
     "text": [
      "1 \n",
      "2 1 \n",
      "3 2 1 \n",
      "4 3 2 1 \n",
      "5 4 3 2 1 \n"
     ]
    }
   ],
   "source": [
    "# Reverse Row Number Triangle\n",
    "# Input: n = 5\n",
    "n=5\n",
    "for i in range(n):\n",
    "    for j in range(i+1,0,-1):\n",
    "        print(j,end=\" \")\n",
    "    print()"
   ]
  },
  {
   "cell_type": "code",
   "execution_count": 38,
   "id": "efa23083",
   "metadata": {},
   "outputs": [
    {
     "name": "stdout",
     "output_type": "stream",
     "text": [
      "5 4 3 2 1 \n",
      "4 3 2 1 \n",
      "3 2 1 \n",
      "2 1 \n",
      "1 \n"
     ]
    }
   ],
   "source": [
    "# Inverted Number Triangle\n",
    "# Input: n = 5\n",
    "\n",
    "n=5\n",
    "for i in range(n,0,-1):\n",
    "    for j in range(i,0,-1):\n",
    "        print(j,end=\" \")\n",
    "    print()"
   ]
  },
  {
   "cell_type": "code",
   "execution_count": 39,
   "id": "123659c6",
   "metadata": {},
   "outputs": [
    {
     "name": "stdout",
     "output_type": "stream",
     "text": [
      "          1 \n",
      "        1 2 \n",
      "      1 2 3 \n",
      "    1 2 3 4 \n",
      "  1 2 3 4 5 \n"
     ]
    }
   ],
   "source": [
    "# Right-Aligned Number Triangle\n",
    "# Input: n = 5\n",
    "n=5\n",
    "for i in range(n):\n",
    "    for j in range(n-i):\n",
    "        print(\" \",end=\" \")\n",
    "    for k in range(i+1):\n",
    "        print(k+1,end=\" \")\n",
    "    print()"
   ]
  },
  {
   "cell_type": "code",
   "execution_count": 49,
   "id": "fd2d3b98",
   "metadata": {},
   "outputs": [
    {
     "name": "stdout",
     "output_type": "stream",
     "text": [
      "        1 \n",
      "      1 2 1 \n",
      "    1 2 3 2 1 \n",
      "  1 2 3 4 3 2 1 \n"
     ]
    }
   ],
   "source": [
    "# Pyramid Number Pattern\n",
    "# Input: n = 4\n",
    "n=4\n",
    "for i in range(n):\n",
    "    for j in range( n-i):\n",
    "        print(\" \",end=\" \")\n",
    "    for k in range(i+1):\n",
    "        print(k+1,end=\" \")\n",
    "    for l in range(i,0,-1):\n",
    "        print(l,end=\" \")\n",
    "\n",
    "    print()"
   ]
  },
  {
   "cell_type": "code",
   "execution_count": 63,
   "id": "6b3c8370",
   "metadata": {},
   "outputs": [
    {
     "name": "stdout",
     "output_type": "stream",
     "text": [
      "2 \n",
      "2 4 \n",
      "2 4 6 \n",
      "2 4 6 8 \n",
      "2 4 6 8 10 \n"
     ]
    }
   ],
   "source": [
    "# Even Number Triangle\n",
    "# Input: n = 5\n",
    "n=5\n",
    "for i in range(1,n+1):\n",
    "    for j in range(1,i+1):\n",
    "        print(2*j,end=\" \")\n",
    "    print()"
   ]
  },
  {
   "cell_type": "code",
   "execution_count": 67,
   "id": "5dac4c80",
   "metadata": {},
   "outputs": [
    {
     "name": "stdout",
     "output_type": "stream",
     "text": [
      "1 \n",
      "1 3 \n",
      "1 3 5 \n",
      "1 3 5 7 \n",
      "1 3 5 7 9 \n"
     ]
    }
   ],
   "source": [
    "# Odd Number Triangle\n",
    "# Input: n = 5\n",
    "n=5\n",
    "for i in range(0,n):\n",
    "    for j in range(i+1):\n",
    "        print(2*j+1,end=\" \")\n",
    "    print()"
   ]
  },
  {
   "cell_type": "code",
   "execution_count": 72,
   "id": "008a589f",
   "metadata": {},
   "outputs": [
    {
     "name": "stdout",
     "output_type": "stream",
     "text": [
      "1 \n",
      "1 1 \n",
      "1 2 1 \n",
      "1 3 3 1 \n",
      "1 4 6 4 1 \n"
     ]
    }
   ],
   "source": [
    "# Pascal’s Triangle\n",
    "# Input: n = 5\n",
    "n=5\n",
    "for i in range(n):\n",
    "    num=1\n",
    "    for j in range(i+1):\n",
    "        print(num,end=\" \")\n",
    "        num=num*(i-j)//(j+1)\n",
    "    print()\n",
    "        "
   ]
  }
 ],
 "metadata": {
  "kernelspec": {
   "display_name": "Python 3",
   "language": "python",
   "name": "python3"
  },
  "language_info": {
   "codemirror_mode": {
    "name": "ipython",
    "version": 3
   },
   "file_extension": ".py",
   "mimetype": "text/x-python",
   "name": "python",
   "nbconvert_exporter": "python",
   "pygments_lexer": "ipython3",
   "version": "3.13.1"
  }
 },
 "nbformat": 4,
 "nbformat_minor": 5
}
