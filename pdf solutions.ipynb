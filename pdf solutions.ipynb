{
 "cells": [
  {
   "cell_type": "code",
   "execution_count": null,
   "id": "cee9a19a",
   "metadata": {},
   "outputs": [
    {
     "name": "stdout",
     "output_type": "stream",
     "text": [
      "25\n"
     ]
    }
   ],
   "source": [
    "# Question: Calculate the area of a square. - Formula: Area = side × side - Input: - Side = 5 \n",
    "squside=5\n",
    "squarearea=squside*squside\n",
    "print(squarearea)"
   ]
  },
  {
   "cell_type": "code",
   "execution_count": 2,
   "id": "12943826",
   "metadata": {},
   "outputs": [
    {
     "name": "stdout",
     "output_type": "stream",
     "text": [
      "24\n"
     ]
    }
   ],
   "source": [
    "# Question: Calculate the area of a square. - Formula: Area = side × side - Input: - Side = 5 \n",
    "length=6\n",
    "breadth=4\n",
    "area=length*breadth\n",
    "print(area)"
   ]
  },
  {
   "cell_type": "code",
   "execution_count": 3,
   "id": "5afd6553",
   "metadata": {},
   "outputs": [
    {
     "name": "stdout",
     "output_type": "stream",
     "text": [
      "20.0\n"
     ]
    }
   ],
   "source": [
    "# Question: Calculate the area of a triangle using base and height. - Formula: Area = (1/2) × base × height - Input: - Base = 8 - Height = 5 \n",
    "base=8\n",
    "height=5\n",
    "area=1/2*base*height\n",
    "print(area)"
   ]
  },
  {
   "cell_type": "code",
   "execution_count": 4,
   "id": "b99ed63a",
   "metadata": {},
   "outputs": [
    {
     "name": "stdout",
     "output_type": "stream",
     "text": [
      "24\n"
     ]
    }
   ],
   "source": [
    "# Question: Calculate the perimeter of a square. - Formula: Perimeter = 4 × side - Input: - Side = 6\n",
    "side=6\n",
    "perimeter=4*side\n",
    "print(perimeter)"
   ]
  },
  {
   "cell_type": "code",
   "execution_count": 6,
   "id": "6e64f123",
   "metadata": {},
   "outputs": [
    {
     "name": "stdout",
     "output_type": "stream",
     "text": [
      "16\n"
     ]
    }
   ],
   "source": [
    "# Question: Calculate the perimeter of a rectangle. - Formula: Perimeter = 2 × (length + breadth) - Input: - Length = 5 - Breadth = 3 - \n",
    "length=5\n",
    "breadth=3\n",
    "perimeter=2*(length+breadth)\n",
    "print(perimeter)"
   ]
  },
  {
   "cell_type": "code",
   "execution_count": 7,
   "id": "8d6c967b",
   "metadata": {},
   "outputs": [
    {
     "name": "stdout",
     "output_type": "stream",
     "text": [
      "18\n"
     ]
    }
   ],
   "source": [
    "# Question: Calculate the perimeter of a triangle. - Formula: Perimeter = side1 + side2 + side3 - Input: - Side1 = 5, Side2 = 6, Side3 = 7\n",
    "side1=5\n",
    "side2=6\n",
    "side3=7\n",
    "perimeter=side1+side2+side3\n",
    "print(perimeter)"
   ]
  },
  {
   "cell_type": "code",
   "execution_count": null,
   "id": "50ca4638",
   "metadata": {},
   "outputs": [
    {
     "name": "stdout",
     "output_type": "stream",
     "text": [
      "1000:3-500:1-100:2\n"
     ]
    }
   ],
   "source": [
    "# Question: Break the total amount into denominations. - Input: - Amount = 3700 \n",
    "amount=3700\n",
    "thound=3700//1000\n",
    "fhunder=3700%1000\n",
    "fhund=fhunder//500\n",
    "hunder=fhunder%500\n",
    "hund=hunder//100\n",
    "\n",
    "\n",
    "print(f\"1000:{thound}-500:{fhund}-100:{hund}\")"
   ]
  },
  {
   "cell_type": "code",
   "execution_count": 24,
   "id": "979c268c",
   "metadata": {},
   "outputs": [
    {
     "name": "stdout",
     "output_type": "stream",
     "text": [
      "hours:1,min:1,sec=12\n"
     ]
    }
   ],
   "source": [
    "# Question: Convert total seconds into hours, minutes, and seconds. - Input: - Total seconds = 3672\n",
    "totalsecond=3672\n",
    "hour=totalsecond//3600\n",
    "remaining=totalsecond%3600\n",
    "min=remaining//60\n",
    "sec=remaining%60\n",
    "print(f\"hours:{hour},min:{min},sec={sec}\")\n"
   ]
  },
  {
   "cell_type": "code",
   "execution_count": 25,
   "id": "fa01749f",
   "metadata": {},
   "outputs": [
    {
     "name": "stdout",
     "output_type": "stream",
     "text": [
      "263\n"
     ]
    }
   ],
   "source": [
    "# Question: Calculate the sum of marks in 3 subjects. - Input: - Maths = 85 - Physics = 90 - Chemistry = 88\n",
    "maths=85\n",
    "physics=90\n",
    "chemistry=88\n",
    "totalmarks=maths+physics+chemistry\n",
    "print(totalmarks)"
   ]
  },
  {
   "cell_type": "code",
   "execution_count": 26,
   "id": "82e7f575",
   "metadata": {},
   "outputs": [
    {
     "name": "stdout",
     "output_type": "stream",
     "text": [
      "87.66666666666667\n"
     ]
    }
   ],
   "source": [
    "# Question: Calculate the average of marks in 3 subjects. - Input: - Maths = 85 - Physics = 90 - Chemistry = 88\n",
    "maths=85\n",
    "physics=90\n",
    "chemistry=88\n",
    "average=(maths+physics+chemistry)/3\n",
    "print(average)\n"
   ]
  },
  {
   "cell_type": "code",
   "execution_count": 27,
   "id": "a59c1623",
   "metadata": {},
   "outputs": [
    {
     "name": "stdout",
     "output_type": "stream",
     "text": [
      "even num\n"
     ]
    }
   ],
   "source": [
    "# problem solving 2\n",
    "# Question: Determine whether a number is even or odd. Explanation: A number is even if it is divisible by 2. Otherwise, it’s odd. - Input: Number = 6 \n",
    "n=6\n",
    "if n%2==0:\n",
    "    print(\"even num\")\n",
    "else:\n",
    "    print(\"odd\")\n"
   ]
  },
  {
   "cell_type": "code",
   "execution_count": 28,
   "id": "19381f55",
   "metadata": {},
   "outputs": [
    {
     "name": "stdout",
     "output_type": "stream",
     "text": [
      "satify\n"
     ]
    }
   ],
   "source": [
    "# Question: Check if a number is divisible by 5 but not by 10. Explanation: Use modulo (%) to check if the number % 5 == 0 and number % 10 != 0. - Input: Number = 25\n",
    "num=25\n",
    "if (num%5==0) and (num%10!=0):\n",
    "    print(\"satify\")\n",
    "else:\n",
    "    print(\"not\")"
   ]
  },
  {
   "cell_type": "code",
   "execution_count": 30,
   "id": "36cf4cd2",
   "metadata": {},
   "outputs": [
    {
     "name": "stdout",
     "output_type": "stream",
     "text": [
      "bigger is:7\n"
     ]
    }
   ],
   "source": [
    "# Question: Find the biggest number among two. Explanation: Use comparison operators (>) to check which number is greater. - Input: A = 4, B = 7 \n",
    "A = 4\n",
    "B = 7\n",
    "if A>B:\n",
    "    print(f\"bigger is:{A}\")\n",
    "else:\n",
    "    print(f\"bigger is:{B}\")"
   ]
  },
  {
   "cell_type": "code",
   "execution_count": 31,
   "id": "c3e05f27",
   "metadata": {},
   "outputs": [
    {
     "name": "stdout",
     "output_type": "stream",
     "text": [
      "smaller is:4\n"
     ]
    }
   ],
   "source": [
    "# Question: Find the smallest number among two. Explanation: Use comparison operators (<) to find the smaller value. - Input: A = 4, B = 7\n",
    "A = 4\n",
    "B = 7\n",
    "if A<B:\n",
    "    print(f\"smaller is:{A}\")\n",
    "else:\n",
    "    print(f\"smaller is:{B}\")"
   ]
  },
  {
   "cell_type": "code",
   "execution_count": 33,
   "id": "76c40d1d",
   "metadata": {},
   "outputs": [
    {
     "name": "stdout",
     "output_type": "stream",
     "text": [
      "satisfy\n"
     ]
    }
   ],
   "source": [
    "# Question: Check if a number is divisible by 2, 3, and 6. Explanation: If a number is divisible by both 2 and 3, it is also divisible by 6. - Input: Number = 18\n",
    "num=18\n",
    "if num%2==0 and num%3==0:\n",
    "    print(\"satisfy\")\n",
    "else:\n",
    "    print(\"not\")"
   ]
  },
  {
   "cell_type": "code",
   "execution_count": 35,
   "id": "0a97ba49",
   "metadata": {},
   "outputs": [
    {
     "name": "stdout",
     "output_type": "stream",
     "text": [
      "eligible to vote\n"
     ]
    }
   ],
   "source": [
    "# Question: Check if a person is eligible to vote (age >= 18). Explanation: A person is eligible to vote if their age is 18 or above. - Input: Age = 19 - \n",
    "age=19\n",
    "if age>=18:\n",
    "    print(\"eligible to vote\")\n",
    "else:\n",
    "    print(\"not eligible\")\n"
   ]
  },
  {
   "cell_type": "code",
   "execution_count": 37,
   "id": "40406cd0",
   "metadata": {},
   "outputs": [
    {
     "name": "stdout",
     "output_type": "stream",
     "text": [
      "fail\n"
     ]
    }
   ],
   "source": [
    "# Question: Check if a student passed all subjects (maths, physics, chemistry). Explanation: Student passes only if marks in all subjects are 35 or more. - Input: Maths = 40, Physics = 36, Chemistry = 30 \n",
    "maths=40\n",
    "physics=36\n",
    "chemistry=30\n",
    "if maths>=35 and physics>=35 and chemistry>=35:\n",
    "    print(\"pass\")\n",
    "else:\n",
    "    print(\"fail\")"
   ]
  },
  {
   "cell_type": "code",
   "execution_count": 38,
   "id": "b3fec6ef",
   "metadata": {},
   "outputs": [
    {
     "name": "stdout",
     "output_type": "stream",
     "text": [
      "pass\n"
     ]
    }
   ],
   "source": [
    "# Question: Check if the student passed at least one subject. Explanation: Use logical OR to check if any one subject has marks >= 35. - Input: Maths = 20, Physics = 38, Chemistry = 25\n",
    "maths=20\n",
    "physics=38\n",
    "chemistry=25\n",
    "if maths>=35 or physics>=35 or chemistry>=35:\n",
    "    print(\"pass\")\n",
    "else:\n",
    "    print(\"fail\")"
   ]
  },
  {
   "cell_type": "code",
   "execution_count": 39,
   "id": "80d9991c",
   "metadata": {},
   "outputs": [
    {
     "name": "stdout",
     "output_type": "stream",
     "text": [
      "pass\n"
     ]
    }
   ],
   "source": [
    "# Question: Check if the student passed any two out of three subjects. Explanation: Use a counter or logical conditions to verify two subjects >= 35\n",
    "Maths = 40\n",
    "Physics = 20\n",
    "Chemistry = 36\n",
    "if (Maths>=35 and Physics>=35) or (Maths>=35 and Chemistry>=35) or (Physics>=35 and Chemistry>=35):\n",
    "    print(\"pass\")\n",
    "else:\n",
    "    print(\"fail\")"
   ]
  },
  {
   "cell_type": "code",
   "execution_count": 41,
   "id": "c17edd7b",
   "metadata": {},
   "outputs": [
    {
     "name": "stdout",
     "output_type": "stream",
     "text": [
      "9 is bigger\n"
     ]
    }
   ],
   "source": [
    "# Question: Find the biggest number among three. Explanation: Compare each pair of numbers using if-else conditions. - Input: A = 7, B = 4, C = 9\n",
    "a=7\n",
    "b=4\n",
    "c=9\n",
    "if a>b and a>c:\n",
    "    print(f\"{a} is bigger\")\n",
    "elif b>a and b>c:\n",
    "    print(f\"{b} is bigger\")\n",
    "else:\n",
    "    print(f\"{c} is bigger\")\n",
    "    \n",
    "\n"
   ]
  },
  {
   "cell_type": "code",
   "execution_count": 42,
   "id": "9da46541",
   "metadata": {},
   "outputs": [
    {
     "name": "stdout",
     "output_type": "stream",
     "text": [
      "4 is smallest\n"
     ]
    }
   ],
   "source": [
    "\n",
    "# Question: Find the smallest number among three. Explanation: Use comparison logic to determine the minimum value. - Input: A = 7, B = 4, C = 9\n",
    "a=7\n",
    "b=4\n",
    "c=9\n",
    "if a<b and a<c:\n",
    "    print(f\"{a} is smallest \")\n",
    "elif b<a and b<c:\n",
    "    print(f\"{b} is smallest\")\n",
    "else:\n",
    "    print(f\"{c} is  smallest\")\n"
   ]
  },
  {
   "cell_type": "code",
   "execution_count": 45,
   "id": "5669ab51",
   "metadata": {},
   "outputs": [
    {
     "name": "stdout",
     "output_type": "stream",
     "text": [
      "not perfect square\n"
     ]
    }
   ],
   "source": [
    "# Question: Check if a number is a perfect square. Explanation: A number is a perfect square if the square of its square root equals the number. - Input: Number = 49 \n",
    "num=50\n",
    "i=0\n",
    "while i*i<=num:\n",
    "    if i*i==num:\n",
    "        print(\"perfect square\")\n",
    "        break\n",
    "    i+=1\n",
    "else:\n",
    "    print(\"not perfect square\")"
   ]
  },
  {
   "cell_type": "code",
   "execution_count": 52,
   "id": "8f4467e4",
   "metadata": {},
   "outputs": [
    {
     "name": "stdout",
     "output_type": "stream",
     "text": [
      "cars: 4\n"
     ]
    }
   ],
   "source": [
    "# Question: Calculate how many cars are needed for a given number of people. Explanation: Divide total people by 5 and round up using ceiling logic. - Input: Members = 17 - Output: Cars needed = 4\n",
    "members=17\n",
    "if members%5==0:\n",
    "    print(\"cars:\",members//5)\n",
    "else:\n",
    "    print(\"cars:\",(members//5)+1)\n"
   ]
  },
  {
   "cell_type": "code",
   "execution_count": 54,
   "id": "7e14b776",
   "metadata": {},
   "outputs": [
    {
     "name": "stdout",
     "output_type": "stream",
     "text": [
      "a is second smaller\n"
     ]
    }
   ],
   "source": [
    "# Question: Find the second largest number among three inputs. Explanation: Use sorting or nested conditions to find the second largest value. - Input: A = 10, B = 25, C = 18 - Output: Second biggest: 18\n",
    "a = 7\n",
    "b = 4\n",
    "c = 9\n",
    "\n",
    "if (a > b and a < c) or (a > c and a < b):\n",
    "    print(\"a is second smaller\")\n",
    "elif (b > a and b < c) or (b > c and b < a):\n",
    "    print(\"b is second smaller\")\n",
    "else:\n",
    "    print(\"c is second smaller\")\n",
    "\n"
   ]
  },
  {
   "cell_type": "code",
   "execution_count": 55,
   "id": "38c3c53a",
   "metadata": {},
   "outputs": [
    {
     "name": "stdout",
     "output_type": "stream",
     "text": [
      "leap year\n"
     ]
    }
   ],
   "source": [
    "# Question: Check if a given year is a leap year. Explanation: A year is a leap year if it is divisible by 4, and (not divisible by 100 unless divisible by 400). - Input: Year = 2024 - Output: Leap year\n",
    "year=2024\n",
    "if (year%4==0 and year%100!=0) or year%400==0:\n",
    "    print(\"leap year\")\n",
    "else:\n",
    "    print(\"not\")"
   ]
  },
  {
   "cell_type": "code",
   "execution_count": 58,
   "id": "31e2c3a9",
   "metadata": {},
   "outputs": [
    {
     "name": "stdout",
     "output_type": "stream",
     "text": [
      "1 2 3 4 5 "
     ]
    }
   ],
   "source": [
    "# problem solving 3\n",
    "# 1. Print Numbers from 1 to n\n",
    "# Question: Write a program to print numbers from 1 to n. Explanation: Use a loop starting from 1 to n and print each number. - Input: n = 5 \n",
    "n=5\n",
    "for i in range(1,n+1):\n",
    "    print(i,end=\" \")\n"
   ]
  },
  {
   "cell_type": "code",
   "execution_count": 59,
   "id": "a0929c89",
   "metadata": {},
   "outputs": [
    {
     "name": "stdout",
     "output_type": "stream",
     "text": [
      "3 4 5 6 7 "
     ]
    }
   ],
   "source": [
    "# Question: Write a program to print numbers from m to n. Explanation: Loop from m to n and print values. - Input: m = 3, n = 7\n",
    "m=3\n",
    "n=7\n",
    "for i in range(m,n+1):\n",
    "    print(i,end=\" \")\n",
    "    "
   ]
  },
  {
   "cell_type": "code",
   "execution_count": 61,
   "id": "18c27685",
   "metadata": {},
   "outputs": [
    {
     "name": "stdout",
     "output_type": "stream",
     "text": [
      "5 4 3 2 1 "
     ]
    }
   ],
   "source": [
    "# Question: Write a program to print numbers in reverse from n to 1. Explanation: Use a loop starting fro\n",
    "# m n and decrement to 1. - Input: n = 5\n",
    "n=5\n",
    "for i in range(n,0,-1):\n",
    "    print(i,end=\" \")"
   ]
  },
  {
   "cell_type": "code",
   "execution_count": 62,
   "id": "76c10e32",
   "metadata": {},
   "outputs": [
    {
     "name": "stdout",
     "output_type": "stream",
     "text": [
      "10 9 8 7 6 "
     ]
    }
   ],
   "source": [
    "# Question: Write a program to print numbers from n to m in reverse. Explanation: Start from n and go down to m. - Input: n = 10, m = 6 \n",
    "n=10\n",
    "m=6\n",
    "for i in range(n,m-1,-1):\n",
    "    print(i,end=\" \")"
   ]
  },
  {
   "cell_type": "code",
   "execution_count": 63,
   "id": "e290bca9",
   "metadata": {},
   "outputs": [
    {
     "name": "stdout",
     "output_type": "stream",
     "text": [
      "15\n"
     ]
    }
   ],
   "source": [
    "# Question: Write a program to calculate the sum of first n natural numbers. Explanation: Use formula or loop to sum from 1 to n. - Input: n = 5\n",
    "n=5\n",
    "sum=0\n",
    "for i in range(n+1):\n",
    "    sum+=i\n",
    "print(sum)"
   ]
  },
  {
   "cell_type": "code",
   "execution_count": 64,
   "id": "7c49b998",
   "metadata": {},
   "outputs": [
    {
     "name": "stdout",
     "output_type": "stream",
     "text": [
      "120\n"
     ]
    }
   ],
   "source": [
    "# Question: Write a program to find the factorial of a number. Explanation: Multiply all numbers from 1 to n. - Input: n = 5 \n",
    "n=5\n",
    "fact=1\n",
    "for i in range(1,n+1):\n",
    "    fact*=i\n",
    "print(fact)"
   ]
  },
  {
   "cell_type": "code",
   "execution_count": 65,
   "id": "ec7aa454",
   "metadata": {},
   "outputs": [
    {
     "name": "stdout",
     "output_type": "stream",
     "text": [
      "18\n"
     ]
    }
   ],
   "source": [
    "# Question: Write a program to find the sum of all numbers from m to n. Explanation: Loop from m to n and add values. - Input: m = 3, n = 6\n",
    "m=3\n",
    "n=6\n",
    "sum=0\n",
    "for i in range(m,n+1):\n",
    "    sum+=i\n",
    "print(sum)"
   ]
  },
  {
   "cell_type": "code",
   "execution_count": 68,
   "id": "3ae07627",
   "metadata": {},
   "outputs": [
    {
     "name": "stdout",
     "output_type": "stream",
     "text": [
      "24\n"
     ]
    }
   ],
   "source": [
    "# Question: Write a program to find the product of numbers from m to n. Explanation: Loop from m to n and multiply values. - Input: m = 2, n = 4\n",
    "m=2\n",
    "n=4\n",
    "product=1\n",
    "for i in range(m,n+1):\n",
    "    product*=i\n",
    "print(product)"
   ]
  },
  {
   "cell_type": "code",
   "execution_count": 70,
   "id": "ca60486b",
   "metadata": {},
   "outputs": [
    {
     "name": "stdout",
     "output_type": "stream",
     "text": [
      "1 2 3 6 "
     ]
    }
   ],
   "source": [
    "# Question: Write a program to print all factors of a given number. Explanation: Check divisibility of number from 1 to n. - Input: n = 6 - Output: 1 2 3 6\n",
    "n=6\n",
    "for i in range(1,n+1):\n",
    "    if n%i==0:\n",
    "        print(i,end=\" \")"
   ]
  },
  {
   "cell_type": "code",
   "execution_count": 71,
   "id": "6c33fdf0",
   "metadata": {},
   "outputs": [
    {
     "name": "stdout",
     "output_type": "stream",
     "text": [
      "4\n"
     ]
    }
   ],
   "source": [
    "# Question: Write a program to count how many factors a number has. Explanation: Increment count when divisible. - Input: n = 6 - Output: 4\n",
    "n=6\n",
    "count=0\n",
    "for i in range(1,n+1):\n",
    "    if n%i==0:\n",
    "        count+=1\n",
    "print(count)"
   ]
  },
  {
   "cell_type": "code",
   "execution_count": null,
   "id": "aa47fbbc",
   "metadata": {},
   "outputs": [],
   "source": [
    "# Question: Check if a number is prime. Explanation: A number is prime if it has exactly 2 factors. - Input: n = 7 \n",
    "\n",
    "n = 7\n",
    "count = 0\n",
    "\n",
    "for i in range(1, n + 1):\n",
    "    if n % i == 0:\n",
    "        count += 1\n",
    "\n",
    "if count == 2:\n",
    "    print(\"Prime number\")\n",
    "else:\n",
    "    print(\"Not a prime number\")\n"
   ]
  },
  {
   "cell_type": "code",
   "execution_count": 72,
   "id": "e415d24f",
   "metadata": {},
   "outputs": [
    {
     "name": "stdout",
     "output_type": "stream",
     "text": [
      "4 6 8 10 "
     ]
    }
   ],
   "source": [
    "# Question: Print all even numbers between m and n. Explanation: Use loop and check if divisible by 2. - Input: m = 3, n = 10 - Output: 4 6 8 10\n",
    "\n",
    "m=3\n",
    "n=10\n",
    "for i in range(m,n+1):\n",
    "    if i%2==0:\n",
    "        print(i,end=\" \")"
   ]
  },
  {
   "cell_type": "code",
   "execution_count": 73,
   "id": "3ca36866",
   "metadata": {},
   "outputs": [
    {
     "name": "stdout",
     "output_type": "stream",
     "text": [
      "3 5 7 9 "
     ]
    }
   ],
   "source": [
    "# Question: Print all odd numbers between m and n. Explanation: Check if number % 2 != 0. - Input: m = 3, n = 10 - Output: 3 5 7 9\n",
    "m=3\n",
    "n=10\n",
    "for i in range(m,n+1):\n",
    "    if i%2!=0:\n",
    "        print(i,end=\" \")"
   ]
  },
  {
   "cell_type": "code",
   "execution_count": 75,
   "id": "3e5be348",
   "metadata": {},
   "outputs": [
    {
     "name": "stdout",
     "output_type": "stream",
     "text": [
      "even:2,odd:3\n"
     ]
    }
   ],
   "source": [
    "# Question: Count how many even and odd numbers are in the range m to n. Explanation: Use counters for even and odd. - Input: m = 3, n = 7 - Output: Even = 2, Odd = 3\n",
    "m=3\n",
    "n=7\n",
    "even=0\n",
    "odd=0\n",
    "for i in range(m,n+1):\n",
    "    if i%2==0:\n",
    "        even+=1\n",
    "    else:\n",
    "        odd+=1\n",
    "print(f\"even:{even},odd:{odd}\")\n"
   ]
  },
  {
   "cell_type": "code",
   "execution_count": 76,
   "id": "2b7c0a45",
   "metadata": {},
   "outputs": [
    {
     "name": "stdout",
     "output_type": "stream",
     "text": [
      "olleh\n"
     ]
    }
   ],
   "source": [
    "# Question: Reverse a given string. Explanation: Use slicing or loop. - Input: “hello” - Output: “olleh”\n",
    "ip=\"hello\"\n",
    "op=\"\"\n",
    "for i in range(len(ip)-1,-1,-1):\n",
    "    op+=ip[i]\n",
    "print(op)"
   ]
  },
  {
   "cell_type": "code",
   "execution_count": 77,
   "id": "c729e9ac",
   "metadata": {},
   "outputs": [
    {
     "name": "stdout",
     "output_type": "stream",
     "text": [
      "palindrome\n"
     ]
    }
   ],
   "source": [
    "# Question: Check if a string is a palindrome. Explanation: Compare string with its reverse. - Input: “madam” - Output: Palindrome\n",
    "ip=\"madam\"\n",
    "if ip==ip[::-1]:\n",
    "    print(\"palindrome\")\n",
    "else:\n",
    "    print(\"not palindrome\")"
   ]
  },
  {
   "cell_type": "code",
   "execution_count": 78,
   "id": "4bafee99",
   "metadata": {},
   "outputs": [
    {
     "name": "stdout",
     "output_type": "stream",
     "text": [
      "6\n"
     ]
    }
   ],
   "source": [
    "# Question: Calculate the sum of digits of a number. Explanation: Use loop and % 10 to extract digits. - Input: 123 - Output: 6\n",
    "ip=123\n",
    "op=0\n",
    "while ip>0:\n",
    "    r=ip%10\n",
    "    op+=r\n",
    "    ip//=10\n",
    "print(op)"
   ]
  },
  {
   "cell_type": "code",
   "execution_count": 80,
   "id": "4c801bc9",
   "metadata": {},
   "outputs": [
    {
     "name": "stdout",
     "output_type": "stream",
     "text": [
      "6\n"
     ]
    }
   ],
   "source": [
    "# Question: Calculate the product of digits. Explanation: Multiply digits extracted from number. - Input: 123 - Output: 6\n",
    "ip=123\n",
    "op=1\n",
    "while ip>0:\n",
    "    r=ip%10\n",
    "    op*=r\n",
    "    ip//=10\n",
    "print(op)"
   ]
  },
  {
   "cell_type": "code",
   "execution_count": 81,
   "id": "2c1d8642",
   "metadata": {},
   "outputs": [
    {
     "name": "stdout",
     "output_type": "stream",
     "text": [
      "amstrong\n"
     ]
    }
   ],
   "source": [
    "# Question: Check if a number is an Armstrong number. Explanation: Sum of cube of digits equals the number. - Input: 153 - Output: Armstrong number\n",
    "ip=153\n",
    "m=ip\n",
    "temp=ip\n",
    "count=0\n",
    "res=0\n",
    "while m>0:\n",
    "    count+=1\n",
    "    m//=10\n",
    "while temp>0:\n",
    "    r=temp%10\n",
    "    res+=r**count\n",
    "    temp//=10\n",
    "if res==ip:\n",
    "    print(\"amstrong\")\n",
    "else:\n",
    "    print(\"not amstrong\")\n"
   ]
  },
  {
   "cell_type": "code",
   "execution_count": 85,
   "id": "ac551238",
   "metadata": {},
   "outputs": [
    {
     "name": "stdout",
     "output_type": "stream",
     "text": [
      "321\n"
     ]
    }
   ],
   "source": [
    "# Question: Reverse the digits of a number. Explanation: Use loop with % and // to reverse. - Input: 123 - Output: 321\n",
    "\n",
    "n=123\n",
    "res=0\n",
    "while n>0:\n",
    "    r=n%10\n",
    "    res=res*10+r\n",
    "    n//=10\n",
    "print(res)\n"
   ]
  },
  {
   "cell_type": "code",
   "execution_count": 86,
   "id": "4ee6a944",
   "metadata": {},
   "outputs": [
    {
     "name": "stdout",
     "output_type": "stream",
     "text": [
      "palindrome\n"
     ]
    }
   ],
   "source": [
    "# Question: Check if a number is a palindrome. Explanation: Compare number with its reverse. - Input: 121 - Output: Palindrome\n",
    "n=121\n",
    "temp=n\n",
    "res=0\n",
    "while n>0:\n",
    "    r=n%10\n",
    "    res=res*10+r\n",
    "    n//=10\n",
    "\n",
    "if res==temp:\n",
    "    print(\"palindrome\")\n",
    "else:\n",
    "    print(\"not palindrome\")"
   ]
  },
  {
   "cell_type": "code",
   "execution_count": 88,
   "id": "895fd5c5",
   "metadata": {},
   "outputs": [
    {
     "name": "stdout",
     "output_type": "stream",
     "text": [
      "2\n"
     ]
    }
   ],
   "source": [
    "# Question: Count number of vowels in a string. Explanation: Loop and check for a, e, i, o, u. - Input: “apple” - Output: 2\n",
    "ip=\"apple\"\n",
    "vowel=\"aeiou\"\n",
    "cnt=0\n",
    "for i in ip:\n",
    "    if i in vowel:\n",
    "        cnt+=1\n",
    "print(cnt)"
   ]
  },
  {
   "cell_type": "code",
   "execution_count": 89,
   "id": "2966816b",
   "metadata": {},
   "outputs": [
    {
     "name": "stdout",
     "output_type": "stream",
     "text": [
      "3\n"
     ]
    }
   ],
   "source": [
    "# Question: Count consonants in a string. Explanation: Check for alphabetic characters not vowels. - Input: “apple” - Output: 3\n",
    "ip=\"apple\"\n",
    "vowel=\"aeiou\"\n",
    "cnt=0\n",
    "for i in ip:\n",
    "    if i not in vowel:\n",
    "        cnt+=1\n",
    "print(cnt)"
   ]
  },
  {
   "cell_type": "code",
   "execution_count": 90,
   "id": "ff9f0b31",
   "metadata": {},
   "outputs": [
    {
     "name": "stdout",
     "output_type": "stream",
     "text": [
      "2 3\n"
     ]
    }
   ],
   "source": [
    "# Question: Count vowels and consonants in input string. Explanation: Maintain two counters. - Input: “apple” - Output: Vowels = 2, Consonants = 3\n",
    "ip=\"apple\"\n",
    "vowel=\"aeiou\"\n",
    "con=0\n",
    "vol=0\n",
    "for i in ip:\n",
    "    if i not in vowel:\n",
    "        con+=1\n",
    "    else:\n",
    "        vol+=1\n",
    "print(vol,con)"
   ]
  },
  {
   "cell_type": "code",
   "execution_count": 93,
   "id": "ec96b440",
   "metadata": {},
   "outputs": [
    {
     "name": "stdout",
     "output_type": "stream",
     "text": [
      "perfect number\n"
     ]
    }
   ],
   "source": [
    "# Question: Check if a number is perfect. Explanation: Sum of proper divisors equals the number. - Input: 28 - Output: Perfect number\n",
    "ip=28\n",
    "res=0\n",
    "for i in range(1,ip):\n",
    "    if ip%i==0:\n",
    "        res+=i\n",
    "if res==ip:\n",
    "    print(\"perfect number\")\n",
    "else:\n",
    "    print(\"not perfect num\")"
   ]
  },
  {
   "cell_type": "code",
   "execution_count": 94,
   "id": "c70911d9",
   "metadata": {},
   "outputs": [
    {
     "name": "stdout",
     "output_type": "stream",
     "text": [
      "neon number\n"
     ]
    }
   ],
   "source": [
    "# Question: Check if a number is a neon number. Explanation: Square the number, sum digits, match original. - Input: 9 - Output: Neon number\n",
    "ip=9\n",
    "squr=ip*ip\n",
    "res=0\n",
    "while squr>0:\n",
    "    r=squr%10\n",
    "    res+=r\n",
    "    squr//=10\n",
    "if res==ip:\n",
    "    print(\"neon number\")\n",
    "else:\n",
    "    print(\"not neon number\")"
   ]
  },
  {
   "cell_type": "code",
   "execution_count": 98,
   "id": "686e8f3d",
   "metadata": {},
   "outputs": [
    {
     "name": "stdout",
     "output_type": "stream",
     "text": [
      "strong\n"
     ]
    }
   ],
   "source": [
    "# Question: Check if a number is a strong number. Explanation: Sum of factorial of digits equals the number. - Input: 145 - Output: Strong number\n",
    "ip=145\n",
    "temp=ip\n",
    "res=0\n",
    "while temp>0:\n",
    "    r=temp%10\n",
    "    fact=1\n",
    "    for i in range(1,r+1):\n",
    "        fact*=i\n",
    "    res+=fact\n",
    "    temp//=10\n",
    "if res==ip:\n",
    "    print(\"strong\")\n",
    "else:\n",
    "    print(\"not strong\")"
   ]
  },
  {
   "cell_type": "code",
   "execution_count": 100,
   "id": "3073cfe6",
   "metadata": {},
   "outputs": [
    {
     "name": "stdout",
     "output_type": "stream",
     "text": [
      "harshad num\n"
     ]
    }
   ],
   "source": [
    "# Question: Check if a number is divisible by the sum of its digits. Explanation: Calculate digit sum and check divisibility. - Input: 18 - Output: Harshad number\n",
    "ip=18\n",
    "temp=ip\n",
    "res=0\n",
    "while ip>0:\n",
    "    r=ip%10\n",
    "    res+=r\n",
    "    ip//=10\n",
    "if temp==(2*res):\n",
    "    print(\"harshad num\")\n",
    "else:\n",
    "    print(\"not hardhad num\")\n"
   ]
  },
  {
   "cell_type": "code",
   "execution_count": 102,
   "id": "be2ee0b1",
   "metadata": {},
   "outputs": [
    {
     "name": "stdout",
     "output_type": "stream",
     "text": [
      "0 1 1 2 3 "
     ]
    }
   ],
   "source": [
    "# Question: Print the Fibonacci series up to n terms. Explanation: Start with 0, 1 and continue with sum of last two. - Input: n = 5 - Output: 0 1 1 2 3\n",
    "\n",
    "n=5\n",
    "a,b=0,1\n",
    "for i in range(n):\n",
    "    print(a,end=\" \")\n",
    "    a,b=b,a+b\n",
    "\n"
   ]
  },
  {
   "cell_type": "code",
   "execution_count": 103,
   "id": "5f594d5a",
   "metadata": {},
   "outputs": [
    {
     "name": "stdout",
     "output_type": "stream",
     "text": [
      "neon number\n"
     ]
    }
   ],
   "source": [
    "# Question: Again, check for a neon number (example). Explanation: Square number and sum digits. - Input: 9 - Output: Neon number\n",
    "ip=9\n",
    "squr=ip*ip\n",
    "res=0\n",
    "while squr>0:\n",
    "    r=squr%10\n",
    "    res+=r\n",
    "    squr//=10\n",
    "if res==ip:\n",
    "    print(\"neon number\")\n",
    "else:\n",
    "    print(\"not neon number\")\n"
   ]
  },
  {
   "cell_type": "code",
   "execution_count": 104,
   "id": "2883e704",
   "metadata": {},
   "outputs": [
    {
     "name": "stdout",
     "output_type": "stream",
     "text": [
      "* * * * \n",
      "* * * * \n",
      "* * * * \n",
      "* * * * \n"
     ]
    }
   ],
   "source": [
    "# Solid Square Pattern\n",
    "# Problem: Print a solid square of stars of size n.\n",
    "# Input: n = 4\n",
    "\n",
    "n=4\n",
    "for i in range(n):\n",
    "    for j in range(n):\n",
    "        print(\"*\",end=\" \")\n",
    "    print()"
   ]
  },
  {
   "cell_type": "code",
   "execution_count": 105,
   "id": "08655385",
   "metadata": {},
   "outputs": [
    {
     "name": "stdout",
     "output_type": "stream",
     "text": [
      "* * * * * \n",
      "* * * * * \n",
      "* * * * * \n"
     ]
    }
   ],
   "source": [
    "# Problem: Print a solid rectangle of m rows and n columns.\n",
    "# Input: m = 3, n = 5\n",
    "m = 3\n",
    "n = 5\n",
    "for i in range(m):\n",
    "    for j in range(n):\n",
    "        print(\"*\",end=\" \")\n",
    "    print()"
   ]
  },
  {
   "cell_type": "code",
   "execution_count": 106,
   "id": "2eec667c",
   "metadata": {},
   "outputs": [
    {
     "name": "stdout",
     "output_type": "stream",
     "text": [
      "* \n",
      "* * \n",
      "* * * \n",
      "* * * * \n",
      "* * * * * \n"
     ]
    }
   ],
   "source": [
    "# Problem: Print a left-aligned right-angled triangle.\n",
    "# Input: n = 5\n",
    "n=5\n",
    "for i in range(n):\n",
    "    for j in range(i+1):\n",
    "        print(\"*\",end=\" \")\n",
    "    print()"
   ]
  },
  {
   "cell_type": "code",
   "execution_count": 107,
   "id": "2721ae4f",
   "metadata": {},
   "outputs": [
    {
     "name": "stdout",
     "output_type": "stream",
     "text": [
      "          * \n",
      "        * * \n",
      "      * * * \n",
      "    * * * * \n",
      "  * * * * * \n"
     ]
    }
   ],
   "source": [
    "# Right-Angled Triangle (Right-Aligned)\n",
    "# Input: n = 5\n",
    "n=5\n",
    "for i in range(n):\n",
    "    for j in range(n-i):\n",
    "        print(\" \",end=\" \")\n",
    "    for k in range(i+1):\n",
    "        print(\"*\",end=\" \")\n",
    "    print()"
   ]
  },
  {
   "cell_type": "code",
   "execution_count": 108,
   "id": "739fcf56",
   "metadata": {},
   "outputs": [
    {
     "name": "stdout",
     "output_type": "stream",
     "text": [
      "* * * * * \n",
      "* * * * \n",
      "* * * \n",
      "* * \n",
      "* \n"
     ]
    }
   ],
   "source": [
    "# Inverted Triangle (Left-Aligned)\n",
    "# Input: n = 5\n",
    "n=5\n",
    "for i in range(n):\n",
    "    for j in range(n-i):\n",
    "        print(\"*\",end=\" \")\n",
    "    print()"
   ]
  },
  {
   "cell_type": "code",
   "execution_count": 109,
   "id": "a78b1e9a",
   "metadata": {},
   "outputs": [
    {
     "name": "stdout",
     "output_type": "stream",
     "text": [
      "  * * * * * \n",
      "    * * * * \n",
      "      * * * \n",
      "        * * \n",
      "          * \n"
     ]
    }
   ],
   "source": [
    "# Inverted Triangle (Right-Aligned)\n",
    "# Input: n = 5\n",
    "n=5\n",
    "for i in range(n):\n",
    "    for j in range(i+1):\n",
    "        print(\" \",end=\" \")\n",
    "    for k in range(n-i):\n",
    "        print(\"*\",end=\" \")\n",
    "    print()\n"
   ]
  },
  {
   "cell_type": "code",
   "execution_count": 110,
   "id": "4d45f4c6",
   "metadata": {},
   "outputs": [
    {
     "name": "stdout",
     "output_type": "stream",
     "text": [
      "        * \n",
      "      * * * \n",
      "    * * * * * \n",
      "  * * * * * * * \n"
     ]
    }
   ],
   "source": [
    "# Centered Pyramid Pattern\n",
    "# Input: n = 4\n",
    "n=4\n",
    "for i in range(n):\n",
    "    for j in range(n-i):\n",
    "        print(\" \",end=\" \")\n",
    "    for k in range(2*i+1):\n",
    "        print(\"*\",end=\" \")\n",
    "    print()"
   ]
  },
  {
   "cell_type": "code",
   "execution_count": 112,
   "id": "39fd4ef4",
   "metadata": {},
   "outputs": [
    {
     "name": "stdout",
     "output_type": "stream",
     "text": [
      "      * \n",
      "    * * * \n",
      "  * * * * * \n",
      "    * * * \n",
      "      * \n"
     ]
    }
   ],
   "source": [
    "# Diamond Pattern\n",
    "# Input: n = 3\n",
    "n=3\n",
    "for i in range(n):\n",
    "    for j in range(n-i):\n",
    "        print(\" \",end=\" \")\n",
    "    for k in range(2*i+1):\n",
    "        print(\"*\",end=\" \")\n",
    "    print()\n",
    "for i in range(n-2,-1,-1):\n",
    "    for j in range(n-i):\n",
    "        print(\" \",end=\" \")\n",
    "    for k in range(2*i+1):\n",
    "        print(\"*\",end=\" \")\n",
    "    print()\n"
   ]
  },
  {
   "cell_type": "code",
   "execution_count": 135,
   "id": "0ffc1155",
   "metadata": {},
   "outputs": [
    {
     "name": "stdout",
     "output_type": "stream",
     "text": [
      "*             * \n",
      "* *         * * \n",
      "* * *     * * * \n",
      "* * * * * * * * \n",
      "* * *     * * * \n",
      "* *         * * \n",
      "*             * \n",
      "                \n"
     ]
    }
   ],
   "source": [
    "# Butterfly Pattern\n",
    "# Input: n = 4\n",
    "n=4\n",
    "for i in range(n-1,-1,-1):\n",
    "    for j in range(n-i):\n",
    "        print(\"*\",end=\" \")\n",
    "    for k in range(2*i):\n",
    "        print(\" \",end=\" \")\n",
    "    for l in range(n-i):\n",
    "        print(\"*\",end=\" \")\n",
    "    print()\n",
    "\n",
    "for i in range(1,n+1):\n",
    "    space=2*(i)\n",
    "    for j in range(n-i):\n",
    "        print(\"*\",end=\" \")\n",
    "    for k in range(space):\n",
    "        print(\" \",end=\" \")\n",
    "    \n",
    "    for l in range(n-i):\n",
    "        print(\"*\",end=\" \")\n",
    "    print()\n",
    "\n",
    "\n",
    "    "
   ]
  },
  {
   "cell_type": "code",
   "execution_count": 140,
   "id": "116324fb",
   "metadata": {},
   "outputs": [
    {
     "name": "stdout",
     "output_type": "stream",
     "text": [
      "* \n",
      "* * \n",
      "* * * \n",
      "* * * * \n",
      "* * * \n",
      "* * \n",
      "* \n",
      "\n"
     ]
    }
   ],
   "source": [
    "# Left-Aligned Half Diamond\n",
    "# Input: n = 4\n",
    "n=4\n",
    "for i in range(n):\n",
    "    for j in range(i+1):\n",
    "        print(\"*\",end=\" \")\n",
    "  \n",
    "    print()\n",
    "for i in range(n):\n",
    "    for j in range(n-i-1):\n",
    "        print(\"*\",end=\" \")\n",
    "    print()"
   ]
  },
  {
   "cell_type": "code",
   "execution_count": 138,
   "id": "f5da0d0e",
   "metadata": {},
   "outputs": [
    {
     "name": "stdout",
     "output_type": "stream",
     "text": [
      "        * \n",
      "      * * \n",
      "    * * * \n",
      "  * * * * \n",
      "    * * * \n",
      "      * * \n",
      "        * \n",
      "          \n"
     ]
    }
   ],
   "source": [
    "# Right-Aligned Half Diamond\n",
    "# Input: n = 4\n",
    "n=4\n",
    "for i in range(n):\n",
    "    for j in range(n-i):\n",
    "        print(\" \",end=\" \")\n",
    "    for k in range(i+1):\n",
    "        print(\"*\",end=\" \")\n",
    "    print()\n",
    "for i in range(n):\n",
    "    for j in range(i+2):\n",
    "        print(\" \",end=\" \")\n",
    "    for k in range(n-i-1):\n",
    "        print(\"*\",end=\" \")\n",
    "    print()"
   ]
  },
  {
   "cell_type": "code",
   "execution_count": 145,
   "id": "b1caa908",
   "metadata": {},
   "outputs": [
    {
     "name": "stdout",
     "output_type": "stream",
     "text": [
      "  * * * * \n",
      "    * * * \n",
      "      * * \n",
      "        * \n",
      "      * * \n",
      "    * * * \n",
      "  * * * * \n"
     ]
    }
   ],
   "source": [
    "# Sandglass Pattern\n",
    "# Input: n = 4\n",
    "n=4\n",
    "for i in range(n):\n",
    "    for j in range(i+1):\n",
    "        print(\" \",end=\" \")\n",
    "    for k in range(n-i):\n",
    "        print(\"*\",end=\" \")\n",
    "    print()\n",
    "for i in range(1,n):\n",
    "    for j in range(n-i):\n",
    "        print(\" \",end=\" \")\n",
    "    for k in range(i+1):\n",
    "        print(\"*\",end=\" \")\n",
    "\n",
    "    print()\n"
   ]
  },
  {
   "cell_type": "code",
   "execution_count": 146,
   "id": "79c6bec0",
   "metadata": {},
   "outputs": [
    {
     "name": "stdout",
     "output_type": "stream",
     "text": [
      "* \n",
      "* * \n",
      "* * * \n",
      "* * * * \n",
      "* * * * * \n"
     ]
    }
   ],
   "source": [
    "# Increasing Width Triangle\n",
    "# Input: n = 5\n",
    "n=5\n",
    "for i in range(n):\n",
    "    for j in range(i+1):\n",
    "        print(\"*\",end=\" \")\n",
    "    print()"
   ]
  },
  {
   "cell_type": "code",
   "execution_count": 147,
   "id": "e77d7d87",
   "metadata": {},
   "outputs": [
    {
     "name": "stdout",
     "output_type": "stream",
     "text": [
      "* * * * * \n",
      "* * * * \n",
      "* * * \n",
      "* * \n",
      "* \n"
     ]
    }
   ],
   "source": [
    "# Decreasing Width Triangle\n",
    "# Input: n = 5\n",
    "n=5\n",
    "for i in range(n):\n",
    "    for j in range(n-i):\n",
    "        print(\"*\",end=\" \")\n",
    "    print()"
   ]
  },
  {
   "cell_type": "code",
   "execution_count": 148,
   "id": "9bf27b9c",
   "metadata": {},
   "outputs": [
    {
     "name": "stdout",
     "output_type": "stream",
     "text": [
      "        * \n",
      "      * * \n",
      "    * * * \n",
      "  * * * * \n"
     ]
    }
   ],
   "source": [
    "# Right-Aligned Hill Pattern\n",
    "# Input: n = 4\n",
    "n=4\n",
    "for i in range(n):\n",
    "    for j in range(n-i):\n",
    "        print(\" \",end=\" \")\n",
    "    for k in range(i+1):\n",
    "        print(\"*\",end=\" \")\n",
    "    print()"
   ]
  },
  {
   "cell_type": "code",
   "execution_count": 151,
   "id": "d0978bd6",
   "metadata": {},
   "outputs": [
    {
     "name": "stdout",
     "output_type": "stream",
     "text": [
      "* * * * \n",
      "*     * \n",
      "*     * \n",
      "* * * * \n"
     ]
    }
   ],
   "source": [
    "# Problem: Print a hollow square of stars of size n.\n",
    "# Input: n = 4\n",
    "n=4\n",
    "for i in range(n):\n",
    "    for j in range(n):\n",
    "        if i==0 or j==0 or i==n-1 or j==n-1:\n",
    "            print(\"*\",end=\" \")\n",
    "        else:\n",
    "            print(\" \",end=\" \")\n",
    "    print()"
   ]
  },
  {
   "cell_type": "code",
   "execution_count": 152,
   "id": "2021b303",
   "metadata": {},
   "outputs": [
    {
     "name": "stdout",
     "output_type": "stream",
     "text": [
      "* * * * * \n",
      "*       * \n",
      "*       * \n",
      "* * * * * \n"
     ]
    }
   ],
   "source": [
    "# Problem: Print a hollow rectangle of m rows and n columns.\n",
    "# Input: m = 4, n = 5\n",
    "n=4\n",
    "m=5\n",
    "for i in range(n):\n",
    "    for j in range(m):\n",
    "        if i==0 or j==0 or i==n-1 or j==m-1:\n",
    "            print(\"*\",end=\" \")\n",
    "        else:\n",
    "            print(\" \",end=\" \")\n",
    "    print()"
   ]
  },
  {
   "cell_type": "code",
   "execution_count": null,
   "id": "9bf6adff",
   "metadata": {},
   "outputs": [
    {
     "name": "stdout",
     "output_type": "stream",
     "text": [
      "* \n",
      "* * \n",
      "*   * \n",
      "* * * * \n"
     ]
    }
   ],
   "source": [
    "# Hollow Right-Angled Triangle (Left-Aligned)\n",
    "# Input: n = 5\n",
    "n=4\n",
    "for i in range(n):\n",
    "    for j in range(i+1):\n",
    "        if j==0 or i==j or i==n-1:\n",
    "            print(\"*\",end=\" \")\n",
    "        else:\n",
    "            print(\" \",end=\" \")\n",
    "    print()"
   ]
  },
  {
   "cell_type": "code",
   "execution_count": null,
   "id": "f9219d38",
   "metadata": {},
   "outputs": [
    {
     "name": "stdout",
     "output_type": "stream",
     "text": [
      "        * \n",
      "      * * \n",
      "    *   * \n",
      "  * * * * \n"
     ]
    }
   ],
   "source": [
    "# Hollow Right-Angled Triangle (Right-Aligned)\n",
    "# Input: n = 5\n",
    "n=4\n",
    "for i in range(n):\n",
    "    for j in range(n-i):\n",
    "        print(\" \",end=\" \")\n",
    "    for k in range(i+1):\n",
    "        if i==k or k==0 or i==n-1:\n",
    "\n",
    "            print(\"*\",end=\" \")\n",
    "        else:\n",
    "            print(\" \",end=\" \")\n",
    "    print()"
   ]
  },
  {
   "cell_type": "code",
   "execution_count": null,
   "id": "b56e5eb6",
   "metadata": {},
   "outputs": [
    {
     "name": "stdout",
     "output_type": "stream",
     "text": [
      "* * * * \n",
      "*   * \n",
      "* * \n",
      "* \n"
     ]
    }
   ],
   "source": [
    "# Hollow Inverted Triangle (Left-Aligned)\n",
    "# Input: n = 5\n",
    "n=4 \n",
    "for i in range(n):\n",
    "    for j in range(n-i):\n",
    "        if i==0 or j==0 or j==n-i-1:\n",
    "            print(\"*\",end=\" \")\n",
    "        else:\n",
    "            print(\" \",end=\" \")\n",
    "    print()"
   ]
  },
  {
   "cell_type": "code",
   "execution_count": null,
   "id": "996acec5",
   "metadata": {},
   "outputs": [
    {
     "name": "stdout",
     "output_type": "stream",
     "text": [
      "  * * * * \n",
      "    *   * \n",
      "      * * \n",
      "        * \n"
     ]
    }
   ],
   "source": [
    "# Hollow Inverted Triangle (Right-Aligned)\n",
    "# Input: n = 5\n",
    "n=4 \n",
    "for i in range(n):\n",
    "    for j in range(i+1):\n",
    "        print(\" \",end=\" \")\n",
    "    for k in range(n-i):\n",
    "        if i==0 or k==0 or k==n-i-1:\n",
    "            print(\"*\",end=\" \")\n",
    "        else:\n",
    "            print(\" \",end=\" \")\n",
    "    print()"
   ]
  },
  {
   "cell_type": "code",
   "execution_count": null,
   "id": "9bb6886c",
   "metadata": {},
   "outputs": [
    {
     "name": "stdout",
     "output_type": "stream",
     "text": [
      "        * \n",
      "      *   * \n",
      "    *       * \n",
      "  * * * * * * * \n"
     ]
    }
   ],
   "source": [
    "# Hollow Pyramid Pattern\n",
    "# Input: n = 4\n",
    "n=4\n",
    "for i in range(n):\n",
    "    for j in range(n-i):\n",
    "        print(\" \",end=\" \")\n",
    "    for k in range(2*i+1):\n",
    "        if k==0 or i==n-1 or k==2*i:\n",
    "            print(\"*\",end=\" \")\n",
    "        else:\n",
    "            print(\" \",end=\" \")\n",
    "    print()"
   ]
  },
  {
   "cell_type": "code",
   "execution_count": null,
   "id": "9809b9db",
   "metadata": {},
   "outputs": [
    {
     "name": "stdout",
     "output_type": "stream",
     "text": [
      "   *   \n",
      "  * *  \n",
      " *   * \n",
      "*     *\n",
      " *   * \n",
      "  * *  \n",
      "   *   \n"
     ]
    }
   ],
   "source": [
    "# Hollow Diamond Pattern\n",
    "# Input: n = 3\n",
    "n=4\n",
    "for i in range(1,n+1):\n",
    "    s=\" \"*(n-i)\n",
    "    if i==1:\n",
    "        print(s+\"*\"+s)\n",
    "    else:\n",
    "\n",
    "        print(s+\"* \"+\"  \"*(i-2)+\"*\"+s)\n",
    "for i in range(n-1,0,-1):\n",
    "    s=\" \"*(n-i)\n",
    "    if i==1:\n",
    "        print(s+\"*\"+s)\n",
    "    else:\n",
    "        print(s+\"* \"+\"  \"*(i-2)+\"*\"+s)\n",
    "\n"
   ]
  },
  {
   "cell_type": "code",
   "execution_count": null,
   "id": "55d86db2",
   "metadata": {},
   "outputs": [
    {
     "name": "stdout",
     "output_type": "stream",
     "text": [
      "*       *\n",
      "**     **\n",
      "* *   * *\n",
      "*  * *  *\n",
      "*   *   *\n",
      "*  * *  *\n",
      "* *   * *\n",
      "**     **\n",
      "*       *\n"
     ]
    }
   ],
   "source": [
    "# Hollow Butterfly Pattern\n",
    "# Input: n = 4\n",
    "n = 4\n",
    "for i in range(n, 0, -1):\n",
    "    s = \" \" * (n - i)\n",
    "    if i == 1:\n",
    "        print(\"*\" + s + \"*\" + s + \"*\")\n",
    "    else:\n",
    "        if i == n:\n",
    "            print(\"* \" + \"  \" * (i - 2) + \"  *\")\n",
    "            print(\"*\" + s + \"* \" + \"  \" * (i - 2) + \"*\" + s + \"*\")\n",
    "        else:\n",
    "            print(\"*\" + s + \"* \" + \"  \" * (i - 2) + \"*\" + s + \"*\")\n",
    "\n",
    "for i in range(2, n + 1):\n",
    "    s = \" \" * (n - i)\n",
    "    if i == n:\n",
    "        print(\"*\" + s + \"* \" + \"  \" * (i - 2) + \"*\" + s + \"*\")\n",
    "        print(\"* \" + \"  \" * (i - 2) + \"  *\")\n",
    "    else:\n",
    "        print(\"*\" + s + \"* \" + \"  \" * (i - 2) + \"*\" + s + \"*\")"
   ]
  },
  {
   "cell_type": "code",
   "execution_count": 32,
   "id": "344888e5",
   "metadata": {},
   "outputs": [
    {
     "name": "stdout",
     "output_type": "stream",
     "text": [
      "  * * * * * * * \n",
      "    *       * \n",
      "      *   * \n",
      "        * \n",
      "      *   * \n",
      "    *       * \n",
      "  * * * * * * * \n"
     ]
    }
   ],
   "source": [
    "# Hollow Hourglass Pattern\n",
    "# Input: n = 5\n",
    "\n",
    "n=4\n",
    "for i in range(n-1,-1,-1):\n",
    "    for k in range(n-i):\n",
    "        print(\" \",end=' ')\n",
    "    for j in range(2*i+1):\n",
    "        if i==n-1 or j==0 or j==2*i:\n",
    "            print(\"*\",end=\" \")\n",
    "        else:\n",
    "            print(\" \",end=\" \")\n",
    "    print()\n",
    "for i in range(1,n):\n",
    "    for k in range(n-i):\n",
    "        print(\" \",end=\" \")\n",
    "    for j in range(2*i+1):\n",
    "        if i==n-1 or j==0 or j==2*i:\n",
    "            print(\"*\",end=\" \")\n",
    "        else:\n",
    "            print(\" \",end=\" \")\n",
    "    print()\n"
   ]
  },
  {
   "cell_type": "code",
   "execution_count": 33,
   "id": "f52ed790",
   "metadata": {},
   "outputs": [
    {
     "name": "stdout",
     "output_type": "stream",
     "text": [
      "1 \n",
      "1 2 \n",
      "1 2 3 \n",
      "1 2 3 4 \n",
      "1 2 3 4 5 \n"
     ]
    }
   ],
   "source": [
    "# Problem: Print numbers from 1 to n in triangle form.\n",
    "# Input: n = 5\n",
    "n=5\n",
    "for i in range(n):\n",
    "    for j in range(i+1):\n",
    "        print(j+1,end=\" \")\n",
    "    print()"
   ]
  },
  {
   "cell_type": "code",
   "execution_count": 34,
   "id": "97f3e528",
   "metadata": {},
   "outputs": [
    {
     "name": "stdout",
     "output_type": "stream",
     "text": [
      "1 \n",
      "2 2 \n",
      "3 3 3 \n",
      "4 4 4 4 \n",
      "5 5 5 5 5 \n"
     ]
    }
   ],
   "source": [
    "# Repeating Row Number Triangle\n",
    "# Input: n = 5\n",
    "n=5\n",
    "for i in range(n):\n",
    "    for j in range(i+1):\n",
    "        print(i+1,end=\" \")\n",
    "    print()"
   ]
  },
  {
   "cell_type": "code",
   "execution_count": 35,
   "id": "20639ce9",
   "metadata": {},
   "outputs": [
    {
     "name": "stdout",
     "output_type": "stream",
     "text": [
      "1 \n",
      "2 3 \n",
      "4 5 6 \n",
      "7 8 9 10 \n"
     ]
    }
   ],
   "source": [
    "# Continuous Number Triangle\n",
    "# Input: n = 4\n",
    "n=4\n",
    "val=0\n",
    "for i in range(n):\n",
    "    for j in range(i+1):\n",
    "        val+=1\n",
    "        print(val,end=\" \")\n",
    "    print()"
   ]
  },
  {
   "cell_type": "code",
   "execution_count": 36,
   "id": "76d8fce2",
   "metadata": {},
   "outputs": [
    {
     "name": "stdout",
     "output_type": "stream",
     "text": [
      "1 \n",
      "2 1 \n",
      "3 2 1 \n",
      "4 3 2 1 \n",
      "5 4 3 2 1 \n"
     ]
    }
   ],
   "source": [
    "# Reverse Row Number Triangle\n",
    "# Input: n = 5\n",
    "n=5\n",
    "for i in range(n):\n",
    "    for j in range(i+1,0,-1):\n",
    "        print(j,end=\" \")\n",
    "    print()"
   ]
  },
  {
   "cell_type": "code",
   "execution_count": 38,
   "id": "efa23083",
   "metadata": {},
   "outputs": [
    {
     "name": "stdout",
     "output_type": "stream",
     "text": [
      "5 4 3 2 1 \n",
      "4 3 2 1 \n",
      "3 2 1 \n",
      "2 1 \n",
      "1 \n"
     ]
    }
   ],
   "source": [
    "# Inverted Number Triangle\n",
    "# Input: n = 5\n",
    "\n",
    "n=5\n",
    "for i in range(n,0,-1):\n",
    "    for j in range(i,0,-1):\n",
    "        print(j,end=\" \")\n",
    "    print()"
   ]
  },
  {
   "cell_type": "code",
   "execution_count": 39,
   "id": "123659c6",
   "metadata": {},
   "outputs": [
    {
     "name": "stdout",
     "output_type": "stream",
     "text": [
      "          1 \n",
      "        1 2 \n",
      "      1 2 3 \n",
      "    1 2 3 4 \n",
      "  1 2 3 4 5 \n"
     ]
    }
   ],
   "source": [
    "# Right-Aligned Number Triangle\n",
    "# Input: n = 5\n",
    "n=5\n",
    "for i in range(n):\n",
    "    for j in range(n-i):\n",
    "        print(\" \",end=\" \")\n",
    "    for k in range(i+1):\n",
    "        print(k+1,end=\" \")\n",
    "    print()"
   ]
  },
  {
   "cell_type": "code",
   "execution_count": 49,
   "id": "fd2d3b98",
   "metadata": {},
   "outputs": [
    {
     "name": "stdout",
     "output_type": "stream",
     "text": [
      "        1 \n",
      "      1 2 1 \n",
      "    1 2 3 2 1 \n",
      "  1 2 3 4 3 2 1 \n"
     ]
    }
   ],
   "source": [
    "# Pyramid Number Pattern\n",
    "# Input: n = 4\n",
    "n=4\n",
    "for i in range(n):\n",
    "    for j in range( n-i):\n",
    "        print(\" \",end=\" \")\n",
    "    for k in range(i+1):\n",
    "        print(k+1,end=\" \")\n",
    "    for l in range(i,0,-1):\n",
    "        print(l,end=\" \")\n",
    "\n",
    "    print()"
   ]
  },
  {
   "cell_type": "code",
   "execution_count": 63,
   "id": "6b3c8370",
   "metadata": {},
   "outputs": [
    {
     "name": "stdout",
     "output_type": "stream",
     "text": [
      "2 \n",
      "2 4 \n",
      "2 4 6 \n",
      "2 4 6 8 \n",
      "2 4 6 8 10 \n"
     ]
    }
   ],
   "source": [
    "# Even Number Triangle\n",
    "# Input: n = 5\n",
    "n=5\n",
    "for i in range(1,n+1):\n",
    "    for j in range(1,i+1):\n",
    "        print(2*j,end=\" \")\n",
    "    print()"
   ]
  },
  {
   "cell_type": "code",
   "execution_count": 67,
   "id": "5dac4c80",
   "metadata": {},
   "outputs": [
    {
     "name": "stdout",
     "output_type": "stream",
     "text": [
      "1 \n",
      "1 3 \n",
      "1 3 5 \n",
      "1 3 5 7 \n",
      "1 3 5 7 9 \n"
     ]
    }
   ],
   "source": [
    "# Odd Number Triangle\n",
    "# Input: n = 5\n",
    "n=5\n",
    "for i in range(0,n):\n",
    "    for j in range(i+1):\n",
    "        print(2*j+1,end=\" \")\n",
    "    print()"
   ]
  },
  {
   "cell_type": "code",
   "execution_count": 72,
   "id": "008a589f",
   "metadata": {},
   "outputs": [
    {
     "name": "stdout",
     "output_type": "stream",
     "text": [
      "1 \n",
      "1 1 \n",
      "1 2 1 \n",
      "1 3 3 1 \n",
      "1 4 6 4 1 \n"
     ]
    }
   ],
   "source": [
    "# Pascal’s Triangle\n",
    "# Input: n = 5\n",
    "n=5\n",
    "for i in range(n):\n",
    "    num=1\n",
    "    for j in range(i+1):\n",
    "        print(num,end=\" \")\n",
    "        num=num*(i-j)//(j+1)\n",
    "    print()\n",
    "        "
   ]
  },
  {
   "cell_type": "code",
   "execution_count": 78,
   "id": "ea62bdab",
   "metadata": {},
   "outputs": [
    {
     "name": "stdout",
     "output_type": "stream",
     "text": [
      "11 13 17 19 23 29 "
     ]
    }
   ],
   "source": [
    "# 1. Print All Prime Numbers from m to n\n",
    "# Problem: Given a range from m to n, print all prime numbers in that range.\n",
    "# Input: m = 10, n = 30\n",
    "def prime(n):\n",
    "    if n < 2:\n",
    "        return False\n",
    "    for i in range(2, n):  \n",
    "        if n % i == 0:\n",
    "            return False\n",
    "    return True\n",
    "\n",
    "m = 10\n",
    "n = 30\n",
    "\n",
    "for i in range(m, n + 1):\n",
    "    if prime(i):\n",
    "        print(i,end=\" \") "
   ]
  },
  {
   "cell_type": "code",
   "execution_count": null,
   "id": "ed3b9edd",
   "metadata": {},
   "outputs": [
    {
     "name": "stdout",
     "output_type": "stream",
     "text": [
      "4\n"
     ]
    }
   ],
   "source": [
    "# 2. Count of All Prime Numbers from m to n\n",
    "# Problem: Count how many prime numbers are there between m and n.\n",
    "# Input: m = 1, n = 10\n",
    "\n",
    "def prime(n):\n",
    "    if n < 2:\n",
    "        return False\n",
    "    for i in range(2, n):  \n",
    "        if n % i == 0:\n",
    "            return False\n",
    "    return True\n",
    "m = 1\n",
    "n = 10\n",
    "count=0\n",
    "\n",
    "for i in range(m, n + 1):\n",
    "    if prime(i):\n",
    "        count+=1 \n",
    "print(count)\n"
   ]
  },
  {
   "cell_type": "code",
   "execution_count": null,
   "id": "0bd78eaa",
   "metadata": {},
   "outputs": [
    {
     "name": "stdout",
     "output_type": "stream",
     "text": [
      "1 2 3 4 5 6 7 8 9 153 370 371 407 "
     ]
    }
   ],
   "source": [
    "# 3. Print All Armstrong Numbers in a Range\n",
    "# Problem: Print all Armstrong numbers between m and n.\n",
    "# Input: m = 1, n = 500\n",
    "# Output: 1 153 370 371 407\n",
    "m = 1\n",
    "n = 500\n",
    "\n",
    "for i in range(m, n + 1):\n",
    "    count = 0\n",
    "    res = 0\n",
    "    a = i\n",
    "    while a > 0:\n",
    "        count += 1\n",
    "        a //= 10\n",
    "    b = i\n",
    "    while b > 0:\n",
    "        r = b % 10\n",
    "        res += r ** count\n",
    "        b //= 10\n",
    "    if   res == i:\n",
    "        print(i,end=\" \")"
   ]
  },
  {
   "cell_type": "code",
   "execution_count": 94,
   "id": "5e342e62",
   "metadata": {},
   "outputs": [
    {
     "name": "stdout",
     "output_type": "stream",
     "text": [
      "11\n"
     ]
    }
   ],
   "source": [
    "# Problem: Find the first prime number in the given range.\n",
    "# Input: m = 10, n = 25\n",
    "# Output: 11\n",
    "def prime(n):\n",
    "    if n < 2:\n",
    "        return False\n",
    "    for i in range(2, n):  \n",
    "        if n % i == 0:\n",
    "            return False\n",
    "    return True\n",
    "m = 10\n",
    "n = 25\n",
    "\n",
    "\n",
    "for i in range(m, n + 1):\n",
    "    if prime(i):\n",
    "        print(i)\n",
    "        break"
   ]
  },
  {
   "cell_type": "code",
   "execution_count": 95,
   "id": "776faf04",
   "metadata": {},
   "outputs": [
    {
     "name": "stdout",
     "output_type": "stream",
     "text": [
      "23\n"
     ]
    }
   ],
   "source": [
    "# 5. Last Prime Number from m to n\n",
    "# Problem: Find the last prime number in the given range.\n",
    "# Input: m = 10, n = 25\n",
    "# Output: 23\n",
    "def prime(n):\n",
    "    if n < 2:\n",
    "        return False\n",
    "    for i in range(2, n):  \n",
    "        if n % i == 0:\n",
    "            return False\n",
    "    return True\n",
    "m = 10\n",
    "n = 25\n",
    "last=None\n",
    "\n",
    "for i in range(m, n + 1):\n",
    "    if prime(i):\n",
    "        last=i\n",
    "print(last)\n"
   ]
  },
  {
   "cell_type": "code",
   "execution_count": 96,
   "id": "65781cf3",
   "metadata": {},
   "outputs": [
    {
     "name": "stdout",
     "output_type": "stream",
     "text": [
      "i\n"
     ]
    }
   ],
   "source": [
    "# 6. First Vowel in a Name\n",
    "# Problem: Given a string, find the first vowel in the string.\n",
    "# Input: name = \"Krishna\"\n",
    "# Output: i\n",
    "name=\"krishna\"\n",
    "vowel=\"aeiou\"\n",
    "for i in name:\n",
    "    if i in vowel:\n",
    "        print(i)\n",
    "        break"
   ]
  },
  {
   "cell_type": "code",
   "execution_count": 97,
   "id": "d744e2d8",
   "metadata": {},
   "outputs": [
    {
     "name": "stdout",
     "output_type": "stream",
     "text": [
      "a\n"
     ]
    }
   ],
   "source": [
    "#  Last Vowel in a Name\n",
    "# Problem: Given a string, find the last vowel in the string.\n",
    "# Input: name = \"Ramakrishna\"\n",
    "# Output: a\n",
    "name=\"Ramakrishna\"\n",
    "vowel=\"aeiou\"\n",
    "last=\"\"\n",
    "for i in name:\n",
    "    if i in vowel:\n",
    "        last=i\n",
    "print(last)"
   ]
  },
  {
   "cell_type": "code",
   "execution_count": 99,
   "id": "448377c9",
   "metadata": {},
   "outputs": [
    {
     "name": "stdout",
     "output_type": "stream",
     "text": [
      "2 4 6 8 10 "
     ]
    }
   ],
   "source": [
    "# Print All Even Numbers Using Continue\n",
    "# Problem: Use continue statement to skip odd numbers and print only even numbers between 1 and n.\n",
    "# Input: n = 10\n",
    "n=10\n",
    "for i in range(1,n+1):\n",
    "    if i %2!=0:\n",
    "        continue\n",
    "    print(i,end=\" \")"
   ]
  },
  {
   "cell_type": "code",
   "execution_count": 100,
   "id": "b9ed3b1e",
   "metadata": {},
   "outputs": [
    {
     "name": "stdout",
     "output_type": "stream",
     "text": [
      "1 3 5 7 9 "
     ]
    }
   ],
   "source": [
    "# 9. Print All Odd Numbers Using Continue\n",
    "# Problem: Use continue statement to skip even numbers and print only odd numbers.\n",
    "# Input: n = 10\n",
    "n=10\n",
    "for i in range(1, n+1):\n",
    "    if i%2==0:\n",
    "        continue\n",
    "    print(i,end=\" \")\n",
    "    "
   ]
  },
  {
   "cell_type": "code",
   "execution_count": 108,
   "id": "71bcf82e",
   "metadata": {},
   "outputs": [
    {
     "name": "stdout",
     "output_type": "stream",
     "text": [
      "4 4\n"
     ]
    }
   ],
   "source": [
    "# 10. Count of Prime and Composite Numbers from m to n\n",
    "# Problem: Count how many are prime and how many are composite numbers in range m to n.\n",
    "# Input: m = 1, n = 10\n",
    "# Output: Prime: 4, Composite: 4\n",
    "m=1\n",
    "n=10\n",
    "prime=0\n",
    "compos=0\n",
    "for i in range(m,n):\n",
    "    if i<=1:\n",
    "        continue\n",
    "    for j in range(2,i):\n",
    "        if i%j==0:\n",
    "            compos+=1\n",
    "            break\n",
    "    else:\n",
    "        prime+=1\n",
    "print(prime,compos)"
   ]
  },
  {
   "cell_type": "code",
   "execution_count": 117,
   "id": "409137f1",
   "metadata": {},
   "outputs": [
    {
     "name": "stdout",
     "output_type": "stream",
     "text": [
      "30\n"
     ]
    }
   ],
   "source": [
    "# 1. Add Two Numbers Using Function\n",
    "# Problem: Write a function that takes two numbers as arguments and returns their sum.\n",
    "def sum(a,b):\n",
    "    return a+b\n",
    "a=10\n",
    "b=20\n",
    "print(sum(a,b))"
   ]
  },
  {
   "cell_type": "code",
   "execution_count": 118,
   "id": "f240706f",
   "metadata": {},
   "outputs": [
    {
     "name": "stdout",
     "output_type": "stream",
     "text": [
      "odd\n"
     ]
    }
   ],
   "source": [
    "# 2. Check Even or Odd Using Function\n",
    "# Problem: Write a function that determines whether a number is even or odd.\n",
    "def check(n):\n",
    "    if n%2==0:\n",
    "        print(\"even\")\n",
    "    else:\n",
    "        print(\"odd\")\n",
    "n=15\n",
    "check(n)"
   ]
  },
  {
   "cell_type": "code",
   "execution_count": 121,
   "id": "cc2d6d12",
   "metadata": {},
   "outputs": [
    {
     "name": "stdout",
     "output_type": "stream",
     "text": [
      "2020 is leap year\n"
     ]
    }
   ],
   "source": [
    "# 3. Check Leap Year Using Function\n",
    "# Problem: Write a function that checks if a given year is a leap year.\n",
    "# Explanation: A leap year is divisible by 4 but not by 100 unless also divisible by 400.\n",
    "def leap(n):\n",
    "    if (n%4==0 and n%100!=0) or n%400==0:\n",
    "        print(f\"{n} is leap year\")\n",
    "    else:\n",
    "        print(\"not leap year\")\n",
    "n=2020\n",
    "leap(n)"
   ]
  },
  {
   "cell_type": "code",
   "execution_count": 127,
   "id": "3527d2b9",
   "metadata": {},
   "outputs": [
    {
     "name": "stdout",
     "output_type": "stream",
     "text": [
      "13 is prime\n"
     ]
    }
   ],
   "source": [
    "# 4. Check Prime Number Using Function\n",
    "# Problem: Write a function that checks whether a given number is prime.\n",
    "def prime():\n",
    "    if n<2:\n",
    "        return False\n",
    "    for i in range(2,n):\n",
    "        if n%i==0:\n",
    "            return False\n",
    "    return True\n",
    "n=13\n",
    "if prime():\n",
    "    print(f\"{n} is prime\")\n",
    "else:\n",
    "    print(f\"{n} is not prime\")\n"
   ]
  },
  {
   "cell_type": "code",
   "execution_count": 131,
   "id": "b022db50",
   "metadata": {},
   "outputs": [
    {
     "name": "stdout",
     "output_type": "stream",
     "text": [
      "153 370 371 407 "
     ]
    }
   ],
   "source": [
    "# 5. Print Armstrong Numbers from m to n Using Function\n",
    "# Problem: Write a function that prints all Armstrong numbers in a given range from m to n.\n",
    "def amstrong(n):\n",
    "    count = 0\n",
    "    res = 0\n",
    "    a = n\n",
    "    while a > 0:\n",
    "        count += 1\n",
    "        a //= 10\n",
    "    b = n\n",
    "    while b > 0:\n",
    "        r = b % 10\n",
    "        res += r ** count\n",
    "        b //= 10\n",
    "    if   res ==n :\n",
    "        return True\n",
    "    else:\n",
    "        return False\n",
    "m = 100\n",
    "n = 500\n",
    "for i in range(m, n + 1):\n",
    "    if amstrong(i):\n",
    "        print(i,end=\" \")"
   ]
  },
  {
   "cell_type": "code",
   "execution_count": 132,
   "id": "711f8589",
   "metadata": {},
   "outputs": [
    {
     "name": "stdout",
     "output_type": "stream",
     "text": [
      "120\n"
     ]
    }
   ],
   "source": [
    "# 🔁 Recursion-Based Problems\n",
    "# 6. Factorial Using Recursion\n",
    "# Problem: Write a recursive function to calculate the factorial of a number.\n",
    "def fact(n):\n",
    "    if n==1:\n",
    "        return n\n",
    "    return n*fact(n-1)\n",
    "n=5\n",
    "print(fact(n))"
   ]
  },
  {
   "cell_type": "code",
   "execution_count": 134,
   "id": "afea93f4",
   "metadata": {},
   "outputs": [
    {
     "name": "stdout",
     "output_type": "stream",
     "text": [
      "0 1 1 2 3 "
     ]
    }
   ],
   "source": [
    "# 7. Fibonacci Series Using Recursion\n",
    "# Problem: Print the Fibonacci series up to n terms using recursion.\n",
    "# Explanation: fibonacci(n) = fibonacci(n-1) + fibonacci(n-2) with base cases fibonacci(0)=0, fibonacci(1)=1.\n",
    "def fibonaci(n):\n",
    "    if n==1 or n==0:\n",
    "        return n\n",
    "    return fibonaci(n-1)+fibonaci(n-2)\n",
    "n=5\n",
    "for i in range(n):\n",
    "    print(fibonaci(i),end=\" \")"
   ]
  },
  {
   "cell_type": "code",
   "execution_count": 135,
   "id": "90456a37",
   "metadata": {},
   "outputs": [
    {
     "name": "stdout",
     "output_type": "stream",
     "text": [
      "6\n"
     ]
    }
   ],
   "source": [
    "# 8. Sum of Digits Using Recursion\n",
    "# Problem: Write a recursive function to find the sum of digits of a number.\n",
    "def sum(n):\n",
    "    if n==0:\n",
    "        return n\n",
    "    return n%10+sum(n//10)\n",
    "n=123\n",
    "print(sum(n))"
   ]
  },
  {
   "cell_type": "code",
   "execution_count": null,
   "id": "a86d2ca8",
   "metadata": {},
   "outputs": [
    {
     "name": "stdout",
     "output_type": "stream",
     "text": [
      "321\n"
     ]
    }
   ],
   "source": [
    "# 9. Reverse a Number Using Recursion\n",
    "# Problem: Write a recursive function to reverse the digits of a number.\n",
    "# Explanation: Keep multiplying result by 10 and adding the current digit.\n",
    "def reverse(n,rev=0):\n",
    "    if n==0:\n",
    "        return rev\n",
    "    return reverse(n//10,rev*10+n%10)\n",
    "n=123\n",
    "print(reverse(n))"
   ]
  },
  {
   "cell_type": "code",
   "execution_count": 139,
   "id": "afc83ae3",
   "metadata": {},
   "outputs": [
    {
     "name": "stdout",
     "output_type": "stream",
     "text": [
      "madam is palimdrome\n"
     ]
    }
   ],
   "source": [
    "# 10. Check Palindrome Using Recursion\n",
    "# Problem: Write a recursive function to check if a string is a palindrome.\n",
    "# Explanation: Compare first and last characters and recurse on the substring.\n",
    "def palim(s,p1,p2):\n",
    "    if p2<p1:\n",
    "        return f\"{s} is palimdrome\"\n",
    "    if s[p1]==s[p2]:\n",
    "        return palim(s,p1+1,p2-1)\n",
    "    return \"not palimdrome\"\n",
    "s=\"madam\"\n",
    "p1=0\n",
    "p2=len(s)-1\n",
    "print(palim(s,p1,p2))"
   ]
  },
  {
   "cell_type": "code",
   "execution_count": 154,
   "id": "03c75141",
   "metadata": {},
   "outputs": [
    {
     "name": "stdout",
     "output_type": "stream",
     "text": [
      "helloworld"
     ]
    }
   ],
   "source": [
    "# 1. Remove Spaces from Given Text\n",
    "# Problem: Write a function to remove all spaces from the input string. Explanation: Remove any whitespace characters. Input: \"he llo wor ld\"\n",
    "def space(n):   \n",
    "    for i in n:\n",
    "        if i!=\" \":\n",
    "            print(i,end=\"\")\n",
    "n=\"he llo wor ld\"\n",
    "space(n)\n"
   ]
  },
  {
   "cell_type": "code",
   "execution_count": 156,
   "id": "4b486ce7",
   "metadata": {},
   "outputs": [
    {
     "name": "stdout",
     "output_type": "stream",
     "text": [
      "olleh"
     ]
    }
   ],
   "source": [
    "# 2. Reverse a String\n",
    "# Problem: Write a function to reverse the characters in a string. Input: \"hello\" Output: \"olleh\"\n",
    "def reverse(n):\n",
    "    for i in range(len(n)-1,-1,-1):\n",
    "        print(n[i],end=\"\")\n",
    "ip=\"hello\"\n",
    "reverse(ip)\n"
   ]
  },
  {
   "cell_type": "code",
   "execution_count": 160,
   "id": "90e6a220",
   "metadata": {},
   "outputs": [
    {
     "name": "stdout",
     "output_type": "stream",
     "text": [
      "dlrowolleh\n"
     ]
    }
   ],
   "source": [
    "# 3. Reverse a String After Removing Spaces\n",
    "# Problem: Write a function to reverse a string after removing all spaces. Input: \"he llo world\" Output: \"dlrowolleh\"\n",
    "def reverse(n,m):\n",
    "    for i in n:\n",
    "        if i!=\" \":\n",
    "            m+=i\n",
    "    return (m[::-1])\n",
    "\n",
    "m=\"\"           \n",
    "n=\"he llo world\"\n",
    "print(reverse(n,m))\n",
    "            "
   ]
  },
  {
   "cell_type": "code",
   "execution_count": 174,
   "id": "8459f26e",
   "metadata": {},
   "outputs": [
    {
     "name": "stdout",
     "output_type": "stream",
     "text": [
      "myVaribleName\n"
     ]
    }
   ],
   "source": [
    "# 4. Convert Snake Case to Camel Case\n",
    "# Problem: Convert a string from snake_case to camelCase. Input: \"my_variable_name\" Output: \"myVariableName\"\n",
    "n=\"my_varible_name\"\n",
    "i=0\n",
    "res=\"\"\n",
    "while i<len(n):\n",
    "    if n[i]==\"_\":\n",
    "       \n",
    "        res+=\"\"\n",
    "        \n",
    "        if n[i]==\"_\":\n",
    "            i+=1\n",
    "            res+=chr(ord(n[i])-32)\n",
    "            i+=1\n",
    "        \n",
    "    else:\n",
    "        res+=n[i]\n",
    "        i+=1\n",
    "print(res) \n"
   ]
  },
  {
   "cell_type": "code",
   "execution_count": 176,
   "id": "a0dddb77",
   "metadata": {},
   "outputs": [
    {
     "name": "stdout",
     "output_type": "stream",
     "text": [
      "MyVaribleName\n"
     ]
    }
   ],
   "source": [
    "# 5. Convert Snake Case to Pascal Case\n",
    "# Problem: Convert a string from snake_case to PascalCase. Input: \"my_variable_name\" Output: \"MyVariableName\"\n",
    "n=\"my_varible_name\"\n",
    "i=1\n",
    "res=chr(ord(n[0])-32)\n",
    "while i<len(n):\n",
    "    if n[i]==\"_\":\n",
    "        res+=\"\"\n",
    "        if n[i]==\"_\":\n",
    "            i+=1\n",
    "            res+=chr(ord(n[i])-32)\n",
    "            i+=1\n",
    "    else:\n",
    "        res+=n[i]\n",
    "        i+=1\n",
    "print(res)"
   ]
  },
  {
   "cell_type": "code",
   "execution_count": 185,
   "id": "2af425b0",
   "metadata": {},
   "outputs": [
    {
     "name": "stdout",
     "output_type": "stream",
     "text": [
      "my_variable_name\n"
     ]
    }
   ],
   "source": [
    "# 6. Convert Camel Case to Snake Case\n",
    "# Problem: Convert a string from camelCase to snake_case. Input: \"myVariableName\" Output: \"my_variable_name\"\n",
    "n=\"myVariableName\"\n",
    "res=n[0]\n",
    "i=1\n",
    "while i<len(n):\n",
    "    if 65<=ord(n[i])<=90:\n",
    "        res+=\"_\"+chr(ord(n[i])+32)\n",
    "        i+=1\n",
    "    else:\n",
    "        res+=n[i]\n",
    "        i+=1\n",
    "print(res)\n",
    "    "
   ]
  },
  {
   "cell_type": "code",
   "execution_count": 178,
   "id": "c3562f8f",
   "metadata": {},
   "outputs": [
    {
     "name": "stdout",
     "output_type": "stream",
     "text": [
      "MyVariable\n"
     ]
    }
   ],
   "source": [
    "# 7. Convert Camel Case to Pascal Case\n",
    "# Problem: Convert a string from camelCase to PascalCase. Input: \"myVariable\" Output: \"MyVariable\"\n",
    "def pascal(n):\n",
    "    res=chr(ord(n[0])-32)\n",
    "    for i in range(1,len(n)):\n",
    "        res+=n[i]\n",
    "    return res\n",
    "n=\"myVariable\"\n",
    "print(pascal(n))\n"
   ]
  },
  {
   "cell_type": "code",
   "execution_count": 179,
   "id": "607e6e96",
   "metadata": {},
   "outputs": [
    {
     "name": "stdout",
     "output_type": "stream",
     "text": [
      "myVariable\n"
     ]
    }
   ],
   "source": [
    "# 8. Convert Pascal Case to Camel Case\n",
    "# Problem: Convert a string from PascalCase to camelCase. Input: \"MyVariable\" Output: \"myVariable\"\n",
    "def pascal(n):\n",
    "    res=chr(ord(n[0])+32)\n",
    "    for i in range(1,len(n)):\n",
    "        res+=n[i]\n",
    "    return res\n",
    "n=\"MyVariable\"\n",
    "print(pascal(n))"
   ]
  },
  {
   "cell_type": "code",
   "execution_count": 186,
   "id": "34b27073",
   "metadata": {},
   "outputs": [
    {
     "name": "stdout",
     "output_type": "stream",
     "text": [
      "my_variable\n"
     ]
    }
   ],
   "source": [
    "# 9. Convert Pascal Case to Snake Case\n",
    "# Problem: Convert a string from PascalCase to snake_case. Input: \"MyVariable\" Output: \"my_variable\"\n",
    "def snake(n):\n",
    "    res=chr(ord(n[0])+32)\n",
    "    i=1\n",
    "    while i<len(n):\n",
    "        if 65<=ord(n[i])<=90:\n",
    "            res+=\"_\"+chr(ord(n[i])+32)\n",
    "            i+=1\n",
    "        else:\n",
    "            res+=n[i]\n",
    "            i+=1\n",
    "    return res\n",
    "n=\"MyVariable\"\n",
    "print(snake(n))\n",
    "\n"
   ]
  },
  {
   "cell_type": "code",
   "execution_count": 191,
   "id": "1f60d836",
   "metadata": {},
   "outputs": [
    {
     "name": "stdout",
     "output_type": "stream",
     "text": [
      "helloWorldExample\n"
     ]
    }
   ],
   "source": [
    "# 10. Convert Text to Camel Case\n",
    "# Problem: Convert a space-separated sentence into camelCase. Input: \"hello world example\" Output: \"helloWorldExample\"\n",
    "def camel(n):\n",
    "    res=\"\"\n",
    "    i=0\n",
    "    while i<len(n):\n",
    "        if n[i]==\" \":\n",
    "            i+=1\n",
    "            res+=chr(ord(n[i])-32)\n",
    "            i+=1\n",
    "        else:\n",
    "            res+=n[i]\n",
    "            i+=1\n",
    "    return res\n",
    "n=\"hello world example\"\n",
    "print(camel(n))"
   ]
  },
  {
   "cell_type": "code",
   "execution_count": 192,
   "id": "92cb6329",
   "metadata": {},
   "outputs": [
    {
     "name": "stdout",
     "output_type": "stream",
     "text": [
      "hello_world_example\n"
     ]
    }
   ],
   "source": [
    "# 11. Convert Text to Snake Case\n",
    "# Problem: Convert a space-separated sentence into snake_case. Input: \"hello world example\" Output: \"hello_world_example\"\n",
    "def snake(n):\n",
    "    res=\"\"\n",
    "    i=0\n",
    "    while i<len(n):\n",
    "        if n[i]==\" \":\n",
    "            \n",
    "            res+=\"_\"\n",
    "            i+=1\n",
    "        else:\n",
    "            res+=n[i]\n",
    "            i+=1\n",
    "    return res\n",
    "n=\"hello world example\"\n",
    "print(snake(n))"
   ]
  },
  {
   "cell_type": "code",
   "execution_count": 193,
   "id": "a79a693c",
   "metadata": {},
   "outputs": [
    {
     "name": "stdout",
     "output_type": "stream",
     "text": [
      "HelloWorldExample\n"
     ]
    }
   ],
   "source": [
    "# 12. Convert Text to Pascal Case\n",
    "# Problem: Convert a space-separated sentence into PascalCase. Input: \"hello world example\" Output: \"HelloWorldExample\"\n",
    "def pascal(n):\n",
    "    res=chr(ord(n[0])-32)\n",
    "    i=1\n",
    "    while i<len(n):\n",
    "        if n[i]==\" \":\n",
    "            i+=1\n",
    "            res+=chr(ord(n[i])-32)\n",
    "            i+=1\n",
    "        else:\n",
    "            res+=n[i]\n",
    "            i+=1\n",
    "    return res\n",
    "n=\"hello world example\"\n",
    "print(pascal(n))"
   ]
  },
  {
   "cell_type": "code",
   "execution_count": 194,
   "id": "f472223a",
   "metadata": {},
   "outputs": [
    {
     "name": "stdout",
     "output_type": "stream",
     "text": [
      "hELLO\n"
     ]
    }
   ],
   "source": [
    "# 13. Swap Upper and Lower Case\n",
    "# Problem: Swap the case of each letter in a given string. Input: \"HeLLo\" Output: \"hEllO\"\n",
    "def swap(n):\n",
    "    res=\"\"\n",
    "    for i in range(len(n)):\n",
    "        if 65<=ord(n[i])<=90:\n",
    "            res+=chr(ord(n[i])+32)\n",
    "        else:\n",
    "            res+=chr(ord(n[i])-32)\n",
    "    return res\n",
    "n=\"Hello\"\n",
    "print(swap(n))"
   ]
  },
  {
   "cell_type": "code",
   "execution_count": 196,
   "id": "60898672",
   "metadata": {},
   "outputs": [
    {
     "name": "stdout",
     "output_type": "stream",
     "text": [
      "1234\n"
     ]
    }
   ],
   "source": [
    "# 14. Separate Digits from Text\n",
    "# Problem: Extract all digits from a given alphanumeric string. Input: \"abc123d4\" Output: \"1234\"\n",
    "def digit(n):\n",
    "    res=\"\"\n",
    "    for i in range(len(n)):\n",
    "        if 48<=ord(n[i])<=57:\n",
    "            res+=n[i]\n",
    "    return res\n",
    "n=\"abc123d4\"\n",
    "print(digit(n))\n",
    "    \n"
   ]
  },
  {
   "cell_type": "code",
   "execution_count": null,
   "id": "e4e24e4f",
   "metadata": {},
   "outputs": [
    {
     "name": "stdout",
     "output_type": "stream",
     "text": [
      "upper:A lower:bc digit:123 special:!@#\n"
     ]
    }
   ],
   "source": [
    "# 15. Print Uppercase, Lowercase, Digits, and Special Characters Separately\n",
    "# Problem: Print each type of character separately from the string. Input: \"Abc123!@#\" \n",
    "\n",
    "    upper=\"\"\n",
    "    lower=\"\"\n",
    "    digit=\"\"\n",
    "    special=\"\"\n",
    "    for i in range(len(n)):\n",
    "        if 65<=ord(n[i])<=90:\n",
    "            upper+=n[i]\n",
    "        elif 97<=ord(n[i])<=122:\n",
    "            lower+=n[i]\n",
    "        elif 48<=ord(n[i])<=57:\n",
    "            digit+=n[i]\n",
    "        else:\n",
    "            special+=n[i]\n",
    "    print(f\"upper:{upper} lower:{lower} digit:{digit} special:{special}\")\n",
    "n=\"Abc123!@#\"\n",
    "separate(n)"
   ]
  },
  {
   "cell_type": "code",
   "execution_count": null,
   "id": "47531fba",
   "metadata": {},
   "outputs": [
    {
     "name": "stdout",
     "output_type": "stream",
     "text": [
      "upper:2 lower:2 digit:3 special:2\n"
     ]
    }
   ],
   "source": [
    "# 16. Count of Uppercase, Lowercase, Digits, and Special Characters\n",
    "# Problem: Count each type of character in a string. Input: \"AbC@123x!\" \n",
    "def separate(n):\n",
    "    upper=0\n",
    "    lower=0\n",
    "    digit=0\n",
    "    special=0\n",
    "    for i in range(len(n)):\n",
    "        if 65<=ord(n[i])<=90:\n",
    "            upper+=1\n",
    "        elif 97<=ord(n[i])<=122:\n",
    "            lower+=1\n",
    "        elif 48<=ord(n[i])<=57:\n",
    "            digit+=1\n",
    "        else:\n",
    "            special+=1\n",
    "    print(f\"upper:{upper} lower:{lower} digit:{digit} special:{special}\")\n",
    "n=\"AbC@123x!\"\n",
    "separate(n)"
   ]
  },
  {
   "cell_type": "code",
   "execution_count": 205,
   "id": "925a0b54",
   "metadata": {},
   "outputs": [
    {
     "name": "stdout",
     "output_type": "stream",
     "text": [
      "strong password\n"
     ]
    }
   ],
   "source": [
    "# 17. Check Password Strength\n",
    "# Problem: Check if a password contains at least one uppercase, one lowercase, one digit, and one special character. Input: \"Pass123!\" Output: \"Strong Password\"\n",
    "def password(n):\n",
    "    upper=False\n",
    "    lower=False\n",
    "    digit=False\n",
    "    special=False\n",
    "    for i in range(len(n)):\n",
    "        if n[i].isupper():\n",
    "            upper=True\n",
    "        elif n[i].islower():\n",
    "            lower=True\n",
    "        elif n[i].isdigit():\n",
    "            digit=True\n",
    "        else:\n",
    "            special=True\n",
    "    return upper and lower and digit and special\n",
    "n=\"Pass123!\" \n",
    "if password(n):\n",
    "    print(\"strong password\")\n",
    "else:\n",
    "    print(\"weak passwork\")"
   ]
  },
  {
   "cell_type": "code",
   "execution_count": null,
   "id": "dba00c70",
   "metadata": {},
   "outputs": [
    {
     "name": "stdout",
     "output_type": "stream",
     "text": [
      "abc\n"
     ]
    }
   ],
   "source": [
    "# 18. Remove Duplicates in a Given Input\n",
    "# Problem: Remove duplicate characters from a string. Input: \"aabbcc\" Output: \"abc\"\n",
    "def duplicate(n):\n",
    "    res=\"\"\n",
    "    for i in n:\n",
    "        if i not in res :\n",
    "            res+=i\n",
    "    return res\n",
    "n=\"aabbcc\" \n",
    "print(duplicate(n))"
   ]
  },
  {
   "cell_type": "code",
   "execution_count": 208,
   "id": "021b2a55",
   "metadata": {},
   "outputs": [
    {
     "name": "stdout",
     "output_type": "stream",
     "text": [
      "a b c "
     ]
    }
   ],
   "source": [
    "# 19. Print Duplicates in a Given String\n",
    "# Problem: Identify and print duplicate characters in a string. Input: \"aabbccde\" Output: a b c\n",
    "def duplicate(n):\n",
    "    res=\"\"\n",
    "    for i in n:\n",
    "        if i not in res :\n",
    "            res+=i\n",
    "        else:\n",
    "            print(i,end=\" \")\n",
    "n=\"aabbcc\" \n",
    "(duplicate(n))"
   ]
  },
  {
   "cell_type": "code",
   "execution_count": 211,
   "id": "fade059c",
   "metadata": {},
   "outputs": [
    {
     "name": "stdout",
     "output_type": "stream",
     "text": [
      "b c d "
     ]
    }
   ],
   "source": [
    "# 20. Print Next Characters in a Given String\n",
    "# Problem: Replace each character in the string with its next character. Input: \"abc\" Output: \"bcd\"\n",
    "def next(n):\n",
    "    for i in range(len(n)):\n",
    "        print(chr(ord(n[i])+1),end=\" \")\n",
    "n=\"abc\"\n",
    "next(n)"
   ]
  },
  {
   "cell_type": "code",
   "execution_count": 212,
   "id": "1ed44343",
   "metadata": {},
   "outputs": [
    {
     "name": "stdout",
     "output_type": "stream",
     "text": [
      "[1, 2, 3, 4]\n"
     ]
    }
   ],
   "source": [
    "# List-Based Interview Questions – Logic & Practice\n",
    "# 1. Add an Element to a List\n",
    "# Problem: Write a function to add an element to a list. Explanation: Use append() to add the element to the end. Input: [1, 2, 3], add 4 \n",
    "def add(n,m):\n",
    "    n.append(m)\n",
    "    return n\n",
    "n=[1,2,3]\n",
    "m=4\n",
    "print(add(n,m))\n"
   ]
  },
  {
   "cell_type": "code",
   "execution_count": 213,
   "id": "c2648e8b",
   "metadata": {},
   "outputs": [
    {
     "name": "stdout",
     "output_type": "stream",
     "text": [
      "[1, 2, 4]\n"
     ]
    }
   ],
   "source": [
    "# 2. Remove an Element from a List\n",
    "# Problem: Write a function to remove a specific element from a list. Explanation: Use remove() or pop() if index is known. Input: [1, 2, 3, 4], remove 3 Output: [1, 2, 4]\n",
    "def remove(n):\n",
    "    n.remove(3)\n",
    "    return n\n",
    "n=[1,2,3,4]\n",
    "print(remove(n))"
   ]
  },
  {
   "cell_type": "code",
   "execution_count": 214,
   "id": "0eb230bc",
   "metadata": {},
   "outputs": [
    {
     "name": "stdout",
     "output_type": "stream",
     "text": [
      "9\n"
     ]
    }
   ],
   "source": [
    "# 3. Find Maximum in List\n",
    "# Problem: Find the maximum value in a list. Explanation: Use max() or iterate manually. Input: [4, 7, 1, 9] Output: 9\n",
    "def maximum(n):\n",
    "    max=n[0]\n",
    "    for i in n:\n",
    "        if i>max:\n",
    "            max=i\n",
    "    return max\n",
    "n=[4,7,1,9]\n",
    "print(maximum(n))"
   ]
  },
  {
   "cell_type": "code",
   "execution_count": 215,
   "id": "3bf703cc",
   "metadata": {},
   "outputs": [
    {
     "name": "stdout",
     "output_type": "stream",
     "text": [
      "1\n"
     ]
    }
   ],
   "source": [
    "# 4. Find Minimum in List\n",
    "# Problem: Find the minimum value in a list. Explanation: Use min() or iterate manually. Input: [4, 7, 1, 9] Output: 1\n",
    "def minimum(n):\n",
    "    max=n[0]\n",
    "    for i in n:\n",
    "        if i<max:\n",
    "            max=i\n",
    "    return max\n",
    "n=[4,7,1,9]\n",
    "print(minimum(n))"
   ]
  },
  {
   "cell_type": "code",
   "execution_count": 216,
   "id": "5d761bd3",
   "metadata": {},
   "outputs": [
    {
     "name": "stdout",
     "output_type": "stream",
     "text": [
      "6\n"
     ]
    }
   ],
   "source": [
    "# 5. Sum of All Elements in List\n",
    "# Problem: Write a function to find the sum of all list elements. Explanation: Use sum() or loop to add all items. Input: [1, 2, 3] Output: 6\n",
    "def sum(n):\n",
    "    res=0\n",
    "    for i in n:\n",
    "        res+=i\n",
    "    return res\n",
    "n= [1, 2, 3]\n",
    "print(sum(n))"
   ]
  },
  {
   "cell_type": "code",
   "execution_count": 217,
   "id": "bd6512e5",
   "metadata": {},
   "outputs": [
    {
     "name": "stdout",
     "output_type": "stream",
     "text": [
      "3\n"
     ]
    }
   ],
   "source": [
    "# 6. Count Occurrence of an Element\n",
    "# Problem: Count how many times a value appears in a list. Explanation: Use count() method. Input: [1, 2, 2, 3, 2], value 2 Output: 3\n",
    "def count(n):\n",
    "    cnt=0\n",
    "    var=2\n",
    "    for i in n:\n",
    "        if i==var:\n",
    "            cnt+=1\n",
    "    return cnt\n",
    "n=[1,2,2,3,2]\n",
    "print(count(n))"
   ]
  },
  {
   "cell_type": "code",
   "execution_count": 222,
   "id": "5412592c",
   "metadata": {},
   "outputs": [
    {
     "name": "stdout",
     "output_type": "stream",
     "text": [
      "[3, 2, 1]\n"
     ]
    }
   ],
   "source": [
    "# 7. Reverse a List\n",
    "# Problem: Write a function to reverse the order of list elements. Explanation: Use slicing or reverse() method. Input: [1, 2, 3] Output: [3, 2, 1]\n",
    "def reverse(n):\n",
    "    return n[::-1]\n",
    "\n",
    "n=[1,2,3]\n",
    "print(reverse(n))"
   ]
  },
  {
   "cell_type": "code",
   "execution_count": 224,
   "id": "f869244d",
   "metadata": {},
   "outputs": [
    {
     "name": "stdout",
     "output_type": "stream",
     "text": [
      "[1, 2, 3, 4]\n"
     ]
    }
   ],
   "source": [
    "# 8. Sort a List\n",
    "# Problem: Write a function to sort a list in ascending order. Explanation: Use sort() or sorted(). Input: [4, 1, 3, 2] Output: [1, 2, 3, 4]\n",
    "def sort(n):\n",
    "    for i in range(len(n)):\n",
    "        for j in range(0,len(n)-i-1):\n",
    "            if n[j]>n[j+1]:\n",
    "                n[j],n[j+1]=n[j+1],n[j]\n",
    "    return n\n",
    "n= [4, 1, 3, 2]\n",
    "print(sort(n))"
   ]
  },
  {
   "cell_type": "code",
   "execution_count": 225,
   "id": "007904b6",
   "metadata": {},
   "outputs": [
    {
     "name": "stdout",
     "output_type": "stream",
     "text": [
      "[1, 2, 3]\n"
     ]
    }
   ],
   "source": [
    "# 9. Remove Duplicates from a List\n",
    "# Problem: Eliminate duplicate values. Explanation: Use set() or manual loop. Input: [1, 2, 2, 3] Output: [1, 2, 3]\n",
    "def duplicate(n):\n",
    "    res=[]\n",
    "    for i in n:\n",
    "        if i not in res:\n",
    "            res.append(i)\n",
    "    return res\n",
    "n=[1,2,2,3]\n",
    "print(duplicate(n))"
   ]
  },
  {
   "cell_type": "code",
   "execution_count": 226,
   "id": "457f55a6",
   "metadata": {},
   "outputs": [
    {
     "name": "stdout",
     "output_type": "stream",
     "text": [
      "[1, 2, 3, 4]\n"
     ]
    }
   ],
   "source": [
    "# 10. Merge Two Lists\n",
    "# Problem: Merge two lists into one. Explanation: Use + operator or extend(). Input: [1, 2], [3, 4] Output: [1, 2, 3, 4]\n",
    "def merge(n,m):\n",
    "    n.extend(m)\n",
    "    return n\n",
    "n=[1,2]\n",
    "m=[3,4]\n",
    "print(merge(n,m))\n"
   ]
  },
  {
   "cell_type": "code",
   "execution_count": 228,
   "id": "9b9a7d22",
   "metadata": {},
   "outputs": [
    {
     "name": "stdout",
     "output_type": "stream",
     "text": [
      "[2, 3]\n"
     ]
    }
   ],
   "source": [
    "# 11. Find Common Elements in Two Lists\n",
    "# Problem: Return common elements between two lists. Explanation: Use set() and & or loops. Input: [1, 2, 3], [2, 3, 4] Output: [2, 3]\n",
    "def common(n,m):\n",
    "    res=[]\n",
    "    for i in n:\n",
    "        for j in m:\n",
    "            if i==j:\n",
    "                res.append(i)\n",
    "    return res\n",
    "n=[1,2,3]\n",
    "m=[2,3,4]\n",
    "print(common(n,m))"
   ]
  },
  {
   "cell_type": "code",
   "execution_count": 230,
   "id": "6e547c9c",
   "metadata": {},
   "outputs": [
    {
     "name": "stdout",
     "output_type": "stream",
     "text": [
      "[2, 4]\n"
     ]
    }
   ],
   "source": [
    "# 12. Print Even Numbers in a List\n",
    "# Problem: Print only even numbers from a list. Explanation: Use modulo condition in a loop. Input: [1, 2, 3, 4] Output: [2, 4]\n",
    "def even(n):\n",
    "    res=[]\n",
    "    for i in n:\n",
    "        if i%2==0:\n",
    "            res.append(i)\n",
    "    return res\n",
    "n= [1, 2, 3, 4]\n",
    "print(even(n))"
   ]
  },
  {
   "cell_type": "code",
   "execution_count": 231,
   "id": "05602772",
   "metadata": {},
   "outputs": [
    {
     "name": "stdout",
     "output_type": "stream",
     "text": [
      "[1, 3]\n"
     ]
    }
   ],
   "source": [
    "# 13. Print Odd Numbers in a List\n",
    "# Problem: Print only odd numbers from a list. Input: [1, 2, 3, 4] Output: [1, 3]\n",
    "def odd(n):\n",
    "    res=[]\n",
    "    for i in n:\n",
    "        if i%2!=0:\n",
    "            res.append(i)\n",
    "    return res\n",
    "n= [1, 2, 3, 4]\n",
    "print(odd(n))"
   ]
  },
  {
   "cell_type": "code",
   "execution_count": 232,
   "id": "dffdf5f1",
   "metadata": {},
   "outputs": [
    {
     "name": "stdout",
     "output_type": "stream",
     "text": [
      "True\n"
     ]
    }
   ],
   "source": [
    "# 14. Check if List is Palindrome\n",
    "# Problem: Check if the list reads the same forwards and backwards. Input: [1, 2, 1] Output: True\n",
    "def palim(n):\n",
    "    return n==n[::-1]\n",
    "n=[1,2,1]\n",
    "print(palim(n))"
   ]
  },
  {
   "cell_type": "code",
   "execution_count": 233,
   "id": "c42f680b",
   "metadata": {},
   "outputs": [
    {
     "name": "stdout",
     "output_type": "stream",
     "text": [
      "positive:2 negative:2 zero:1\n"
     ]
    }
   ],
   "source": [
    "# 15. Count Positive, Negative, Zero\n",
    "# Problem: Count the number of positive, negative and zero values in a list. Input: [0, -1, 2, -3, 4] Output: Positive: 2, Negative: 2, Zero: 1\n",
    "def count(n):\n",
    "    positive=0\n",
    "    negative=0\n",
    "    zero=0\n",
    "    for i in n:\n",
    "        if i==0:\n",
    "            zero+=1\n",
    "        elif i<0:\n",
    "            negative+=1\n",
    "        else:\n",
    "            positive+=1\n",
    "    print(f\"positive:{positive} negative:{negative} zero:{zero}\")\n",
    "n= [0, -1, 2, -3, 4]\n",
    "count(n)\n"
   ]
  },
  {
   "cell_type": "code",
   "execution_count": 234,
   "id": "aa391ab8",
   "metadata": {},
   "outputs": [
    {
     "name": "stdout",
     "output_type": "stream",
     "text": [
      "4\n"
     ]
    }
   ],
   "source": [
    "# 16. Find Second Largest Number in List\n",
    "# Problem: Find the second highest value. Input: [1, 3, 4, 5, 0] Output: 4\n",
    "def second(n):\n",
    "    first=float(\"-inf\")\n",
    "    second=float(\"-inf\")\n",
    "    for i in n:\n",
    "        if i>first:\n",
    "            second=first\n",
    "            first=i\n",
    "        if second<i and i<first:\n",
    "            second=i\n",
    "    return second\n",
    "n=[1,3,4,5,0]\n",
    "print(second(n))"
   ]
  },
  {
   "cell_type": "code",
   "execution_count": 235,
   "id": "8683d56e",
   "metadata": {},
   "outputs": [
    {
     "name": "stdout",
     "output_type": "stream",
     "text": [
      "1\n"
     ]
    }
   ],
   "source": [
    "# 17. Find Second Smallest Number in List\n",
    "# Problem: Find the second lowest value. Input: [5, 1, 4, 2, 3] Output: 2\n",
    "def second(n):\n",
    "    first=float(\"inf\")\n",
    "    second=float(\"inf\")\n",
    "    for i in n:\n",
    "        if i<first:\n",
    "            second=first\n",
    "            first=i\n",
    "        if second>i and i>first:\n",
    "            second=i\n",
    "    return second\n",
    "n=[1,3,4,5,0]\n",
    "print(second(n))"
   ]
  },
  {
   "cell_type": "code",
   "execution_count": null,
   "id": "46e8f30e",
   "metadata": {},
   "outputs": [
    {
     "name": "stdout",
     "output_type": "stream",
     "text": [
      "[1, 2, 3]\n"
     ]
    }
   ],
   "source": [
    "# 18. Copy List to Another List\n",
    "# Problem: Copy the contents of one list to another. Explanation: Use slicing or copy(). Input: [1, 2, 3] Output: [1, 2, 3]\n",
    "def copy(n,m):\n",
    "    m=n[::]\n",
    "    return m\n",
    "n=[1,2,3]\n",
    "m=[]\n",
    "print(copy(n,m))\n",
    "\n"
   ]
  },
  {
   "cell_type": "code",
   "execution_count": 239,
   "id": "939e1545",
   "metadata": {},
   "outputs": [
    {
     "name": "stdout",
     "output_type": "stream",
     "text": [
      "[2, 3, 5]\n"
     ]
    }
   ],
   "source": [
    "# 19. Print All Prime Numbers in List\n",
    "# Problem: Print all prime numbers from a list. Input: [1, 2, 3, 4, 5] Output: [2, 3, 5]\n",
    "def prime(n):\n",
    "    if n<2:\n",
    "        return False\n",
    "    for j in range(2,n):\n",
    "        if n%j==0:\n",
    "            return False\n",
    "    return True\n",
    "n=[1,2,3,4,5]\n",
    "res=[]\n",
    "for i in n:\n",
    "    if prime(i):\n",
    "        res.append(i)\n",
    "print(res)\n",
    "        \n"
   ]
  },
  {
   "cell_type": "code",
   "execution_count": 240,
   "id": "8c187ef9",
   "metadata": {},
   "outputs": [
    {
     "name": "stdout",
     "output_type": "stream",
     "text": [
      "[-1, 2, -1, 4]\n"
     ]
    }
   ],
   "source": [
    "# 20. Replace All Zeroes with a Given Number\n",
    "# Problem: Replace every zero with a specific value (e.g., -1). Input: [0, 2, 0, 4], replace with -1 Output: [-1, 2, -1, 4]\n",
    "def replace(n):\n",
    "    \n",
    "    for i in range(len(n)):\n",
    "        if n[i]==0:\n",
    "            n[i]=-1\n",
    "    return n\n",
    "n=[0,2,0,4]\n",
    "print(replace(n))\n",
    "            \n"
   ]
  },
  {
   "cell_type": "code",
   "execution_count": 241,
   "id": "7e35931a",
   "metadata": {},
   "outputs": [
    {
     "name": "stdout",
     "output_type": "stream",
     "text": [
      "True\n"
     ]
    }
   ],
   "source": [
    "# 21. Check if All Elements Are Same\n",
    "# Problem: Check whether all elements in the list are identical. Input: [5, 5, 5, 5] Output: True\n",
    "def check(n):\n",
    "    flag=True\n",
    "    for i in range(len(n)):\n",
    "        for j in range(1,len(n)):\n",
    "            if n[i]!=n[j]:\n",
    "                flag=False\n",
    "    return flag\n",
    "n=[5,5,5]\n",
    "print(check(n))"
   ]
  },
  {
   "cell_type": "code",
   "execution_count": 242,
   "id": "d89bc30f",
   "metadata": {},
   "outputs": [
    {
     "name": "stdout",
     "output_type": "stream",
     "text": [
      "{1: 2, 2: 2, 3: 1}\n"
     ]
    }
   ],
   "source": [
    "# 22. Find Frequency of All Elements\n",
    "# Problem: Return a dictionary with the frequency of each element. Input: [1, 2, 2, 3, 1] Output: {1: 2, 2: 2, 3: 1}\n",
    "def freq(n):\n",
    "    res={}\n",
    "    for i in n:\n",
    "        if i  in  res:\n",
    "            res[i]+=1\n",
    "        else:\n",
    "            res[i]=1\n",
    "    return res\n",
    "n=[1,2,2,3,1]\n",
    "print(freq(n))"
   ]
  },
  {
   "cell_type": "code",
   "execution_count": 245,
   "id": "6b4dd1aa",
   "metadata": {},
   "outputs": [
    {
     "name": "stdout",
     "output_type": "stream",
     "text": [
      "[1, 2, 3, 4]\n"
     ]
    }
   ],
   "source": [
    "# 23. Flatten a Nested List\n",
    "# Problem: Convert a nested list into a single list. Input: [[1, 2], [3, 4]] Output: [1, 2, 3, 4]\n",
    "def flatten(n):\n",
    "    res=[]\n",
    "    for i in range(len(n)):\n",
    "        for j in range(len(n[i])):\n",
    "            res.append(n[i][j])\n",
    "    return res\n",
    "n=[[1,2],[3,4]]\n",
    "print(flatten(n))"
   ]
  },
  {
   "cell_type": "code",
   "execution_count": 246,
   "id": "bf45726e",
   "metadata": {},
   "outputs": [
    {
     "name": "stdout",
     "output_type": "stream",
     "text": [
      "even:[2, 4] odd:[1, 3, 5]\n"
     ]
    }
   ],
   "source": [
    "# 24. Split a List into Even and Odd Lists\n",
    "# Problem: Separate even and odd numbers into different lists. Input: [1, 2, 3, 4, 5] Output: Even: [2, 4], Odd: [1, 3, 5]\n",
    "def split(n):\n",
    "    even=[]\n",
    "    odd=[]\n",
    "    for i in n:\n",
    "        if i%2==0:\n",
    "            even.append(i)\n",
    "        else:\n",
    "            odd.append(i)\n",
    "    return f\"even:{even} odd:{odd}\"\n",
    "n=[1,2,3,4,5]\n",
    "print(split(n))"
   ]
  },
  {
   "cell_type": "code",
   "execution_count": 250,
   "id": "6863aaf6",
   "metadata": {},
   "outputs": [
    {
     "name": "stdout",
     "output_type": "stream",
     "text": [
      "[(1, 4), (2, 3)]\n"
     ]
    }
   ],
   "source": [
    "# 25. Find Pair of Elements with Given Sum\n",
    "# Problem: Find all pairs in the list whose sum equals a given value. Input: [1, 2, 3, 4], sum = 5 Output: [(1, 4), (2, 3)]\n",
    "def pair(n,tar):\n",
    "    res=[]\n",
    "    for i in range(len(n)):\n",
    "        for j in range(i+1,len(n)):\n",
    "            if n[i]+n[j]==tar:\n",
    "                res.append((n[i],n[j]))\n",
    "    return res\n",
    "n=[1,2,3,4]\n",
    "tar=5\n",
    "print(pair(n,tar))\n"
   ]
  },
  {
   "cell_type": "code",
   "execution_count": 251,
   "id": "3017afc7",
   "metadata": {},
   "outputs": [
    {
     "name": "stdout",
     "output_type": "stream",
     "text": [
      "[2, 4]\n"
     ]
    }
   ],
   "source": [
    "# 26. Remove All Odd Numbers\n",
    "# Problem: Remove all odd numbers from the list. Input: [1, 2, 3, 4, 5] Output: [2, 4]\n",
    "def odd(n):\n",
    "    for i in n:\n",
    "        if i%2!=0:\n",
    "            n.remove(i)\n",
    "    return n\n",
    "n=[1,2,3,4,5]\n",
    "print(odd(n))"
   ]
  },
  {
   "cell_type": "code",
   "execution_count": 252,
   "id": "c5d10130",
   "metadata": {},
   "outputs": [
    {
     "name": "stdout",
     "output_type": "stream",
     "text": [
      "[1, 3, 5]\n"
     ]
    }
   ],
   "source": [
    "# 27. Remove All Even Numbers\n",
    "# Problem: Remove all even numbers from the list. Input: [1, 2, 3, 4, 5] Output: [1, 3, 5]\n",
    "def even(n):\n",
    "    for i in n:\n",
    "        if i%2==0:\n",
    "            n.remove(i)\n",
    "    return n\n",
    "n=[1,2,3,4,5]\n",
    "print(even(n))"
   ]
  },
  {
   "cell_type": "code",
   "execution_count": 253,
   "id": "46440313",
   "metadata": {},
   "outputs": [
    {
     "name": "stdout",
     "output_type": "stream",
     "text": [
      "[2, 4, 6]\n"
     ]
    }
   ],
   "source": [
    "# 28. Multiply All Elements by a Number\n",
    "# Problem: Multiply every element in the list by a fixed number. Input: [1, 2, 3], multiply by 2 Output: [2, 4, 6]\n",
    "def multi(n,m):\n",
    "    for i in range(len(n)):\n",
    "        n[i]=n[i]*m\n",
    "    return n\n",
    "n=[1,2,3]\n",
    "m=2\n",
    "print(multi(n,m))\n"
   ]
  },
  {
   "cell_type": "code",
   "execution_count": 254,
   "id": "9dd19b6c",
   "metadata": {},
   "outputs": [
    {
     "name": "stdout",
     "output_type": "stream",
     "text": [
      "6\n"
     ]
    }
   ],
   "source": [
    "# 29. Find Difference Between Max and Min\n",
    "# Problem: Return the difference between the largest and smallest element. Input: [4, 2, 7, 1] Output: 6\n",
    "def maxmin(n):\n",
    "    return max(n)-min(n)\n",
    "n=[4,2,7,1]\n",
    "print(maxmin(n))"
   ]
  },
  {
   "cell_type": "code",
   "execution_count": 255,
   "id": "8ba56530",
   "metadata": {},
   "outputs": [
    {
     "name": "stdout",
     "output_type": "stream",
     "text": [
      "True\n"
     ]
    }
   ],
   "source": [
    "# 30. Check if a List is Empty\n",
    "# Problem: Write a function that returns True if the list is empty, else False. Input: [] Output: True\n",
    "def list(n):\n",
    "    for i in range(len(n)):\n",
    "        return False\n",
    "    return True\n",
    "n=[]\n",
    "print(list(n))"
   ]
  },
  {
   "cell_type": "code",
   "execution_count": 260,
   "id": "0c9fba2f",
   "metadata": {},
   "outputs": [
    {
     "name": "stdout",
     "output_type": "stream",
     "text": [
      "[1, 2, 3, 4]\n"
     ]
    }
   ],
   "source": [
    "# 31. Insert Element at Specific Index\n",
    "# Problem: Insert a value at a specific position. Input: [1, 2, 4], insert 3 at index 2 Output: [1, 2, 3, 4]\n",
    "def insert(n,val,index):\n",
    "    res=[]\n",
    "    for i in range(len(n)):\n",
    "        if i==index:\n",
    "            res.append(val)\n",
    "        res.append(n[i])\n",
    "        if index==len(n):\n",
    "            res.append(val) \n",
    "    \n",
    "    return res\n",
    "n=[1,2,4]\n",
    "val=3\n",
    "index=2\n",
    "print(insert( n,val,index))"
   ]
  },
  {
   "cell_type": "code",
   "execution_count": 262,
   "id": "add4b9cc",
   "metadata": {},
   "outputs": [
    {
     "name": "stdout",
     "output_type": "stream",
     "text": [
      "[1, 3]\n"
     ]
    }
   ],
   "source": [
    "# 32. Remove All Instances of a Value\n",
    "# Problem: Remove all occurrences of a specific value. Input: [1, 2, 2, 3], remove 2 Output: [1, 3]\n",
    "def remove(n,tar):\n",
    "    for i in range(len(n)-1,-1,-1):\n",
    "        if n[i]==tar:\n",
    "            n.remove(n[i])\n",
    "    return n\n",
    "n=[1,2,2,3]\n",
    "tar=2\n",
    "print(remove(n,tar))"
   ]
  },
  {
   "cell_type": "code",
   "execution_count": 264,
   "id": "2b129a64",
   "metadata": {},
   "outputs": [
    {
     "name": "stdout",
     "output_type": "stream",
     "text": [
      "1\n"
     ]
    }
   ],
   "source": [
    "# 33. Get Index of an Element\n",
    "# Problem: Return the index of a given value. Input: [10, 20, 30], find index of 20 Output: 1\n",
    "def indexs(n,index):\n",
    "    return n.index(index)\n",
    "n=[10,20,30]\n",
    "index=20\n",
    "print(indexs(n,index))"
   ]
  },
  {
   "cell_type": "code",
   "execution_count": null,
   "id": "1d96f0bf",
   "metadata": {},
   "outputs": [
    {
     "name": "stdout",
     "output_type": "stream",
     "text": [
      "[1, 4, 9]\n"
     ]
    }
   ],
   "source": [
    "# 34. Square All Elements in a List\n",
    "# Problem: Return a list with each element squared. Input: [1, 2, 3] Output: [1, 4, 9]\n",
    "def square(n):\n",
    "    for i in range(len(n)):\n",
    "        n[i]=n[i]**2\n",
    "    return n\n",
    "n=[1,2,3]\n",
    "\n",
    "print(square(n))"
   ]
  },
  {
   "cell_type": "code",
   "execution_count": 269,
   "id": "37521061",
   "metadata": {},
   "outputs": [
    {
     "name": "stdout",
     "output_type": "stream",
     "text": [
      "[2, 4]\n"
     ]
    }
   ],
   "source": [
    "# 35. Filter Out Negative Numbers\n",
    "# Problem: Remove all negative values from the list. Input: [-1, 2, -3, 4] Output: [2, 4]\n",
    "def filter(n):\n",
    "    for i in range(len(n)-1,-1,-1):\n",
    "        if n[i]<0:\n",
    "            n.remove(n[i])\n",
    "    return n\n",
    "n=[-1,-1,2,4]\n",
    "print(filter(n))"
   ]
  },
  {
   "cell_type": "code",
   "execution_count": null,
   "id": "92a54610",
   "metadata": {},
   "outputs": [
    {
     "name": "stdout",
     "output_type": "stream",
     "text": [
      "[5, 8]\n"
     ]
    }
   ],
   "source": [
    "# 36. Get Elements Greater Than a Value\n",
    "# Problem: Return elements greater than a specified number. Input: [1, 5, 8, 3], greater than 4 Output: [5, 8]\n",
    "def greater(n):\n",
    "    val=4\n",
    "    return [ i  for i in n if i>val ]\n",
    "n=[1,5,8,3]\n",
    "print(greater(n))"
   ]
  },
  {
   "cell_type": "code",
   "execution_count": 278,
   "metadata": {},
   "outputs": [
    {
     "name": "stdout",
     "output_type": "stream",
     "text": [
      "[2, 3]\n"
     ]
    }
   ],
   "source": [
    "# 37. Find Duplicates in List\n",
    "# Problem: Return a list of duplicated values. Input: [1, 2, 2, 3, 3, 4] Output: [2, 3]\n",
    "def duplicate(n):\n",
    "    res=[]\n",
    "    dupli=[]\n",
    "    for i in n:\n",
    "        if i not in res:\n",
    "            res.append(i)\n",
    "        elif i not in dupli:\n",
    "            dupli.append(i)\n",
    "    \n",
    "    return dupli\n",
    "n=[1,2,2,3,3,4]\n",
    "print(duplicate(n))"
   ]
  },
  {
   "cell_type": "code",
   "execution_count": 284,
   "id": "6bef974a",
   "metadata": {},
   "outputs": [
    {
     "name": "stdout",
     "output_type": "stream",
     "text": [
      "[3, 4, 1, 2]\n"
     ]
    }
   ],
   "source": [
    "# 38. Rotate List Elements Right\n",
    "# Problem: Rotate list by k positions to the right. Input: [1, 2, 3, 4], k = 2 Output: [3, 4, 1, 2]\n",
    "def rotate(n,k):\n",
    "    k=k%len(n)\n",
    "    return  n[k:] +n[:k]\n",
    "n=[1,2,3,4]\n",
    "k=2\n",
    "print(rotate(n,k))"
   ]
  },
  {
   "cell_type": "code",
   "execution_count": 285,
   "id": "ff6c3de8",
   "metadata": {},
   "outputs": [
    {
     "name": "stdout",
     "output_type": "stream",
     "text": [
      "True\n"
     ]
    }
   ],
   "source": [
    "# 39. Check If List Contains a Value\n",
    "# Problem: Return True if list contains a specific value. Input: [1, 2, 3], check 2 Output: True\n",
    "def list(n):\n",
    "    m=2\n",
    "    if m in n:\n",
    "        return True\n",
    "    return False\n",
    "n=[1,2,3]\n",
    "print(list(n))"
   ]
  },
  {
   "cell_type": "code",
   "execution_count": 287,
   "id": "cf87e83d",
   "metadata": {},
   "outputs": [
    {
     "name": "stdout",
     "output_type": "stream",
     "text": [
      "[[1, 2], [3, 4], [5, 6]]\n"
     ]
    }
   ],
   "source": [
    "# 40. Chunk List into Smaller Lists\n",
    "# Problem: Break a list into chunks of given size. Input: [1, 2, 3, 4, 5, 6], chunk size 2 Output: [[1, 2], [3, 4], [5, 6]]\n",
    "def chunk(n):\n",
    "    chunk=2\n",
    "    res=[]\n",
    "    for i in range(0,len(n),chunk):\n",
    "       res.append( n[i:i+chunk])\n",
    "    return res\n",
    "n=[1,2,3,4,5,6]\n",
    "print(chunk(n))"
   ]
  },
  {
   "cell_type": "code",
   "execution_count": 288,
   "id": "e32ad45b",
   "metadata": {},
   "outputs": [
    {
     "name": "stdout",
     "output_type": "stream",
     "text": [
      "{1, 2, 3, 4}\n"
     ]
    }
   ],
   "source": [
    "# Set-Based Questions\n",
    "# 1. Add Element to a Set\n",
    "# Problem: Add an item to a given set.\n",
    "# Explanation: Use add() method.\n",
    "# Input: {1, 2, 3}, add 4\n",
    "def item(n,m):\n",
    "    n.add(m)\n",
    "    return n\n",
    "n={1,2,3}\n",
    "m=4\n",
    "print(item(n,m))\n"
   ]
  },
  {
   "cell_type": "code",
   "execution_count": 289,
   "id": "591660c2",
   "metadata": {},
   "outputs": [
    {
     "name": "stdout",
     "output_type": "stream",
     "text": [
      "{1, 3}\n"
     ]
    }
   ],
   "source": [
    "# 2. Remove Element from Set\n",
    "# Problem: Remove a specific element from a set.\n",
    "# Explanation: Use remove() or discard() to avoid KeyError.\n",
    "# Input: {1, 2, 3}, remove 2\n",
    "def remove(n,m):\n",
    "    n.remove(m)\n",
    "    return n\n",
    "n={1,2,3}\n",
    "m=2\n",
    "print(remove(n,m))"
   ]
  },
  {
   "cell_type": "code",
   "execution_count": 297,
   "id": "534e709f",
   "metadata": {},
   "outputs": [
    {
     "name": "stdout",
     "output_type": "stream",
     "text": [
      "{1, 2, 4}\n"
     ]
    }
   ],
   "source": [
    "# 3. Union of Two Sets\n",
    "# Problem: Find union of two sets.\n",
    "# Explanation: Use | operator or union() method.\n",
    "# Input: {1, 2}, {2, 3}\n",
    "\n",
    "def unions(n,m):\n",
    "    res=n.union(m)\n",
    "    return res\n",
    "    \n",
    "n={1,2}\n",
    "m={2,4}\n",
    "print(unions(n,m))"
   ]
  },
  {
   "cell_type": "code",
   "execution_count": 298,
   "id": "d4296465",
   "metadata": {},
   "outputs": [
    {
     "name": "stdout",
     "output_type": "stream",
     "text": [
      "{2}\n"
     ]
    }
   ],
   "source": [
    "# 4. Intersection of Sets\n",
    "# Problem: Find common elements in two sets.\n",
    "# Explanation: Use & operator or intersection().\n",
    "# Input: {1, 2}, {2, 3}\n",
    "def inter(n,m):\n",
    "    res=n.intersection(m)\n",
    "    return res\n",
    "    \n",
    "n={1,2}\n",
    "m={2,4}\n",
    "print(inter(n,m))"
   ]
  },
  {
   "cell_type": "code",
   "execution_count": 299,
   "id": "9b5bc0d4",
   "metadata": {},
   "outputs": [
    {
     "name": "stdout",
     "output_type": "stream",
     "text": [
      "{1}\n"
     ]
    }
   ],
   "source": [
    "# 5. Difference of Sets\n",
    "# Problem: Elements present in first set but not in second.\n",
    "# Explanation: Use - or difference() method.\n",
    "# Input: {1, 2, 3}, {2, 3}\n",
    "def diff(n,m):\n",
    "    res=n.difference(m)\n",
    "    return res\n",
    "    \n",
    "n={1,2}\n",
    "m={2,4}\n",
    "print(diff(n,m))"
   ]
  },
  {
   "cell_type": "code",
   "execution_count": 300,
   "id": "16a6d8db",
   "metadata": {},
   "outputs": [
    {
     "name": "stdout",
     "output_type": "stream",
     "text": [
      "True\n"
     ]
    }
   ],
   "source": [
    "# 6. Check Subset\n",
    "# Problem: Check if one set is a subset of another.\n",
    "# Explanation: Use issubset() method.\n",
    "# Input: {1, 2}, {1, 2, 3}\n",
    "def sub(n,m):\n",
    "    \n",
    "    return n.issubset(m)\n",
    "    \n",
    "n={1,2}\n",
    "m={1,2,4}\n",
    "print(sub(n,m))"
   ]
  },
  {
   "cell_type": "code",
   "execution_count": 301,
   "id": "fc85a626",
   "metadata": {},
   "outputs": [
    {
     "name": "stdout",
     "output_type": "stream",
     "text": [
      "3\n"
     ]
    }
   ],
   "source": [
    "# 7. Set Length\n",
    "# Problem: Find number of elements in set.\n",
    "# Explanation: Use len().\n",
    "# Input: {1, 2, 3}\n",
    "def lenth(n):\n",
    "    count=0\n",
    "    for i in n:\n",
    "        count+=1\n",
    "    return count\n",
    "n={1,2,3}\n",
    "print(lenth(n))"
   ]
  },
  {
   "cell_type": "code",
   "execution_count": 305,
   "id": "f6b31d61",
   "metadata": {},
   "outputs": [
    {
     "name": "stdout",
     "output_type": "stream",
     "text": [
      "set()\n"
     ]
    }
   ],
   "source": [
    "# 8. Clear a Set\n",
    "# Problem: Remove all elements from a set.\n",
    "# Explanation: Use clear().\n",
    "# Input: {1, 2, 3}\n",
    "def clear(n):\n",
    "    n.clear()\n",
    "    return n\n",
    "n={1,2,3}\n",
    "print(clear(n))"
   ]
  },
  {
   "cell_type": "code",
   "execution_count": 306,
   "id": "c1381e85",
   "metadata": {},
   "outputs": [
    {
     "name": "stdout",
     "output_type": "stream",
     "text": [
      "{1, 4}\n"
     ]
    }
   ],
   "source": [
    "# 9. Symmetric Difference\n",
    "# Problem: Find elements in either set but not in both.\n",
    "# Explanation: Use ^ or symmetric_difference()\n",
    "# Input: {1, 2, 3}, {2, 3, 4}\n",
    "# Output: {1, 4}\n",
    "def symentic(n,m):\n",
    "    res=n.symmetric_difference(m)\n",
    "    return res\n",
    "n={1,2,3}\n",
    "m={2,3,4}\n",
    "print(symentic(n,m))"
   ]
  },
  {
   "cell_type": "code",
   "execution_count": 307,
   "id": "fdf5fa4a",
   "metadata": {},
   "outputs": [
    {
     "name": "stdout",
     "output_type": "stream",
     "text": [
      "{1, 2, 3}\n"
     ]
    }
   ],
   "source": [
    "# 10. Convert List to Set\n",
    "# Problem: Remove duplicates using set.\n",
    "# Explanation: Use set() constructor.\n",
    "# Input: [1, 2, 2, 3]\n",
    "# Output: {1, 2, 3}\n",
    "def sets(n):\n",
    "    return set(n)\n",
    "n=[1,2,2,3]\n",
    "print(sets(n))"
   ]
  },
  {
   "cell_type": "code",
   "execution_count": 309,
   "id": "fffd8ba0",
   "metadata": {},
   "outputs": [
    {
     "name": "stdout",
     "output_type": "stream",
     "text": [
      "{'a': 1, 'b': 2}\n"
     ]
    }
   ],
   "source": [
    "# 11. Create a Dictionary from Two Lists\n",
    "# Problem: Combine two lists into a dictionary.\n",
    "# Explanation: Use zip() function.\n",
    "# Input: [\"a\", \"b\"], [1, 2]\n",
    "def dic(n,m):\n",
    "    d={}\n",
    "    for i in range(len(n)):\n",
    "        d[n[i]]=m[i]\n",
    "    return d\n",
    "n=[\"a\",\"b\"]\n",
    "m=[1,2]\n",
    "print(dic(n,m))"
   ]
  },
  {
   "cell_type": "code",
   "execution_count": 315,
   "id": "74090909",
   "metadata": {},
   "outputs": [
    {
     "name": "stdout",
     "output_type": "stream",
     "text": [
      "{'a': 2}\n"
     ]
    }
   ],
   "source": [
    "# 12. Update Dictionary Value\n",
    "# Problem: Change value for a specific key.\n",
    "# Explanation: Use assignment dict[key] = value.\n",
    "# Input: {\"a\": 1}, update a to 2\n",
    "def dic(n,v):\n",
    "    n.update({\"a\":2})\n",
    "    return n\n",
    "n={\"a\":1}\n",
    "v=2\n",
    "print(dic(n,v))"
   ]
  },
  {
   "cell_type": "code",
   "execution_count": 323,
   "id": "b3727fba",
   "metadata": {},
   "outputs": [
    {
     "name": "stdout",
     "output_type": "stream",
     "text": [
      "{'a': 1}\n"
     ]
    }
   ],
   "source": [
    "#     13. Remove Key from Dictionary\n",
    "# Problem: Delete a key-value pair.\n",
    "# Explanation: Use del or pop() method.\n",
    "# Input: {\"a\": 1, \"b\": 2}, remove b\n",
    "# Output: {\"a\": 1}\n",
    "def remove(n,m):\n",
    "    del n[m]\n",
    "    return n\n",
    "n={\"a\":1,\"b\":2}\n",
    "m=\"b\"\n",
    "print(remove(n,m))"
   ]
  },
  {
   "cell_type": "code",
   "execution_count": 325,
   "id": "c557a30d",
   "metadata": {},
   "outputs": [
    {
     "name": "stdout",
     "output_type": "stream",
     "text": [
      "True\n"
     ]
    }
   ],
   "source": [
    "# 14. Check Key Existence\n",
    "# Problem: Verify if a key exists.\n",
    "# Explanation: Use in operator.\n",
    "# Input: {\"x\": 1}, key = \"x\"\n",
    "# Output: True\n",
    "def check(n,m):\n",
    "    if m in n:\n",
    "        return True\n",
    "    return False\n",
    "n={\"x\":1}\n",
    "key=\"x\"\n",
    "print(check(n,key))"
   ]
  },
  {
   "cell_type": "code",
   "execution_count": 328,
   "id": "4407cbd7",
   "metadata": {},
   "outputs": [
    {
     "name": "stdout",
     "output_type": "stream",
     "text": [
      "('a', 10) ('b', 20) "
     ]
    }
   ],
   "source": [
    "# 15. Iterate Over Dictionary\n",
    "# Problem: Print all keys and values.\n",
    "# Explanation: Use .items() in loop.\n",
    "# Input: {\"a\": 10, \"b\": 20}\n",
    "# Output: a 10, b 20\n",
    "def dic(n):\n",
    "    for key in n.items():\n",
    "        print(key,end=\" \")\n",
    "n={\"a\":10,\"b\":20}\n",
    "dic(n)"
   ]
  },
  {
   "cell_type": "code",
   "execution_count": 329,
   "id": "dc99454b",
   "metadata": {},
   "outputs": [
    {
     "name": "stdout",
     "output_type": "stream",
     "text": [
      "2\n"
     ]
    }
   ],
   "source": [
    "# 16. Dictionary Length\n",
    "# Problem: Count total key-value pairs.\n",
    "# Explanation: Use len() function.\n",
    "# Input: {\"x\": 1, \"y\": 2}\n",
    "# Output: 2\n",
    "def lenth(n):\n",
    "    cnt=0\n",
    "    for i in n:\n",
    "        cnt+=1\n",
    "    return cnt\n",
    "n={\"x\":1,\"y\":2}\n",
    "print(lenth(n))\n"
   ]
  },
  {
   "cell_type": "code",
   "execution_count": 331,
   "id": "db83d724",
   "metadata": {},
   "outputs": [
    {
     "name": "stdout",
     "output_type": "stream",
     "text": [
      "{'a': 1, 'b': 2}\n"
     ]
    }
   ],
   "source": [
    "# 17. Merge Two Dictionaries\n",
    "# Problem: Combine two dictionaries.\n",
    "# Explanation: Use unpacking or update().\n",
    "# Input: {\"a\": 1}, {\"b\": 2}\n",
    "# Output: {\"a\": 1, \"b\": 2}\n",
    "def merge(n,m):\n",
    "    n.update(m)\n",
    "    return n\n",
    "n={\"a\":1}\n",
    "m={\"b\":2}\n",
    "print(merge(n,m))"
   ]
  },
  {
   "cell_type": "code",
   "execution_count": 339,
   "id": "9b5e3df4",
   "metadata": {},
   "outputs": [
    {
     "name": "stdout",
     "output_type": "stream",
     "text": [
      "0\n"
     ]
    }
   ],
   "source": [
    "# 18. Get Value with Default\n",
    "# Problem: Get value or default if key not found.\n",
    "# Explanation: Use get() method.\n",
    "# Input: {\"a\": 1}, get \"b\" with default 0\n",
    "# Output: 0\n",
    "def value(n):\n",
    "    \n",
    "    res=n.get(\"b\",0)\n",
    "    \n",
    "    return res\n",
    "n={\"a\":1}\n",
    "print(value(n))"
   ]
  },
  {
   "cell_type": "code",
   "execution_count": 343,
   "id": "ac65fe0e",
   "metadata": {},
   "outputs": [
    {
     "name": "stdout",
     "output_type": "stream",
     "text": [
      "{1: 1, 2: 2, 3: 1}\n"
     ]
    }
   ],
   "source": [
    "# 19. Count Frequency of Elements\n",
    "# Problem: Count frequency using dictionary.\n",
    "# Input: [1, 2, 2, 3]\n",
    "# Output: {1: 1, 2: 2, 3: 1}\n",
    "def count(n):\n",
    "    res={}\n",
    "    for i in n:\n",
    "        if i not in res:\n",
    "            res[i]=1\n",
    "        else:\n",
    "            res[i]+=1\n",
    "    return res\n",
    "n=[1,2,2,3]\n",
    "print(count(n))"
   ]
  },
  {
   "cell_type": "code",
   "execution_count": 342,
   "id": "127c39ef",
   "metadata": {},
   "outputs": [
    {
     "name": "stdout",
     "output_type": "stream",
     "text": [
      "{1: 'a', 2: 'b'}\n"
     ]
    }
   ],
   "source": [
    "# 20. Invert a Dictionary\n",
    "# Problem: Flip keys and values.\n",
    "# Input: {\"a\": 1, \"b\": 2}\n",
    "# Output: {1: \"a\", 2: \"b\"}\n",
    "def invert(n):\n",
    "    res={}\n",
    "    for key,val in n.items():\n",
    "        res[val]=key\n",
    "    return res\n",
    "n={\"a\":1,\"b\":2}\n",
    "print(invert(n))"
   ]
  },
  {
   "cell_type": "code",
   "execution_count": null,
   "id": "dddd699b",
   "metadata": {},
   "outputs": [],
   "source": []
  }
 ],
 "metadata": {
  "kernelspec": {
   "display_name": "Python 3",
   "language": "python",
   "name": "python3"
  },
  "language_info": {
   "codemirror_mode": {
    "name": "ipython",
    "version": 3
   },
   "file_extension": ".py",
   "mimetype": "text/x-python",
   "name": "python",
   "nbconvert_exporter": "python",
   "pygments_lexer": "ipython3",
   "version": "3.13.1"
  }
 },
 "nbformat": 4,
 "nbformat_minor": 5
}
